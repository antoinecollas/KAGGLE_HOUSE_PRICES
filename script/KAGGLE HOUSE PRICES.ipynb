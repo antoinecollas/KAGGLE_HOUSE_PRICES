{
 "cells": [
  {
   "cell_type": "markdown",
   "metadata": {},
   "source": [
    "## Data preparation:"
   ]
  },
  {
   "cell_type": "code",
   "execution_count": 1,
   "metadata": {
    "collapsed": true
   },
   "outputs": [],
   "source": [
    "import pandas as pd\n",
    "import numpy as np\n",
    "import matplotlib.pyplot as plt\n",
    "import seaborn as sns\n",
    "from sklearn.base import BaseEstimator, RegressorMixin\n",
    "from sklearn.linear_model import Ridge, Lasso, ElasticNet\n",
    "from sklearn.ensemble import RandomForestRegressor, ExtraTreesRegressor, AdaBoostRegressor, GradientBoostingRegressor\n",
    "from sklearn.svm import LinearSVR, SVR\n",
    "from sklearn.model_selection import train_test_split, RandomizedSearchCV, GridSearchCV, learning_curve, ShuffleSplit \n",
    "from sklearn.model_selection import KFold, cross_val_score, cross_val_predict\n",
    "from sklearn.metrics import mean_squared_log_error, mean_squared_error, make_scorer, r2_score\n",
    "from scipy.stats import randint, uniform, norm\n",
    "import data_preparation as prep\n",
    "from sklearn.dummy import DummyRegressor\n",
    "import xgboost as xgb\n",
    "import lightgbm as lgb\n",
    "\n",
    "N_JOBS = -1"
   ]
  },
  {
   "cell_type": "markdown",
   "metadata": {},
   "source": [
    "## Load data"
   ]
  },
  {
   "cell_type": "code",
   "execution_count": 2,
   "metadata": {
    "collapsed": true
   },
   "outputs": [],
   "source": [
    "X_train, y_train, X_test = prep.main()"
   ]
  },
  {
   "cell_type": "code",
   "execution_count": 3,
   "metadata": {},
   "outputs": [
    {
     "name": "stdout",
     "output_type": "stream",
     "text": [
      "    BldgType_1Fam  BldgType_2fmCon  BldgType_Duplex  BldgType_Twnhs  \\\n",
      "Id                                                                    \n",
      "1           0.452           -0.147           -0.197          -0.185   \n",
      "2           0.452           -0.147           -0.197          -0.185   \n",
      "\n",
      "    BldgType_TwnhsE  CentralAir_N  CentralAir_Y  Condition1_Artery  \\\n",
      "Id                                                                   \n",
      "1            -0.291        -0.268         0.268             -0.181   \n",
      "2            -0.291        -0.268         0.268             -0.181   \n",
      "\n",
      "    Condition1_Feedr  Condition1_Norm   ...    PoolQC  ScreenPorch  Street  \\\n",
      "Id                                      ...                                  \n",
      "1             -0.243            0.402   ...    -0.050       -0.308   0.064   \n",
      "2              4.109           -2.486   ...    -0.050       -0.308   0.064   \n",
      "\n",
      "    TotRmsAbvGrd  TotalBsmtSF  Utilities  WoodDeckSF  YearBuilt  YearRemodAdd  \\\n",
      "Id                                                                              \n",
      "1          0.995       -0.449      0.019      -0.933      1.048         0.898   \n",
      "2         -0.285        0.500      0.019       1.335      0.156        -0.394   \n",
      "\n",
      "    YrSold  \n",
      "Id          \n",
      "1    0.157  \n",
      "2   -0.603  \n",
      "\n",
      "[2 rows x 254 columns]\n"
     ]
    }
   ],
   "source": [
    "print(X_train.head(2))"
   ]
  },
  {
   "cell_type": "code",
   "execution_count": 4,
   "metadata": {},
   "outputs": [
    {
     "name": "stdout",
     "output_type": "stream",
     "text": [
      "Id\n",
      "1   12.248\n",
      "2   12.109\n",
      "Name: SalePrice, dtype: float64\n"
     ]
    }
   ],
   "source": [
    "print(y_train.head(2))"
   ]
  },
  {
   "cell_type": "code",
   "execution_count": 5,
   "metadata": {},
   "outputs": [
    {
     "name": "stdout",
     "output_type": "stream",
     "text": [
      "count   1456.000\n",
      "mean      12.022\n",
      "std        0.396\n",
      "min       10.460\n",
      "25%       11.775\n",
      "50%       12.002\n",
      "75%       12.274\n",
      "max       13.346\n",
      "Name: SalePrice, dtype: float64\n"
     ]
    }
   ],
   "source": [
    "print(y_train.describe())"
   ]
  },
  {
   "cell_type": "code",
   "execution_count": 6,
   "metadata": {},
   "outputs": [
    {
     "data": {
      "image/png": "[encoded data removed]",
      "text/plain": [
       "<matplotlib.figure.Figure at 0x7f469ed205f8>"
      ]
     },
     "metadata": {},
     "output_type": "display_data"
    }
   ],
   "source": [
    "sns.distplot(y_train, fit=norm)\n",
    "plt.show()"
   ]
  },
  {
   "cell_type": "markdown",
   "metadata": {},
   "source": [
    "https://datascience.stackexchange.com/questions/20237/why-do-we-convert-skewed-data-into-a-normal-distribution"
   ]
  },
  {
   "cell_type": "code",
   "execution_count": 7,
   "metadata": {},
   "outputs": [
    {
     "name": "stdout",
     "output_type": "stream",
     "text": [
      "      BldgType_1Fam  BldgType_2fmCon  BldgType_Duplex  BldgType_Twnhs  \\\n",
      "Id                                                                      \n",
      "1461          0.452           -0.147           -0.197          -0.185   \n",
      "1462          0.452           -0.147           -0.197          -0.185   \n",
      "\n",
      "      BldgType_TwnhsE  CentralAir_N  CentralAir_Y  Condition1_Artery  \\\n",
      "Id                                                                     \n",
      "1461           -0.291        -0.268         0.268             -0.181   \n",
      "1462           -0.291        -0.268         0.268             -0.181   \n",
      "\n",
      "      Condition1_Feedr  Condition1_Norm   ...    PoolQC  ScreenPorch  Street  \\\n",
      "Id                                        ...                                  \n",
      "1461             4.109           -2.486   ...    -0.050        2.861   0.064   \n",
      "1462            -0.243            0.402   ...    -0.050       -0.308   0.064   \n",
      "\n",
      "      TotRmsAbvGrd  TotalBsmtSF  Utilities  WoodDeckSF  YearBuilt  \\\n",
      "Id                                                                  \n",
      "1461        -0.926       -0.388      0.019       0.914     -0.339   \n",
      "1462        -0.285        0.656      0.019       1.501     -0.438   \n",
      "\n",
      "      YearRemodAdd  YrSold  \n",
      "Id                          \n",
      "1461        -1.112   1.677  \n",
      "1462        -1.256   1.677  \n",
      "\n",
      "[2 rows x 254 columns]\n"
     ]
    }
   ],
   "source": [
    "print(X_test.head(2))"
   ]
  },
  {
   "cell_type": "markdown",
   "metadata": {},
   "source": [
    "## Submission function"
   ]
  },
  {
   "cell_type": "code",
   "execution_count": 8,
   "metadata": {
    "collapsed": true
   },
   "outputs": [],
   "source": [
    "def submission(model, X_test, file):\n",
    "    Id = pd.DataFrame(X_test.index, columns=['Id'])\n",
    "    y_pred = np.exp(model.predict(X_test))\n",
    "    print(y_pred)\n",
    "    prediction = pd.DataFrame(y_pred, columns=['SalePrice'])\n",
    "    res = pd.concat([Id, prediction], axis=1)\n",
    "    res.to_csv(path_or_buf=\"submission_\"+file,index=False)"
   ]
  },
  {
   "cell_type": "markdown",
   "metadata": {},
   "source": [
    "## Score function"
   ]
  },
  {
   "cell_type": "code",
   "execution_count": 9,
   "metadata": {
    "collapsed": true
   },
   "outputs": [],
   "source": [
    "def score(model, X, y):\n",
    "    n_folds = 5\n",
    "    kf = KFold(n_folds, shuffle=True, random_state=42).get_n_splits(X)\n",
    "    scores= np.sqrt(-cross_val_score(model, X, y, scoring=\"neg_mean_squared_error\", cv = kf))\n",
    "    print(\"scores=\", scores)\n",
    "    print(\"Score: mean=\"+str(scores.mean())+\" std=\"+str(scores.std()))"
   ]
  },
  {
   "cell_type": "markdown",
   "metadata": {},
   "source": [
    "## Grid search"
   ]
  },
  {
   "cell_type": "code",
   "execution_count": 10,
   "metadata": {
    "collapsed": true
   },
   "outputs": [],
   "source": [
    "def optimize_hyperparameters(model, param_grid, X, y):\n",
    "    grid_search = GridSearchCV(model, param_grid, scoring=\"neg_mean_squared_error\", n_jobs=N_JOBS, cv=3, verbose=1)\n",
    "    grid_search.fit(X, y)\n",
    "    print(\"Best params:\")\n",
    "    print(grid_search.best_params_)"
   ]
  },
  {
   "cell_type": "markdown",
   "metadata": {},
   "source": [
    "## Randomized search"
   ]
  },
  {
   "cell_type": "code",
   "execution_count": 11,
   "metadata": {
    "collapsed": true
   },
   "outputs": [],
   "source": [
    "def optimize_hyperparameters_random(model, param_dist, n_iterations, X, y, n_jobs):\n",
    "    randomized_search = RandomizedSearchCV(model, param_distributions=param_dist, n_iter=n_iterations, scoring=\"neg_mean_squared_error\", n_jobs=n_jobs, cv=3, verbose=1)\n",
    "    randomized_search.fit(X, y)\n",
    "    print(\"Best params:\")\n",
    "    print(randomized_search.best_params_)"
   ]
  },
  {
   "cell_type": "markdown",
   "metadata": {},
   "source": [
    "## Linear model"
   ]
  },
  {
   "cell_type": "markdown",
   "metadata": {},
   "source": [
    "### Ridge"
   ]
  },
  {
   "cell_type": "code",
   "execution_count": 12,
   "metadata": {
    "collapsed": true
   },
   "outputs": [],
   "source": [
    "class PositiveRidge(Ridge): \n",
    "    def __init__(self, alpha=1.0, fit_intercept=True, normalize=False, random_state=42, negative_values=0):\n",
    "        Ridge.__init__(self, alpha, fit_intercept, normalize, random_state)\n",
    "        if negative_values < 0:\n",
    "            self.negative_values = 0\n",
    "        else:\n",
    "            self.negative_values = negative_values\n",
    "\n",
    "    def predict(self, X, y=None): \n",
    "        y_pred = Ridge.predict(self, X)\n",
    "        #if(y_pred[y_pred < 0].sum() < 0):\n",
    "        #    print(\"====Replace negative values====\")\n",
    "        y_pred[y_pred < 0] = self.negative_values\n",
    "        return y_pred"
   ]
  },
  {
   "cell_type": "code",
   "execution_count": 13,
   "metadata": {
    "collapsed": true
   },
   "outputs": [],
   "source": [
    "param_dist = {\n",
    "    \"alpha\": uniform(loc=0, scale=300),\n",
    "    \"fit_intercept\": [True],\n",
    "    \"normalize\": [False],\n",
    "    \"random_state\": [42],\n",
    "    \"negative_values\": uniform(loc=1, scale=300000),\n",
    "}\n",
    "model = PositiveRidge()\n",
    "#optimize_hyperparameters_random(model, param_dist, 1000, X_train, y_train.values.ravel(), n_jobs=8)"
   ]
  },
  {
   "cell_type": "code",
   "execution_count": 14,
   "metadata": {},
   "outputs": [
    {
     "name": "stdout",
     "output_type": "stream",
     "text": [
      "scores= [ 0.10972043  0.11916625  0.1260496   0.11265393  0.11450826]\n",
      "Score: mean=0.116419696539 std=0.00570952644634\n"
     ]
    }
   ],
   "source": [
    "ridge = PositiveRidge(alpha=176.22651217200971, fit_intercept=True, negative_values=0, normalize=False, random_state=42)\n",
    "score(ridge, X_train, y_train.values.ravel()) #0.116"
   ]
  },
  {
   "cell_type": "code",
   "execution_count": 15,
   "metadata": {},
   "outputs": [
    {
     "name": "stdout",
     "output_type": "stream",
     "text": [
      "[ 123566.54965774  163647.57026157  182052.32147979 ...,  165255.00775944\n",
      "  119018.10983571  217861.5148297 ]\n"
     ]
    }
   ],
   "source": [
    "ridge.fit(X_train, y_train)\n",
    "submission(ridge, X_test, \"ridge\")"
   ]
  },
  {
   "cell_type": "markdown",
   "metadata": {},
   "source": [
    "### Lasso"
   ]
  },
  {
   "cell_type": "code",
   "execution_count": 16,
   "metadata": {
    "collapsed": true
   },
   "outputs": [],
   "source": [
    "class PositiveLasso(Lasso): \n",
    "    def __init__(self, alpha=1.0, fit_intercept=True, normalize=False, max_iter=10000, random_state=42, negative_values=0):\n",
    "        Lasso.__init__(self, alpha=alpha, fit_intercept=fit_intercept, normalize=normalize, max_iter=max_iter, random_state=random_state)\n",
    "        if negative_values < 0:\n",
    "            self.negative_values = 0\n",
    "        else:\n",
    "            self.negative_values = negative_values\n",
    "\n",
    "    def predict(self, X, y=None): \n",
    "        y_pred = Lasso.predict(self, X)\n",
    "        #if(y_pred[y_pred < 0].sum() < 0):\n",
    "        #    print(\"====Replace negative values====\")\n",
    "        y_pred[y_pred < 0] = self.negative_values\n",
    "        return y_pred"
   ]
  },
  {
   "cell_type": "code",
   "execution_count": 17,
   "metadata": {
    "collapsed": true,
    "scrolled": true
   },
   "outputs": [],
   "source": [
    "param_dist = {\n",
    "    \"alpha\": uniform(loc=0, scale=50000),\n",
    "    \"fit_intercept\": [True],\n",
    "    \"normalize\": [False],\n",
    "    \"max_iter\": [100000],\n",
    "    \"random_state\": [42],\n",
    "    \"negative_values\": uniform(loc=1, scale=300000),\n",
    "}\n",
    "model = PositiveLasso()\n",
    "#optimize_hyperparameters_random(model, param_dist, 1000, X_train, y_train.values.ravel(), n_jobs=8)"
   ]
  },
  {
   "cell_type": "code",
   "execution_count": 18,
   "metadata": {},
   "outputs": [
    {
     "name": "stdout",
     "output_type": "stream",
     "text": [
      "scores= [ 0.38687812  0.42585545  0.40101404  0.38336099  0.38196752]\n",
      "Score: mean=0.395815225071 std=0.0164692512447\n"
     ]
    }
   ],
   "source": [
    "lasso = PositiveLasso(alpha=28537.611854185361, fit_intercept=True, max_iter=10000, negative_values=0, normalize=False, random_state=42)\n",
    "score(lasso, X_train, y_train.values.ravel()) #0.40"
   ]
  },
  {
   "cell_type": "markdown",
   "metadata": {},
   "source": [
    "### Elastic net"
   ]
  },
  {
   "cell_type": "code",
   "execution_count": 19,
   "metadata": {
    "collapsed": true
   },
   "outputs": [],
   "source": [
    "class PositiveElasticNet(ElasticNet): \n",
    "    def __init__(self, alpha=1.0, l1_ratio=0.5, fit_intercept=True, normalize=False, max_iter=10000, random_state=42, negative_values=0):\n",
    "        ElasticNet.__init__(self, alpha=alpha, l1_ratio=l1_ratio, fit_intercept=fit_intercept, normalize=normalize, max_iter=max_iter, random_state=random_state)\n",
    "        if negative_values < 0:\n",
    "            self.negative_values = 0\n",
    "        else:\n",
    "            self.negative_values = negative_values\n",
    "\n",
    "    def predict(self, X, y=None): \n",
    "        y_pred = ElasticNet.predict(self, X)\n",
    "        #if(y_pred[y_pred < 0].sum() < 0):\n",
    "        #    print(\"====Replace negative values====\")\n",
    "        y_pred[y_pred < 0] = self.negative_values\n",
    "        return y_pred"
   ]
  },
  {
   "cell_type": "code",
   "execution_count": 20,
   "metadata": {
    "collapsed": true
   },
   "outputs": [],
   "source": [
    "param_dist = {\n",
    "    \"alpha\": uniform(loc=0, scale=1),\n",
    "    \"l1_ratio\": uniform(loc=0, scale=1),\n",
    "    \"fit_intercept\": [True],\n",
    "    \"normalize\": [False],\n",
    "    \"max_iter\": [100000],\n",
    "    \"random_state\": [42],\n",
    "    \"negative_values\": uniform(loc=1, scale=300000),\n",
    "}\n",
    "model = PositiveElasticNet()\n",
    "#optimize_hyperparameters_random(model, param_dist, 1000, X_train, y_train.values.ravel(), n_jobs=8)"
   ]
  },
  {
   "cell_type": "code",
   "execution_count": 21,
   "metadata": {},
   "outputs": [
    {
     "name": "stdout",
     "output_type": "stream",
     "text": [
      "scores= [ 0.10160697  0.11061807  0.11956958  0.10952906  0.11034564]\n",
      "Score: mean=0.11033386485 std=0.00569536009044\n"
     ]
    }
   ],
   "source": [
    "elastic_net = PositiveElasticNet(alpha=0.0048016016919922855, fit_intercept=True, l1_ratio=0.88336787754196211, max_iter=100000, negative_values=0, normalize=False, random_state=42)\n",
    "score(elastic_net, X_train, y_train.values.ravel()) #0.11033386485"
   ]
  },
  {
   "cell_type": "code",
   "execution_count": 22,
   "metadata": {},
   "outputs": [
    {
     "name": "stdout",
     "output_type": "stream",
     "text": [
      "[ 121568.54107706  158996.29781961  180366.28486427 ...,  164451.1419055\n",
      "  122051.85513069  228486.87614812]\n"
     ]
    }
   ],
   "source": [
    "elastic_net.fit(X_train, y_train)\n",
    "submission(elastic_net, X_test, \"elastic_net\")"
   ]
  },
  {
   "cell_type": "markdown",
   "metadata": {},
   "source": [
    "## Random forest"
   ]
  },
  {
   "cell_type": "code",
   "execution_count": 23,
   "metadata": {
    "collapsed": true
   },
   "outputs": [],
   "source": [
    "param_dist = {\n",
    "    \"max_depth\": randint(1,40),\n",
    "    \"max_features\": randint(1,200),\n",
    "    \"min_samples_split\": randint(2,100),\n",
    "    \"min_samples_leaf\": randint(2,100),\n",
    "    \"bootstrap\": [True, False],\n",
    "    \"n_jobs\": [N_JOBS],\n",
    "    \"verbose\": [0], \n",
    "    \"n_estimators\": [100],\n",
    "    \"random_state\": [42],\n",
    "}\n",
    "model = RandomForestRegressor()\n",
    "#optimize_hyperparameters_random(model, param_dist, 1000, X_train, y_train.values.ravel())"
   ]
  },
  {
   "cell_type": "code",
   "execution_count": 24,
   "metadata": {},
   "outputs": [
    {
     "name": "stdout",
     "output_type": "stream",
     "text": [
      "scores= [ 0.12893338  0.14032829  0.14194883  0.12999325  0.12878683]\n",
      "Score: mean=0.133998115168 std=0.0058674200217\n"
     ]
    }
   ],
   "source": [
    "random_forest = RandomForestRegressor(bootstrap=\"False\", max_depth=30, max_features=81, min_samples_leaf=3, min_samples_split=5, n_estimators=100, n_jobs=-1, random_state=42)\n",
    "score(random_forest, X_train, y_train.values.ravel()) #0.134"
   ]
  },
  {
   "cell_type": "code",
   "execution_count": 25,
   "metadata": {},
   "outputs": [
    {
     "name": "stdout",
     "output_type": "stream",
     "text": [
      "[ 123424.44175231  152033.08123303  180562.08021006 ...,  152385.16527412\n",
      "  114881.28340007  217826.56650972]\n"
     ]
    }
   ],
   "source": [
    "random_forest.fit(X_train, y_train)\n",
    "submission(random_forest, X_test, \"random_forest\")"
   ]
  },
  {
   "cell_type": "code",
   "execution_count": 26,
   "metadata": {
    "collapsed": true
   },
   "outputs": [],
   "source": [
    "param_dist = {\n",
    "    \"n_estimators\": [100], \n",
    "    \"max_depth\": randint(1,100), \n",
    "    \"max_features\": randint(1,200), \n",
    "    \"bootstrap\": [True, False], \n",
    "    \"oob_score\": [False], \n",
    "    \"n_jobs\": [N_JOBS], \n",
    "    \"random_state\": [42], \n",
    "    \"verbose\": [0], \n",
    "}\n",
    "model = ExtraTreesRegressor()\n",
    "#optimize_hyperparameters_random(model, param_dist, 100, X_train, y_train.values.ravel(), N_JOBS)"
   ]
  },
  {
   "cell_type": "code",
   "execution_count": 27,
   "metadata": {},
   "outputs": [
    {
     "name": "stdout",
     "output_type": "stream",
     "text": [
      "scores= [ 0.12059775  0.14287246  0.14600972  0.12766953  0.12890339]\n",
      "Score: mean=0.133210570141 std=0.00964892292068\n"
     ]
    }
   ],
   "source": [
    "extra_trees = ExtraTreesRegressor(bootstrap=\"False\", max_depth=47, max_features=163, n_estimators=1000, n_jobs=-1, random_state=42)\n",
    "score(extra_trees, X_train, y_train.values.ravel()) #0.133"
   ]
  },
  {
   "cell_type": "code",
   "execution_count": 28,
   "metadata": {},
   "outputs": [
    {
     "name": "stdout",
     "output_type": "stream",
     "text": [
      "[ 121423.78661994  150852.98294307  175991.71664052 ...,  148480.91585168\n",
      "  110396.20069791  215083.46994073]\n"
     ]
    }
   ],
   "source": [
    "extra_trees.fit(X_train, y_train)\n",
    "submission(extra_trees, X_test, \"extra_trees\")"
   ]
  },
  {
   "cell_type": "markdown",
   "metadata": {},
   "source": [
    "## Gradient Boosting Trees"
   ]
  },
  {
   "cell_type": "code",
   "execution_count": 29,
   "metadata": {
    "collapsed": true
   },
   "outputs": [],
   "source": [
    "param_dist = {\n",
    "    #\"loss\": ['huber'],\n",
    "    #\"alpha\": uniform(0,1),\n",
    "    \"learning_rate\": uniform(0.01, 0.5),\n",
    "    \"max_depth\": randint(1,40),\n",
    "    \"max_features\": randint(1,200),\n",
    "    \"min_samples_split\": randint(2,100),\n",
    "    \"min_samples_leaf\": randint(2,100),\n",
    "    \"verbose\": [0], \n",
    "    \"n_estimators\": [10000],\n",
    "    \"random_state\": [42],\n",
    "}\n",
    "model = GradientBoostingRegressor()\n",
    "#optimize_hyperparameters_random(model, param_dist, 100, X_train, y_train.values.ravel(), N_JOBS)"
   ]
  },
  {
   "cell_type": "code",
   "execution_count": 30,
   "metadata": {
    "collapsed": true
   },
   "outputs": [],
   "source": [
    "GBRT = GradientBoostingRegressor(alpha=0.728, learning_rate=0.085, loss=\"huber\", max_depth=20, max_features=21, min_samples_leaf=19, min_samples_split=78, n_estimators=100, random_state=42)\n",
    "#score(GBRT, X_train, y_train.values.ravel()) #0.121"
   ]
  },
  {
   "cell_type": "code",
   "execution_count": 31,
   "metadata": {
    "collapsed": true
   },
   "outputs": [],
   "source": [
    "GBRT = GradientBoostingRegressor(learning_rate=0.0816, max_depth=12, max_features=19, min_samples_leaf=2, min_samples_split=61, n_estimators=100, random_state=42)\n",
    "#score(GBRT, X_train, y_train.values.ravel()) #0.119"
   ]
  },
  {
   "cell_type": "code",
   "execution_count": 32,
   "metadata": {
    "collapsed": true
   },
   "outputs": [],
   "source": [
    "GBRT = GradientBoostingRegressor(learning_rate=0.012339723882381295, max_depth=39, max_features=4, min_samples_leaf=4, min_samples_split=48, n_estimators=10000, random_state=42)\n",
    "#score(GBRT, X_train, y_train.values.ravel()) #0.119"
   ]
  },
  {
   "cell_type": "code",
   "execution_count": 33,
   "metadata": {},
   "outputs": [
    {
     "name": "stdout",
     "output_type": "stream",
     "text": [
      "scores= [ 0.11464471  0.12231083  0.12255839  0.11372461  0.11418759]\n",
      "Score: mean=0.117485229046 std=0.00405237156595\n"
     ]
    }
   ],
   "source": [
    "GBRT = GradientBoostingRegressor(learning_rate=0.20951691351320212, max_depth=1, max_features=118, min_samples_leaf=15, min_samples_split=26, n_estimators=1000, random_state=42)\n",
    "score(GBRT, X_train, y_train.values.ravel()) #0.117"
   ]
  },
  {
   "cell_type": "code",
   "execution_count": 34,
   "metadata": {},
   "outputs": [
    {
     "name": "stdout",
     "output_type": "stream",
     "text": [
      "[ 118972.22161729  156856.6118166   186315.4638387  ...,  174913.5996919\n",
      "  114875.74043249  216110.41645273]\n"
     ]
    }
   ],
   "source": [
    "GBRT.fit(X_train, y_train)\n",
    "submission(GBRT, X_test, \"GBRT\")"
   ]
  },
  {
   "cell_type": "markdown",
   "metadata": {},
   "source": [
    "## Adaboost"
   ]
  },
  {
   "cell_type": "code",
   "execution_count": 35,
   "metadata": {
    "collapsed": true
   },
   "outputs": [],
   "source": [
    "param_dist = {\n",
    "    \"base_estimator\": [elastic_net], \n",
    "    \"n_estimators\": [50],\n",
    "    \"learning_rate\": uniform(0,1), \n",
    "    \"loss\": [\"linear\"], \n",
    "    'random_state': [42]\n",
    "}\n",
    "model = AdaBoostRegressor()\n",
    "#optimize_hyperparameters_random(model, param_dist, 100, X_train, y_train.values.ravel(), N_JOBS)"
   ]
  },
  {
   "cell_type": "code",
   "execution_count": 36,
   "metadata": {
    "collapsed": true
   },
   "outputs": [],
   "source": [
    "param_dist = {\n",
    "    \"base_estimator\": [GBRT], \n",
    "    \"n_estimators\": [10],\n",
    "    \"learning_rate\": uniform(0,1), \n",
    "    \"loss\": [\"exponential\"], \n",
    "    'random_state': [42]\n",
    "}\n",
    "model = AdaBoostRegressor()\n",
    "#optimize_hyperparameters_random(model, param_dist, 50, X_train, y_train.values.ravel(), -1)"
   ]
  },
  {
   "cell_type": "code",
   "execution_count": 37,
   "metadata": {},
   "outputs": [
    {
     "name": "stdout",
     "output_type": "stream",
     "text": [
      "scores= [ 0.10117776  0.11009225  0.11988806  0.10819525  0.11065833]\n",
      "Score: mean=0.110002333212 std=0.00598839899799\n"
     ]
    }
   ],
   "source": [
    "ada_boost = AdaBoostRegressor(base_estimator=elastic_net, learning_rate=0.0035798453369878525, loss=\"linear\", n_estimators=50, random_state=42)\n",
    "score(ada_boost, X_train, y_train.values.ravel()) #0.110"
   ]
  },
  {
   "cell_type": "code",
   "execution_count": 38,
   "metadata": {},
   "outputs": [
    {
     "name": "stdout",
     "output_type": "stream",
     "text": [
      "[ 122048.22365385  160241.80062217  180209.57390375 ...,  164875.4202714\n",
      "  120693.28337825  227822.09503442]\n"
     ]
    }
   ],
   "source": [
    "ada_boost.fit(X_train, y_train)\n",
    "submission(ada_boost, X_test, \"ada_boost\")"
   ]
  },
  {
   "cell_type": "code",
   "execution_count": 39,
   "metadata": {},
   "outputs": [
    {
     "name": "stdout",
     "output_type": "stream",
     "text": [
      "scores= [ 0.11314424  0.11679607  0.12114465  0.11249559  0.11264412]\n",
      "Score: mean=0.11524493514 std=0.00334510679766\n"
     ]
    }
   ],
   "source": [
    "ada_boost_GBRT = AdaBoostRegressor(base_estimator=GBRT, learning_rate=0.01074588992181591, loss=\"exponential\", n_estimators=10, random_state=42)\n",
    "score(ada_boost_GBRT, X_train, y_train.values.ravel()) #0.115"
   ]
  },
  {
   "cell_type": "code",
   "execution_count": 40,
   "metadata": {},
   "outputs": [
    {
     "name": "stdout",
     "output_type": "stream",
     "text": [
      "[ 124119.86580644  155503.57598605  186661.2722255  ...,  168881.67789574\n",
      "  118058.93750132  208549.25618491]\n"
     ]
    }
   ],
   "source": [
    "ada_boost_GBRT.fit(X_train, y_train)\n",
    "submission(ada_boost_GBRT, X_test, \"ada_boost_GBRT\")"
   ]
  },
  {
   "cell_type": "markdown",
   "metadata": {},
   "source": [
    "## XGBoost"
   ]
  },
  {
   "cell_type": "code",
   "execution_count": 41,
   "metadata": {
    "collapsed": true
   },
   "outputs": [],
   "source": [
    "param_dist = {\n",
    "    \"subsample\": uniform(0.01,0.99),\n",
    "    \"colsample_bytree\": uniform(0.01,0.99),\n",
    "    \"learning_rate\": [0.01],\n",
    "    \"max_depth\": randint(1,100),\n",
    "    \"min_child_weight\": randint(0,300),\n",
    "    \"gamma\": uniform(0,3),\n",
    "    \"n_estimators\": [1000],\n",
    "    \"silent\": [False],\n",
    "    \"n_jobs\": [1],\n",
    "    \"random_state\": [42],\n",
    "}\n",
    "XGBoost = xgb.XGBRegressor()\n",
    "#optimize_hyperparameters_random(XGBoost, param_dist, 100, X_train, y_train.values.ravel(), 8)"
   ]
  },
  {
   "cell_type": "code",
   "execution_count": 42,
   "metadata": {
    "collapsed": true
   },
   "outputs": [],
   "source": [
    "model_xgb = xgb.XGBRegressor(colsample_bytree=0.77110228410113557, gamma=0.12597448663119382, \n",
    "                             learning_rate=0.01, max_depth=29, \n",
    "                             min_child_weight=30, n_estimators=1000,\n",
    "                             subsample=0.63734398779, \n",
    "                             silent=1,\n",
    "                             random_state =42, nthread = -1)\n",
    "#score(XGBoost, X_train, y_train.values.ravel()) #0.120997539615"
   ]
  },
  {
   "cell_type": "code",
   "execution_count": 43,
   "metadata": {},
   "outputs": [
    {
     "name": "stdout",
     "output_type": "stream",
     "text": [
      "scores= [ 0.1137977   0.12899517  0.12457906  0.1192399   0.11837587]\n",
      "Score: mean=0.120997539615 std=0.00526478049823\n"
     ]
    }
   ],
   "source": [
    "model_xgb = xgb.XGBRegressor(colsample_bytree=0.4603, gamma=0.0468, \n",
    "                             learning_rate=0.05, max_depth=3, \n",
    "                             min_child_weight=1.7817, n_estimators=2200,\n",
    "                             reg_alpha=0.4640, reg_lambda=0.8571,\n",
    "                             subsample=0.5213, silent=1,\n",
    "                             random_state =7, nthread = -1)\n",
    "score(XGBoost, X_train, y_train.values.ravel()) #0.120997539615"
   ]
  },
  {
   "cell_type": "code",
   "execution_count": 44,
   "metadata": {},
   "outputs": [
    {
     "name": "stdout",
     "output_type": "stream",
     "text": [
      "[ 122667.8515625  162690.703125   180439.421875  ...,  158258.921875\n",
      "  119059.984375   208086.953125 ]\n"
     ]
    }
   ],
   "source": [
    "XGBoost.fit(X_train, y_train)\n",
    "submission(XGBoost, X_test, \"XGBoost\")"
   ]
  },
  {
   "cell_type": "code",
   "execution_count": 45,
   "metadata": {
    "collapsed": true
   },
   "outputs": [],
   "source": [
    "param_grid = {\n",
    "    \"max_depth\": [1, 25, 50],\n",
    "    \"learning_rate\": [0.25, 0.50],\n",
    "    \"min_child_weight\": [1, 20, 50],\n",
    "    \"gamma\": [1, 50, 75],\n",
    "    \"n_estimators\": [10],\n",
    "    \"silent\": [False],\n",
    "    \"n_jobs\": [N_JOBS],\n",
    "    \"random_state\": [42], \n",
    "    }\n",
    "model = xgb.XGBRegressor()\n",
    "#optimize_hyperparameters(model,param_grid, X_train, y_train.values.ravel())"
   ]
  },
  {
   "cell_type": "code",
   "execution_count": 46,
   "metadata": {
    "collapsed": true
   },
   "outputs": [],
   "source": [
    "#XGBoost = xgb.XGBRegressor(gamma=1, learning_rate=0.5, max_depth=25, min_child_weight=1, n_estimators=10, n_jobs=-1, random_state=42)\n",
    "#score(XGBoost, X_train, y_train.values.ravel()) #0.145"
   ]
  },
  {
   "cell_type": "markdown",
   "metadata": {},
   "source": [
    "## LightGBM"
   ]
  },
  {
   "cell_type": "code",
   "execution_count": 47,
   "metadata": {
    "collapsed": true
   },
   "outputs": [],
   "source": [
    "# min_val_error = float(\"inf\")\n",
    "# error_going_up = 0\n",
    "# for n_estimators in range(500, 5000):\n",
    "#     print(n_estimators)\n",
    "#     LGBM.n_estimators = n_estimators\n",
    "#     LGBM.fit(X, y)\n",
    "#     y_pred = LGBM.predict(X_val)\n",
    "#     val_error = mean_squared_error(y_val, y_pred)\n",
    "#     if val_error < min_val_error:\n",
    "#         min_val_error = val_error\n",
    "#         error_going_up = 0\n",
    "#     else:\n",
    "#         error_going_up += 1\n",
    "#         if error_going_up == 5:\n",
    "#             break  # early stopping\n",
    "\n",
    "\n",
    "# print(LGBM.n_estimators)"
   ]
  },
  {
   "cell_type": "code",
   "execution_count": 48,
   "metadata": {
    "collapsed": true
   },
   "outputs": [],
   "source": [
    "#LGBM = lgb.LGBMRegressor(learning_rate=0.01, random_state=42, n_jobs=8, silent=False, n_estimators=1000000)\n",
    "\n",
    "#X, X_val, y, y_val = train_test_split(X_train, y_train, random_state=42)\n",
    "\n",
    "#LGBM.fit(X, y, eval_set=[(X_val, y_val)], eval_metric=\"l2\", early_stopping_rounds=50)#0.0160993\n",
    "#print(LGBM.best_iteration_)"
   ]
  },
  {
   "cell_type": "code",
   "execution_count": 49,
   "metadata": {
    "collapsed": true
   },
   "outputs": [],
   "source": [
    "param_dist = {\n",
    "    \"num_leaves\": randint(2,100),\n",
    "    \"max_depth\": randint(1,100),\n",
    "    \"min_data_in_leaf\": randint(1,50),\n",
    "    \"learning_rate\": [0.01],\n",
    "    \"n_estimators\": [1500],\n",
    "    #\"subsample\": uniform(0.4, 0.9),\n",
    "    #\"colsample_bytree\": uniform(0.4, 1),\n",
    "    #\"reg_alpha\": uniform(0, 1),\n",
    "    #\"reg_lambda \": uniform(0, 1),\n",
    "    \"silent\": [0],\n",
    "    \"n_jobs\": [1],\n",
    "    \"random_state\": [42],\n",
    "}\n",
    "model = lgb.LGBMRegressor()\n",
    "#optimize_hyperparameters_random(model, param_dist, 10, X_train, y_train.values.ravel(), 8)"
   ]
  },
  {
   "cell_type": "code",
   "execution_count": 50,
   "metadata": {},
   "outputs": [
    {
     "name": "stdout",
     "output_type": "stream",
     "text": [
      "scores= [ 0.10844607  0.12326249  0.12330541  0.111367    0.11843612]\n",
      "Score: mean=0.116963418253 std=0.00609808239635\n"
     ]
    }
   ],
   "source": [
    "LGBM = lgb.LGBMRegressor(learning_rate=0.01, max_depth=26, min_data_in_leaf= 5, n_estimators=1500, n_jobs=8, num_leaves=6, random_state=42)\n",
    "score(LGBM, X_train, y_train.values.ravel()) #0.116963418253"
   ]
  },
  {
   "cell_type": "code",
   "execution_count": 51,
   "metadata": {
    "collapsed": true
   },
   "outputs": [],
   "source": [
    "#LGBM = lgb.LGBMRegressor(learning_rate=0.01, max_depth=28, n_estimators=1398, n_jobs=8, num_leaves=5, random_state=42, reg_alpha=0.096030659906092053, reg_lambda=0.82943289588961044)\n",
    "#score(LGBM, X_train, y_train.values.ravel()) #0.118036096058"
   ]
  },
  {
   "cell_type": "markdown",
   "metadata": {},
   "source": [
    "## SVM"
   ]
  },
  {
   "cell_type": "markdown",
   "metadata": {},
   "source": [
    "### kernel: [linear, poly, rbf, sigmoid, precomputed]"
   ]
  },
  {
   "cell_type": "code",
   "execution_count": 52,
   "metadata": {
    "collapsed": true
   },
   "outputs": [],
   "source": [
    "param_dist = {\n",
    "    \"C\": uniform(0, 100),\n",
    "    \"epsilon\": uniform(0, 1),\n",
    "    \"max_iter\": [1000],\n",
    "    \"dual\": [False],\n",
    "    \"loss\": [\"squared_epsilon_insensitive\"]\n",
    "    }\n",
    "model = LinearSVR()\n",
    "#optimize_hyperparameters_random(model, param_dist, 300, X_train, y_train.values.ravel(), n_jobs=-1)"
   ]
  },
  {
   "cell_type": "code",
   "execution_count": 53,
   "metadata": {},
   "outputs": [
    {
     "name": "stdout",
     "output_type": "stream",
     "text": [
      "scores= [ 1.6185471   1.20339657  1.4287821   1.57175402  2.73730187]\n",
      "Score: mean=1.71195633255 std=0.532641742683\n"
     ]
    }
   ],
   "source": [
    "svm_linear = LinearSVR(\n",
    "    C=60.61,\n",
    "    dual=False,\n",
    "    epsilon=0.07,\n",
    "    loss=\"squared_epsilon_insensitive\",\n",
    "    max_iter=1000\n",
    ")\n",
    "score(svm_linear, X_train, y_train.values.ravel()) #0.134"
   ]
  },
  {
   "cell_type": "code",
   "execution_count": 54,
   "metadata": {
    "collapsed": true
   },
   "outputs": [],
   "source": [
    "#svm_linear.fit(X_train, y_train)\n",
    "#submission(svm_linear, X_test, \"svm\")"
   ]
  },
  {
   "cell_type": "code",
   "execution_count": 55,
   "metadata": {
    "collapsed": true
   },
   "outputs": [],
   "source": [
    "param_dist = {\n",
    "    \"kernel\": ['linear'],\n",
    "    \"C\": uniform(0.1,200),\n",
    "    \"epsilon\": uniform(loc=0.1, scale=1),\n",
    "    \"cache_size\": [5000],\n",
    "}\n",
    "model = SVR()\n",
    "#optimize_hyperparameters_random(model, param_dist, 100, X_train, y_train.values.ravel(), n_jobs=-1)"
   ]
  },
  {
   "cell_type": "code",
   "execution_count": 56,
   "metadata": {},
   "outputs": [
    {
     "name": "stdout",
     "output_type": "stream",
     "text": [
      "scores= [ 0.1593338   0.17040264  0.16816442  0.15191722  0.16459575]\n",
      "Score: mean=0.162882766614 std=0.00663651965007\n"
     ]
    }
   ],
   "source": [
    "svm = SVR(C=83.144409878382945, cache_size=5000, epsilon=0.39823088915121874, kernel='linear')\n",
    "score(svm, X_train, y_train.values.ravel()) #0.135"
   ]
  },
  {
   "cell_type": "code",
   "execution_count": 57,
   "metadata": {
    "collapsed": true,
    "scrolled": true
   },
   "outputs": [],
   "source": [
    "param_dist = {\n",
    "    \"kernel\": ['poly'],\n",
    "    \"degree\": randint(1,5),\n",
    "    \"C\": randint(0,20000),\n",
    "    \"epsilon\": uniform(loc=0, scale=1),\n",
    "    \"shrinking\": [False, True], \n",
    "    \"cache_size\": [5000],\n",
    "}\n",
    "model = SVR()\n",
    "#optimize_hyperparameters_random(model, param_dist, 100, X_train, y_train.values.ravel())"
   ]
  },
  {
   "cell_type": "code",
   "execution_count": 58,
   "metadata": {},
   "outputs": [
    {
     "name": "stdout",
     "output_type": "stream",
     "text": [
      "scores= [ 0.25031295  0.26946261  0.25582644  0.2383986   0.24072879]\n",
      "Score: mean=0.250945878257 std=0.011215280833\n"
     ]
    }
   ],
   "source": [
    "svm = SVR(C=6322, degree=2, cache_size=5000, epsilon=0.29799211072674692, kernel='poly', shrinking=False)\n",
    "score(svm, X_train, y_train.values.ravel()) #0.248"
   ]
  },
  {
   "cell_type": "code",
   "execution_count": 59,
   "metadata": {
    "collapsed": true,
    "scrolled": true
   },
   "outputs": [],
   "source": [
    "param_dist = {\n",
    "    \"kernel\": ['rbf'],\n",
    "    \"C\": randint(0,7000),\n",
    "    \"gamma\": uniform(loc=0, scale=1),\n",
    "    \"epsilon\": uniform(loc=0, scale=300),\n",
    "    \"shrinking\": [False, True], \n",
    "    \"cache_size\": [5000],\n",
    "}\n",
    "#optimize_random_hyperparameters_SVR(param_dist, 100, X_train, y_train.values.ravel())"
   ]
  },
  {
   "cell_type": "code",
   "execution_count": 60,
   "metadata": {},
   "outputs": [
    {
     "name": "stdout",
     "output_type": "stream",
     "text": [
      "scores= [ 0.40839392  0.44187549  0.42115386  0.39047331  0.40530929]\n",
      "Score: mean=0.413441173072 std=0.017245989769\n"
     ]
    }
   ],
   "source": [
    "svm = SVR(C=1397, degree=1, cache_size=5000, epsilon=139.00647643017697, gamma=0.023103258942649085, kernel='rbf', shrinking=False)\n",
    "score(svm, X_train, y_train.values.ravel()) #0.135"
   ]
  },
  {
   "cell_type": "markdown",
   "metadata": {},
   "source": [
    "## Learning curves"
   ]
  },
  {
   "cell_type": "code",
   "execution_count": 61,
   "metadata": {
    "collapsed": true
   },
   "outputs": [],
   "source": [
    "def plot_learning_curve(estimator, title, X, y, cv=None, n_jobs=-1,ylim=None, train_sizes=np.linspace(.1, 1.0, 5)):\n",
    "    \"\"\"\n",
    "    Generate a simple plot of the test and training learning curve.\n",
    "\n",
    "    Parameters\n",
    "    ----------\n",
    "    estimator : object type that implements the \"fit\" and \"predict\" methods\n",
    "        An object of that type which is cloned for each validation.\n",
    "\n",
    "    title : string\n",
    "        Title for the chart.\n",
    "\n",
    "    X : array-like, shape (n_samples, n_features)\n",
    "        Training vector, where n_samples is the number of samples and\n",
    "        n_features is the number of features.\n",
    "\n",
    "    y : array-like, shape (n_samples) or (n_samples, n_features), optional\n",
    "        Target relative to X for classification or regression;\n",
    "        None for unsupervised learning.\n",
    "\n",
    "    ylim : tuple, shape (ymin, ymax), optional\n",
    "        Defines minimum and maximum yvalues plotted.\n",
    "\n",
    "    cv : int, cross-validation generator or an iterable, optional\n",
    "        Determines the cross-validation splitting strategy.\n",
    "        Possible inputs for cv are:\n",
    "          - None, to use the default 3-fold cross-validation,\n",
    "          - integer, to specify the number of folds.\n",
    "          - An object to be used as a cross-validation generator.\n",
    "          - An iterable yielding train/test splits.\n",
    "\n",
    "        For integer/None inputs, if ``y`` is binary or multiclass,\n",
    "        :class:`StratifiedKFold` used. If the estimator is not a classifier\n",
    "        or if ``y`` is neither binary nor multiclass, :class:`KFold` is used.\n",
    "\n",
    "        Refer :ref:`User Guide <cross_validation>` for the various\n",
    "        cross-validators that can be used here.\n",
    "\n",
    "    n_jobs : integer, optional\n",
    "        Number of jobs to run in parallel (default 1).\n",
    "    \"\"\"\n",
    "    plt.figure()\n",
    "    plt.title(title)\n",
    "    if ylim is not None:\n",
    "        plt.ylim(*ylim)\n",
    "    plt.xlabel(\"Training examples\")\n",
    "    plt.ylabel(\"Score\")\n",
    "    train_sizes, train_scores, test_scores = learning_curve(estimator, X, y, scoring=make_scorer(mean_squared_error, greater_is_better=False), cv=cv, n_jobs=n_jobs, train_sizes=train_sizes, verbose=1)\n",
    "    train_scores_mean = np.sqrt(-np.mean(train_scores, axis=1))\n",
    "    #train_scores_std = np.std(train_scores, axis=1)\n",
    "    test_scores_mean = np.sqrt(-np.mean(test_scores, axis=1))\n",
    "    #test_scores_std = np.std(test_scores, axis=1)\n",
    "    plt.grid()\n",
    "\n",
    "    #plt.fill_between(train_sizes, train_scores_mean - train_scores_std, train_scores_mean + train_scores_std, alpha=0.1, color=\"r\")\n",
    "    #plt.fill_between(train_sizes, test_scores_mean - test_scores_std, test_scores_mean + test_scores_std, alpha=0.1, color=\"g\")\n",
    "    plt.plot(train_sizes, train_scores_mean, 'o-', color=\"r\", label=\"Training score\")\n",
    "    plt.plot(train_sizes, test_scores_mean, 'o-', color=\"g\", label=\"Cross-validation score\")\n",
    "\n",
    "    plt.legend(loc=\"best\")\n",
    "    return plt"
   ]
  },
  {
   "cell_type": "code",
   "execution_count": 62,
   "metadata": {
    "scrolled": false
   },
   "outputs": [
    {
     "name": "stdout",
     "output_type": "stream",
     "text": [
      "[learning_curve] Training set sizes: [ 116  378  640  902 1164]\n",
      "[learning_curve] Training set sizes: [ 116  378  640  902 1164]\n"
     ]
    },
    {
     "name": "stderr",
     "output_type": "stream",
     "text": [
      "[Parallel(n_jobs=-1)]: Done  50 out of  50 | elapsed:    3.7s finished\n"
     ]
    },
    {
     "name": "stdout",
     "output_type": "stream",
     "text": [
      "[learning_curve] Training set sizes: [ 116  378  640  902 1164]\n"
     ]
    },
    {
     "name": "stderr",
     "output_type": "stream",
     "text": [
      "[Parallel(n_jobs=-1)]: Done  50 out of  50 | elapsed:   23.6s finished\n",
      "[Parallel(n_jobs=-1)]: Done  50 out of  50 | elapsed:   50.2s finished\n"
     ]
    },
    {
     "name": "stdout",
     "output_type": "stream",
     "text": [
      "[learning_curve] Training set sizes: [ 116  378  640  902 1164]\n",
      "[learning_curve] Training set sizes: [ 116  378  640  902 1164]\n"
     ]
    },
    {
     "name": "stderr",
     "output_type": "stream",
     "text": [
      "[Parallel(n_jobs=1)]: Done  50 out of  50 | elapsed:   11.3s finished\n",
      "[Parallel(n_jobs=-1)]: Done  50 out of  50 | elapsed:   11.2s finished\n"
     ]
    },
    {
     "data": {
      "image/png": "[encoded data removed]",
      "text/plain": [
       "<matplotlib.figure.Figure at 0x7f4694967c18>"
      ]
     },
     "metadata": {},
     "output_type": "display_data"
    },
    {
     "data": {
      "image/png": "[encoded data removed]",
      "text/plain": [
       "<matplotlib.figure.Figure at 0x7f4694967c50>"
      ]
     },
     "metadata": {},
     "output_type": "display_data"
    },
    {
     "data": {
      "image/png": "[encoded data removed]",
      "text/plain": [
       "<matplotlib.figure.Figure at 0x7f4694967ba8>"
      ]
     },
     "metadata": {},
     "output_type": "display_data"
    },
    {
     "data": {
      "image/png": "[encoded data removed]",
      "text/plain": [
       "<matplotlib.figure.Figure at 0x7f46948d33c8>"
      ]
     },
     "metadata": {},
     "output_type": "display_data"
    },
    {
     "data": {
      "image/png": "[encoded data removed]",
      "text/plain": [
       "<matplotlib.figure.Figure at 0x7f4694874748>"
      ]
     },
     "metadata": {},
     "output_type": "display_data"
    }
   ],
   "source": [
    "title = \"Learning Curves (RF)\"\n",
    "cv = ShuffleSplit(n_splits=10, test_size=0.2, random_state=0)\n",
    "plot_learning_curve(random_forest, title, X_train, y_train, cv=cv, n_jobs=-1)\n",
    "\n",
    "title = \"Learning Curves (ada_boost - elastic_net)\"\n",
    "cv = ShuffleSplit(n_splits=10, test_size=0.2, random_state=0)\n",
    "plot_learning_curve(ada_boost, title, X_train, y_train, cv=cv, n_jobs=-1)\n",
    "\n",
    "title = \"Learning Curves (ada_boost - GBRT)\"\n",
    "cv = ShuffleSplit(n_splits=10, test_size=0.2, random_state=0)\n",
    "plot_learning_curve(ada_boost_GBRT, title, X_train, y_train, cv=cv, n_jobs=-1)\n",
    "\n",
    "title = \"Learning Curves (XGBoost)\"\n",
    "cv = ShuffleSplit(n_splits=10, test_size=0.2, random_state=0)\n",
    "plot_learning_curve(XGBoost, title, X_train, y_train, cv=cv, n_jobs=1)\n",
    "\n",
    "LGBM = lgb.LGBMRegressor(learning_rate=0.01, max_depth=26, min_data_in_leaf= 5, n_estimators=1500, n_jobs=1, num_leaves=6, random_state=42)\n",
    "\n",
    "title = \"Learning Curves (LightGBM)\"\n",
    "cv = ShuffleSplit(n_splits=10, test_size=0.2, random_state=0)\n",
    "plot_learning_curve(LGBM, title, X_train, y_train, cv=cv, n_jobs=-1)\n",
    "\n",
    "plt.show()"
   ]
  },
  {
   "cell_type": "markdown",
   "metadata": {},
   "source": [
    "## Accuracy"
   ]
  },
  {
   "cell_type": "code",
   "execution_count": 63,
   "metadata": {
    "collapsed": true
   },
   "outputs": [],
   "source": [
    "def plot_accuracy(model, title, X_train, y_train, n_jobs=-1):\n",
    "    y_pred = cross_val_predict(model, X_train, y_train, n_jobs=n_jobs)\n",
    "    plt.figure()\n",
    "    plt.title(title)\n",
    "    plt.xlabel(\"y_true\")\n",
    "    plt.ylabel(\"y_pred\")\n",
    "    plt.grid()\n",
    "\n",
    "    plt.plot(y_train, y_pred, 'o', color=\"r\")\n",
    "    plt.legend(['r^2='+str(r2_score(y_train, y_pred))])\n",
    "    #plt.plot(train_sizes, test_scores_mean, 'o-', color=\"g\", label=\"Cross-validation score\")\n",
    "    x = np.linspace(y_train.min(), y_train.max(), 400)\n",
    "    plt.plot(x, x, '.', color=\"g\")\n",
    "\n",
    "    plt.legend(loc=\"best\")\n",
    "    \n",
    "    return plt"
   ]
  },
  {
   "cell_type": "code",
   "execution_count": 64,
   "metadata": {},
   "outputs": [
    {
     "data": {
      "image/png": "[encoded data removed]",
      "text/plain": [
       "<matplotlib.figure.Figure at 0x7f469ee46978>"
      ]
     },
     "metadata": {},
     "output_type": "display_data"
    },
    {
     "data": {
      "image/png": "[encoded data removed]",
      "text/plain": [
       "<matplotlib.figure.Figure at 0x7f46947bdc50>"
      ]
     },
     "metadata": {},
     "output_type": "display_data"
    },
    {
     "data": {
      "image/png": "[encoded data removed]",
      "text/plain": [
       "<matplotlib.figure.Figure at 0x7f4694912780>"
      ]
     },
     "metadata": {},
     "output_type": "display_data"
    },
    {
     "data": {
      "image/png": "[encoded data removed]",
      "text/plain": [
       "<matplotlib.figure.Figure at 0x7f469485c978>"
      ]
     },
     "metadata": {},
     "output_type": "display_data"
    },
    {
     "data": {
      "image/png": "[encoded data removed]",
      "text/plain": [
       "<matplotlib.figure.Figure at 0x7f46947f3d68>"
      ]
     },
     "metadata": {},
     "output_type": "display_data"
    },
    {
     "data": {
      "image/png": "[encoded data removed]",
      "text/plain": [
       "<matplotlib.figure.Figure at 0x7f469485c080>"
      ]
     },
     "metadata": {},
     "output_type": "display_data"
    }
   ],
   "source": [
    "title = \"Accuracy (Ridge)\"\n",
    "#plot_accuracy(ridge, title, X_train, y_train, n_jobs=-1)\n",
    "\n",
    "title = \"Accuracy (elastic_net)\"\n",
    "plot_accuracy(elastic_net, title, X_train, y_train, n_jobs=-1)\n",
    "\n",
    "title = \"Accuracy (RF)\"\n",
    "plot_accuracy(random_forest, title, X_train, y_train, n_jobs=-1)\n",
    "\n",
    "title = \"Accuracy (adaboost - elastic_net)\"\n",
    "plot_accuracy(ada_boost, title, X_train, y_train, n_jobs=-1)\n",
    "\n",
    "title = \"Accuracy (GBRT)\"\n",
    "plot_accuracy(GBRT, title, X_train, y_train, n_jobs=1)\n",
    "\n",
    "title = \"Accuracy (XGBoost)\"\n",
    "plot_accuracy(XGBoost, title, X_train, y_train, n_jobs=1)\n",
    "\n",
    "title = \"Accuracy (LGBM)\"\n",
    "plot_accuracy(LGBM, title, X_train, y_train, n_jobs=1)\n",
    "\n",
    "title = \"Accuracy (SVM, linear kernel)\"\n",
    "#plot_accuracy(svm_linear, title, X_train, y_train, n_jobs=-1)\n",
    "\n",
    "plt.show()"
   ]
  },
  {
   "cell_type": "markdown",
   "metadata": {
    "collapsed": true
   },
   "source": [
    "## Stacking"
   ]
  },
  {
   "cell_type": "code",
   "execution_count": 65,
   "metadata": {
    "collapsed": true
   },
   "outputs": [],
   "source": [
    "class Stacking(BaseEstimator, RegressorMixin): \n",
    "    def __init__(self, model_1, model_2, alpha=1 ,l1_ratio=0.5, max_iter=1000, random_state=42):\n",
    "        self.model_1 = model_1\n",
    "        self.model_2 = model_2\n",
    "        \n",
    "        self.alpha=alpha\n",
    "        self.l1_ratio=l1_ratio\n",
    "        self.max_iter=max_iter\n",
    "        self.random_state=random_state\n",
    "        \n",
    "    def fit(self, X, y):\n",
    "        print(\"alpha=\"+str(self.alpha))\n",
    "        print(\"l1_ratio=\"+str(self.l1_ratio))\n",
    "        self.blender = ElasticNet(alpha=self.alpha ,l1_ratio=self.l1_ratio, max_iter=self.max_iter, random_state=self.random_state)\n",
    "\n",
    "        X_1, X_2, y_1, y_2 = train_test_split(X, y, test_size=0.2, shuffle=True, random_state=42)\n",
    "        self.model_1.fit(X_1, y_1)\n",
    "        self.model_2.fit(X_1, y_1)\n",
    "        \n",
    "        y_model_1 = pd.DataFrame(self.model_1.predict(X_2), columns=[\"y_model_1\"])\n",
    "        y_model_2 = pd.DataFrame(self.model_2.predict(X_2), columns=[\"y_model_2\"])\n",
    "\n",
    "        X_3 = pd.concat([y_model_1, y_model_2], axis=1)\n",
    "\n",
    "        self.blender.fit(X_3, y_2)\n",
    "        \n",
    "    def predict(self, X, y=None): \n",
    "        y_model_1 = pd.DataFrame(self.model_1.predict(X), columns=[\"y_model_1\"])\n",
    "        y_model_2 = pd.DataFrame(self.model_2.predict(X), columns=[\"y_model_2\"])\n",
    "\n",
    "        X_blender = pd.concat([y_model_1, y_model_2], axis=1)\n",
    "        \n",
    "        y_pred = self.blender.predict(X_blender)\n",
    "        return y_pred"
   ]
  },
  {
   "cell_type": "code",
   "execution_count": 66,
   "metadata": {
    "collapsed": true
   },
   "outputs": [],
   "source": [
    "param_dist = {\n",
    "    \"alpha\": uniform(loc=0, scale=1),\n",
    "    \"l1_ratio\": uniform(loc=0, scale=1),\n",
    "    \"max_iter\": [100000],\n",
    "    \"random_state\": [42],\n",
    "}\n",
    "model = Stacking(elastic_net, XGBoost)\n",
    "#optimize_hyperparameters_random(model, param_dist, 10, X_train, y_train.values.ravel())"
   ]
  },
  {
   "cell_type": "code",
   "execution_count": 120,
   "metadata": {},
   "outputs": [
    {
     "name": "stdout",
     "output_type": "stream",
     "text": [
      "alpha=0.01\n",
      "l1_ratio=0\n"
     ]
    },
    {
     "name": "stderr",
     "output_type": "stream",
     "text": [
      "/home/ubuntu/anaconda3/lib/python3.6/site-packages/sklearn/linear_model/coordinate_descent.py:491: ConvergenceWarning: Objective did not converge. You might want to increase the number of iterations. Fitting data with very small alpha may cause precision problems.\n",
      "  ConvergenceWarning)\n"
     ]
    }
   ],
   "source": [
    "model = Stacking(elastic_net, XGBoost)\n",
    "model.set_params(alpha=0.01, l1_ratio=0, max_iter=100000, random_state=42)\n",
    "model.fit(X_train, y_train)"
   ]
  },
  {
   "cell_type": "code",
   "execution_count": 121,
   "metadata": {
    "collapsed": true
   },
   "outputs": [],
   "source": [
    "submission(model, X_test, \"stack\")"
   ]
  },
  {
   "cell_type": "code",
   "execution_count": 122,
   "metadata": {},
   "outputs": [
    {
     "name": "stdout",
     "output_type": "stream",
     "text": [
      "alpha=0.01\n",
      "l1_ratio=0\n",
      "alpha=0.01\n",
      "l1_ratio=0\n",
      "alpha=0.01\n",
      "l1_ratio=0\n"
     ]
    },
    {
     "data": {
      "image/png": "[encoded data removed]",
      "text/plain": [
       "<matplotlib.figure.Figure at 0x7f3753792898>"
      ]
     },
     "metadata": {},
     "output_type": "display_data"
    }
   ],
   "source": [
    "title = \"Accuracy (stack)\"\n",
    "plot_accuracy(model, title, X_train, y_train, n_jobs=1)\n",
    "\n",
    "plt.show()"
   ]
  },
  {
   "cell_type": "code",
   "execution_count": 123,
   "metadata": {},
   "outputs": [
    {
     "name": "stdout",
     "output_type": "stream",
     "text": [
      "alpha=0.01\n",
      "l1_ratio=0\n",
      "alpha=0.01\n",
      "l1_ratio=0\n",
      "alpha=0.01\n",
      "l1_ratio=0\n",
      "alpha=0.01\n",
      "l1_ratio=0\n",
      "alpha=0.01\n",
      "l1_ratio=0\n",
      "Score=0.111944918631\n"
     ]
    }
   ],
   "source": [
    "score(model, X_train, y_train.values.ravel()) #0.112"
   ]
  },
  {
   "cell_type": "markdown",
   "metadata": {},
   "source": [
    "0.121 on leaderboard"
   ]
  },
  {
   "cell_type": "markdown",
   "metadata": {
    "collapsed": true
   },
   "source": [
    "## Simple stacking"
   ]
  },
  {
   "cell_type": "code",
   "execution_count": 68,
   "metadata": {
    "collapsed": true
   },
   "outputs": [],
   "source": [
    "class Simple_stacking(BaseEstimator, RegressorMixin): \n",
    "    def __init__(self, models, coeffs):\n",
    "        self.models = models\n",
    "        self.coeffs = coeffs\n",
    "        \n",
    "    def fit(self, X, y):\n",
    "        for model in self.models:\n",
    "            model.fit(X, y)\n",
    "        \n",
    "    def predict(self, X, y=None):\n",
    "        print(\"coeffs=\", self.coeffs)\n",
    "        y_pred = list()\n",
    "        for model in self.models:\n",
    "            y_pred.append(model.predict(X))\n",
    "        \n",
    "        prediction = 0\n",
    "        for i in range(len(self.models)):\n",
    "            prediction = prediction + self.coeffs[i]*y_pred[i]\n",
    "\n",
    "        return np.array(prediction)"
   ]
  },
  {
   "cell_type": "code",
   "execution_count": 76,
   "metadata": {
    "collapsed": true
   },
   "outputs": [],
   "source": [
    "param_dist = {\n",
    "    \"coeff\": uniform(loc=0, scale=1),\n",
    "}\n",
    "#model = Simple_stacking(elastic_net, XGBoost)\n",
    "#optimize_hyperparameters_random(model, param_dist, 10, X_train, y_train.values.ravel(), n_jobs=1)"
   ]
  },
  {
   "cell_type": "code",
   "execution_count": 77,
   "metadata": {},
   "outputs": [
    {
     "name": "stdout",
     "output_type": "stream",
     "text": [
      "coeffs= [0.67, 0.33]\n",
      "[ 121939.17784327  160612.78660378  183910.39370324 ...,  163612.29219199\n",
      "  120281.12436047  219656.33874507]\n"
     ]
    }
   ],
   "source": [
    "model = Simple_stacking([elastic_net, XGBoost], coeffs=[0.67,0.33])\n",
    "model.fit(X_train, y_train)\n",
    "submission(model, X_test, \"simple_stack\")"
   ]
  },
  {
   "cell_type": "markdown",
   "metadata": {},
   "source": [
    "0.120 on leaderboard"
   ]
  },
  {
   "cell_type": "code",
   "execution_count": 78,
   "metadata": {},
   "outputs": [
    {
     "name": "stdout",
     "output_type": "stream",
     "text": [
      "coeffs= [0.7, 0.2, 0.1]\n",
      "coeffs= [0.7, 0.2, 0.1]\n",
      "coeffs= [0.7, 0.2, 0.1]\n",
      "coeffs= [0.7, 0.2, 0.1]\n",
      "coeffs= [0.7, 0.2, 0.1]\n",
      "scores= [ 0.10144216  0.1085963   0.11761674  0.10537712  0.10811235]\n",
      "Score: mean=0.108228935035 std=0.00533802495847\n"
     ]
    }
   ],
   "source": [
    "model = Simple_stacking([elastic_net, XGBoost, GBRT], [0.7, 0.2, 0.1])\n",
    "score(model, X_train, y_train.values.ravel()) #0.108305170529"
   ]
  },
  {
   "cell_type": "code",
   "execution_count": 83,
   "metadata": {},
   "outputs": [
    {
     "name": "stdout",
     "output_type": "stream",
     "text": [
      "coeffs= [0.6, 0.2, 0.2]\n",
      "coeffs= [0.6, 0.2, 0.2]\n",
      "coeffs= [0.6, 0.2, 0.2]\n",
      "coeffs= [0.6, 0.2, 0.2]\n",
      "coeffs= [0.6, 0.2, 0.2]\n",
      "scores= [ 0.10187368  0.10831434  0.11750033  0.10426996  0.10780057]\n",
      "Score: mean=0.107951775036 std=0.00532594011181\n"
     ]
    }
   ],
   "source": [
    "model = Simple_stacking([ada_boost, ada_boost_GBRT, XGBoost], [0.6, 0.2, 0.2])\n",
    "score(model, X_train, y_train.values.ravel()) #0.107951775036 0.6, 0.2, 0.2"
   ]
  },
  {
   "cell_type": "code",
   "execution_count": 69,
   "metadata": {},
   "outputs": [
    {
     "name": "stdout",
     "output_type": "stream",
     "text": [
      "coeffs= [0.5, 0.1, 0.2, 0.2]\n",
      "coeffs= [0.5, 0.1, 0.2, 0.2]\n",
      "coeffs= [0.5, 0.1, 0.2, 0.2]\n",
      "coeffs= [0.5, 0.1, 0.2, 0.2]\n",
      "coeffs= [0.5, 0.1, 0.2, 0.2]\n",
      "scores= [ 0.10107753  0.11153384  0.1170413   0.10656677  0.10820827]\n",
      "Score: mean=0.108885543475 std=0.00529774316657\n"
     ]
    }
   ],
   "source": [
    "model = Simple_stacking([ada_boost, ada_boost_GBRT, XGBoost, LGBM], [0.5, 0.1, 0.2, 0.2])\n",
    "score(model, X_train, y_train.values.ravel()) #0.107951775036 0.6, 0.2, 0.2"
   ]
  },
  {
   "cell_type": "code",
   "execution_count": 75,
   "metadata": {},
   "outputs": [
    {
     "name": "stdout",
     "output_type": "stream",
     "text": [
      "[ 122048.22365385  160241.80062217  180209.57390375 ...,  164875.4202714\n",
      "  120693.28337825  227822.09503442]\n"
     ]
    }
   ],
   "source": [
    "#model.fit(X_train, y_train)\n",
    "ada_boost.fit(X_train, y_train)\n",
    "submission(ada_boost, X_test, \"simple_stack\")"
   ]
  },
  {
   "cell_type": "code",
   "execution_count": 73,
   "metadata": {},
   "outputs": [
    {
     "name": "stdout",
     "output_type": "stream",
     "text": [
      "coeffs= [0.6, 0.2, 0.2]\n",
      "coeffs= [0.6, 0.2, 0.2]\n",
      "coeffs= [0.6, 0.2, 0.2]\n"
     ]
    },
    {
     "data": {
      "image/png": "[encoded data removed]",
      "text/plain": [
       "<matplotlib.figure.Figure at 0x7f10b8896e80>"
      ]
     },
     "metadata": {},
     "output_type": "display_data"
    }
   ],
   "source": [
    "title = \"Accuracy (simple stacking)\"\n",
    "plot_accuracy(model, title, X_train, y_train, n_jobs=1)\n",
    "\n",
    "plt.show()"
   ]
  },
  {
   "cell_type": "code",
   "execution_count": null,
   "metadata": {
    "collapsed": true
   },
   "outputs": [],
   "source": []
  }
 ],
 "metadata": {
  "kernelspec": {
   "display_name": "Python 3",
   "language": "python",
   "name": "python3"
  },
  "language_info": {
   "codemirror_mode": {
    "name": "ipython",
    "version": 3
   },
   "file_extension": ".py",
   "mimetype": "text/x-python",
   "name": "python",
   "nbconvert_exporter": "python",
   "pygments_lexer": "ipython3",
   "version": "3.6.3"
  }
 },
 "nbformat": 4,
 "nbformat_minor": 2
}
