{
 "cells": [
  {
   "cell_type": "markdown",
   "metadata": {},
   "source": [
    "## Data preparation:"
   ]
  },
  {
   "cell_type": "code",
   "execution_count": 1,
   "metadata": {
    "collapsed": true
   },
   "outputs": [],
   "source": [
    "import pandas as pd\n",
    "import numpy as np\n",
    "import matplotlib.pyplot as plt\n",
    "import seaborn as sns\n",
    "from sklearn.base import BaseEstimator, RegressorMixin\n",
    "from sklearn.linear_model import Ridge, Lasso, ElasticNet\n",
    "from sklearn.ensemble import RandomForestRegressor, ExtraTreesRegressor, AdaBoostRegressor, GradientBoostingRegressor\n",
    "from sklearn.svm import LinearSVR, SVR\n",
    "from sklearn.model_selection import train_test_split, RandomizedSearchCV, GridSearchCV, learning_curve, ShuffleSplit \n",
    "from sklearn.model_selection import KFold, cross_val_score, cross_val_predict\n",
    "from sklearn.metrics import mean_squared_log_error, mean_squared_error, make_scorer, r2_score\n",
    "from scipy.stats import randint, uniform, norm\n",
    "import data_preparation as prep\n",
    "from sklearn.dummy import DummyRegressor\n",
    "import xgboost as xgb\n",
    "import lightgbm as lgb\n",
    "\n",
    "N_JOBS = -1"
   ]
  },
  {
   "cell_type": "markdown",
   "metadata": {},
   "source": [
    "## Load data"
   ]
  },
  {
   "cell_type": "code",
   "execution_count": 2,
   "metadata": {
    "collapsed": true
   },
   "outputs": [],
   "source": [
    "X_train, y_train, X_test = prep.main()"
   ]
  },
  {
   "cell_type": "code",
   "execution_count": 3,
   "metadata": {},
   "outputs": [
    {
     "name": "stdout",
     "output_type": "stream",
     "text": [
      "    BldgType_1Fam  BldgType_2fmCon  BldgType_Duplex  BldgType_Twnhs  \\\n",
      "Id                                                                    \n",
      "1           0.452           -0.147           -0.197          -0.185   \n",
      "2           0.452           -0.147           -0.197          -0.185   \n",
      "\n",
      "    BldgType_TwnhsE  CentralAir_N  CentralAir_Y  Condition1_Artery  \\\n",
      "Id                                                                   \n",
      "1            -0.291        -0.268         0.268             -0.181   \n",
      "2            -0.291        -0.268         0.268             -0.181   \n",
      "\n",
      "    Condition1_Feedr  Condition1_Norm   ...    PoolQC  ScreenPorch  Street  \\\n",
      "Id                                      ...                                  \n",
      "1             -0.243            0.402   ...    -0.050       -0.308   0.064   \n",
      "2              4.109           -2.486   ...    -0.050       -0.308   0.064   \n",
      "\n",
      "    TotRmsAbvGrd  TotalBsmtSF  Utilities  WoodDeckSF  YearBuilt  YearRemodAdd  \\\n",
      "Id                                                                              \n",
      "1          0.995       -0.449      0.019      -0.933      1.048         0.898   \n",
      "2         -0.285        0.500      0.019       1.335      0.156        -0.394   \n",
      "\n",
      "    YrSold  \n",
      "Id          \n",
      "1    0.157  \n",
      "2   -0.603  \n",
      "\n",
      "[2 rows x 254 columns]\n"
     ]
    }
   ],
   "source": [
    "print(X_train.head(2))"
   ]
  },
  {
   "cell_type": "code",
   "execution_count": 4,
   "metadata": {},
   "outputs": [
    {
     "name": "stdout",
     "output_type": "stream",
     "text": [
      "Id\n",
      "1   12.248\n",
      "2   12.109\n",
      "Name: SalePrice, dtype: float64\n"
     ]
    }
   ],
   "source": [
    "print(y_train.head(2))"
   ]
  },
  {
   "cell_type": "code",
   "execution_count": 5,
   "metadata": {},
   "outputs": [
    {
     "name": "stdout",
     "output_type": "stream",
     "text": [
      "count   1456.000\n",
      "mean      12.022\n",
      "std        0.396\n",
      "min       10.460\n",
      "25%       11.775\n",
      "50%       12.002\n",
      "75%       12.274\n",
      "max       13.346\n",
      "Name: SalePrice, dtype: float64\n"
     ]
    }
   ],
   "source": [
    "print(y_train.describe())"
   ]
  },
  {
   "cell_type": "code",
   "execution_count": 6,
   "metadata": {},
   "outputs": [
    {
     "data": {
      "image/png": "[encoded data removed]",
      "text/plain": [
       "<matplotlib.figure.Figure at 0x7f55c8d6df60>"
      ]
     },
     "metadata": {},
     "output_type": "display_data"
    }
   ],
   "source": [
    "sns.distplot(y_train, fit=norm)\n",
    "plt.show()"
   ]
  },
  {
   "cell_type": "markdown",
   "metadata": {},
   "source": [
    "https://datascience.stackexchange.com/questions/20237/why-do-we-convert-skewed-data-into-a-normal-distribution"
   ]
  },
  {
   "cell_type": "code",
   "execution_count": 7,
   "metadata": {},
   "outputs": [
    {
     "name": "stdout",
     "output_type": "stream",
     "text": [
      "      BldgType_1Fam  BldgType_2fmCon  BldgType_Duplex  BldgType_Twnhs  \\\n",
      "Id                                                                      \n",
      "1461          0.452           -0.147           -0.197          -0.185   \n",
      "1462          0.452           -0.147           -0.197          -0.185   \n",
      "\n",
      "      BldgType_TwnhsE  CentralAir_N  CentralAir_Y  Condition1_Artery  \\\n",
      "Id                                                                     \n",
      "1461           -0.291        -0.268         0.268             -0.181   \n",
      "1462           -0.291        -0.268         0.268             -0.181   \n",
      "\n",
      "      Condition1_Feedr  Condition1_Norm   ...    PoolQC  ScreenPorch  Street  \\\n",
      "Id                                        ...                                  \n",
      "1461             4.109           -2.486   ...    -0.050        2.861   0.064   \n",
      "1462            -0.243            0.402   ...    -0.050       -0.308   0.064   \n",
      "\n",
      "      TotRmsAbvGrd  TotalBsmtSF  Utilities  WoodDeckSF  YearBuilt  \\\n",
      "Id                                                                  \n",
      "1461        -0.926       -0.388      0.019       0.914     -0.339   \n",
      "1462        -0.285        0.656      0.019       1.501     -0.438   \n",
      "\n",
      "      YearRemodAdd  YrSold  \n",
      "Id                          \n",
      "1461        -1.112   1.677  \n",
      "1462        -1.256   1.677  \n",
      "\n",
      "[2 rows x 254 columns]\n"
     ]
    }
   ],
   "source": [
    "print(X_test.head(2))"
   ]
  },
  {
   "cell_type": "markdown",
   "metadata": {},
   "source": [
    "## Submission function"
   ]
  },
  {
   "cell_type": "code",
   "execution_count": 8,
   "metadata": {
    "collapsed": true
   },
   "outputs": [],
   "source": [
    "def submission(model, X_test, file):\n",
    "    Id = pd.DataFrame(X_test.index, columns=['Id'])\n",
    "    y_pred = np.exp(model.predict(X_test))\n",
    "    print(y_pred)\n",
    "    prediction = pd.DataFrame(y_pred, columns=['SalePrice'])\n",
    "    res = pd.concat([Id, prediction], axis=1)\n",
    "    res.to_csv(path_or_buf=\"submission_\"+file,index=False)"
   ]
  },
  {
   "cell_type": "markdown",
   "metadata": {},
   "source": [
    "## Score function"
   ]
  },
  {
   "cell_type": "code",
   "execution_count": 9,
   "metadata": {
    "collapsed": true
   },
   "outputs": [],
   "source": [
    "def score(model, X, y):\n",
    "    n_folds = 5\n",
    "    kf = KFold(n_folds, shuffle=True, random_state=42).get_n_splits(X)\n",
    "    scores= np.sqrt(-cross_val_score(model, X, y, scoring=\"neg_mean_squared_error\", cv = kf))\n",
    "    print(\"scores=\", scores)\n",
    "    print(\"Score: mean=\"+str(scores.mean())+\" std=\"+str(scores.std()))"
   ]
  },
  {
   "cell_type": "markdown",
   "metadata": {},
   "source": [
    "## Grid search"
   ]
  },
  {
   "cell_type": "code",
   "execution_count": 10,
   "metadata": {
    "collapsed": true
   },
   "outputs": [],
   "source": [
    "def optimize_hyperparameters(model, param_grid, X, y):\n",
    "    grid_search = GridSearchCV(model, param_grid, scoring=\"neg_mean_squared_error\", n_jobs=N_JOBS, cv=3, verbose=1)\n",
    "    grid_search.fit(X, y)\n",
    "    print(\"Best params:\")\n",
    "    print(grid_search.best_params_)"
   ]
  },
  {
   "cell_type": "markdown",
   "metadata": {},
   "source": [
    "## Randomized search"
   ]
  },
  {
   "cell_type": "code",
   "execution_count": 11,
   "metadata": {
    "collapsed": true
   },
   "outputs": [],
   "source": [
    "def optimize_hyperparameters_random(model, param_dist, n_iterations, X, y, n_jobs):\n",
    "    randomized_search = RandomizedSearchCV(model, param_distributions=param_dist, n_iter=n_iterations, scoring=\"neg_mean_squared_error\", n_jobs=n_jobs, cv=3, verbose=1)\n",
    "    randomized_search.fit(X, y)\n",
    "    print(\"Best params:\")\n",
    "    print(randomized_search.best_params_)"
   ]
  },
  {
   "cell_type": "markdown",
   "metadata": {},
   "source": [
    "## Linear model"
   ]
  },
  {
   "cell_type": "markdown",
   "metadata": {},
   "source": [
    "### Ridge"
   ]
  },
  {
   "cell_type": "code",
   "execution_count": 12,
   "metadata": {
    "collapsed": true
   },
   "outputs": [],
   "source": [
    "class PositiveRidge(Ridge): \n",
    "    def __init__(self, alpha=1.0, fit_intercept=True, normalize=False, random_state=42, negative_values=0):\n",
    "        Ridge.__init__(self, alpha, fit_intercept, normalize, random_state)\n",
    "        if negative_values < 0:\n",
    "            self.negative_values = 0\n",
    "        else:\n",
    "            self.negative_values = negative_values\n",
    "\n",
    "    def predict(self, X, y=None): \n",
    "        y_pred = Ridge.predict(self, X)\n",
    "        #if(y_pred[y_pred < 0].sum() < 0):\n",
    "        #    print(\"====Replace negative values====\")\n",
    "        y_pred[y_pred < 0] = self.negative_values\n",
    "        return y_pred"
   ]
  },
  {
   "cell_type": "code",
   "execution_count": 13,
   "metadata": {
    "collapsed": true
   },
   "outputs": [],
   "source": [
    "param_dist = {\n",
    "    \"alpha\": uniform(loc=0, scale=300),\n",
    "    \"fit_intercept\": [True],\n",
    "    \"normalize\": [False],\n",
    "    \"random_state\": [42],\n",
    "    \"negative_values\": uniform(loc=1, scale=300000),\n",
    "}\n",
    "model = PositiveRidge()\n",
    "#optimize_hyperparameters_random(model, param_dist, 1000, X_train, y_train.values.ravel(), n_jobs=8)"
   ]
  },
  {
   "cell_type": "code",
   "execution_count": 14,
   "metadata": {},
   "outputs": [
    {
     "name": "stdout",
     "output_type": "stream",
     "text": [
      "scores= [ 0.10972043  0.11916625  0.1260496   0.11265393  0.11450826]\n",
      "Score: mean=0.116419696539 std=0.00570952644634\n"
     ]
    }
   ],
   "source": [
    "ridge = PositiveRidge(alpha=176.22651217200971, fit_intercept=True, negative_values=0, normalize=False, random_state=42)\n",
    "score(ridge, X_train, y_train.values.ravel()) #0.116"
   ]
  },
  {
   "cell_type": "code",
   "execution_count": 15,
   "metadata": {},
   "outputs": [
    {
     "name": "stdout",
     "output_type": "stream",
     "text": [
      "[ 123566.54965774  163647.57026157  182052.32147979 ...,  165255.00775944\n",
      "  119018.10983571  217861.5148297 ]\n"
     ]
    }
   ],
   "source": [
    "ridge.fit(X_train, y_train)\n",
    "submission(ridge, X_test, \"ridge\")"
   ]
  },
  {
   "cell_type": "markdown",
   "metadata": {},
   "source": [
    "### Lasso"
   ]
  },
  {
   "cell_type": "code",
   "execution_count": 16,
   "metadata": {
    "collapsed": true
   },
   "outputs": [],
   "source": [
    "class PositiveLasso(Lasso): \n",
    "    def __init__(self, alpha=1.0, fit_intercept=True, normalize=False, max_iter=10000, random_state=42, negative_values=0):\n",
    "        Lasso.__init__(self, alpha=alpha, fit_intercept=fit_intercept, normalize=normalize, max_iter=max_iter, random_state=random_state)\n",
    "        if negative_values < 0:\n",
    "            self.negative_values = 0\n",
    "        else:\n",
    "            self.negative_values = negative_values\n",
    "\n",
    "    def predict(self, X, y=None): \n",
    "        y_pred = Lasso.predict(self, X)\n",
    "        #if(y_pred[y_pred < 0].sum() < 0):\n",
    "        #    print(\"====Replace negative values====\")\n",
    "        y_pred[y_pred < 0] = self.negative_values\n",
    "        return y_pred"
   ]
  },
  {
   "cell_type": "code",
   "execution_count": 17,
   "metadata": {
    "collapsed": true,
    "scrolled": true
   },
   "outputs": [],
   "source": [
    "param_dist = {\n",
    "    \"alpha\": uniform(loc=0, scale=50000),\n",
    "    \"fit_intercept\": [True],\n",
    "    \"normalize\": [False],\n",
    "    \"max_iter\": [100000],\n",
    "    \"random_state\": [42],\n",
    "    \"negative_values\": uniform(loc=1, scale=300000),\n",
    "}\n",
    "model = PositiveLasso()\n",
    "#optimize_hyperparameters_random(model, param_dist, 1000, X_train, y_train.values.ravel(), n_jobs=8)"
   ]
  },
  {
   "cell_type": "code",
   "execution_count": 18,
   "metadata": {},
   "outputs": [
    {
     "name": "stdout",
     "output_type": "stream",
     "text": [
      "scores= [ 0.38687812  0.42585545  0.40101404  0.38336099  0.38196752]\n",
      "Score: mean=0.395815225071 std=0.0164692512447\n"
     ]
    }
   ],
   "source": [
    "lasso = PositiveLasso(alpha=28537.611854185361, fit_intercept=True, max_iter=10000, negative_values=0, normalize=False, random_state=42)\n",
    "score(lasso, X_train, y_train.values.ravel()) #0.40"
   ]
  },
  {
   "cell_type": "markdown",
   "metadata": {},
   "source": [
    "### Elastic net"
   ]
  },
  {
   "cell_type": "code",
   "execution_count": 19,
   "metadata": {
    "collapsed": true
   },
   "outputs": [],
   "source": [
    "class PositiveElasticNet(ElasticNet): \n",
    "    def __init__(self, alpha=1.0, l1_ratio=0.5, fit_intercept=True, normalize=False, max_iter=10000, random_state=42, negative_values=0):\n",
    "        ElasticNet.__init__(self, alpha=alpha, l1_ratio=l1_ratio, fit_intercept=fit_intercept, normalize=normalize, max_iter=max_iter, random_state=random_state)\n",
    "        if negative_values < 0:\n",
    "            self.negative_values = 0\n",
    "        else:\n",
    "            self.negative_values = negative_values\n",
    "\n",
    "    def predict(self, X, y=None): \n",
    "        y_pred = ElasticNet.predict(self, X)\n",
    "        #if(y_pred[y_pred < 0].sum() < 0):\n",
    "        #    print(\"====Replace negative values====\")\n",
    "        y_pred[y_pred < 0] = self.negative_values\n",
    "        return y_pred"
   ]
  },
  {
   "cell_type": "code",
   "execution_count": 20,
   "metadata": {
    "collapsed": true
   },
   "outputs": [],
   "source": [
    "param_dist = {\n",
    "    \"alpha\": uniform(loc=0, scale=1),\n",
    "    \"l1_ratio\": uniform(loc=0, scale=1),\n",
    "    \"fit_intercept\": [True],\n",
    "    \"normalize\": [False],\n",
    "    \"max_iter\": [100000],\n",
    "    \"random_state\": [42],\n",
    "    \"negative_values\": uniform(loc=1, scale=300000),\n",
    "}\n",
    "model = PositiveElasticNet()\n",
    "#optimize_hyperparameters_random(model, param_dist, 1000, X_train, y_train.values.ravel(), n_jobs=8)"
   ]
  },
  {
   "cell_type": "code",
   "execution_count": 21,
   "metadata": {},
   "outputs": [
    {
     "name": "stdout",
     "output_type": "stream",
     "text": [
      "scores= [ 0.10160697  0.11061807  0.11956958  0.10952906  0.11034564]\n",
      "Score: mean=0.11033386485 std=0.00569536009044\n"
     ]
    }
   ],
   "source": [
    "elastic_net = PositiveElasticNet(alpha=0.0048016016919922855, fit_intercept=True, l1_ratio=0.88336787754196211, max_iter=100000, negative_values=0, normalize=False, random_state=42)\n",
    "score(elastic_net, X_train, y_train.values.ravel()) #0.11033386485"
   ]
  },
  {
   "cell_type": "code",
   "execution_count": 22,
   "metadata": {},
   "outputs": [
    {
     "name": "stdout",
     "output_type": "stream",
     "text": [
      "[ 121568.54107706  158996.29781961  180366.28486427 ...,  164451.1419055\n",
      "  122051.85513069  228486.87614812]\n"
     ]
    }
   ],
   "source": [
    "elastic_net.fit(X_train, y_train)\n",
    "submission(elastic_net, X_test, \"elastic_net\")"
   ]
  },
  {
   "cell_type": "markdown",
   "metadata": {},
   "source": [
    "## Random forest"
   ]
  },
  {
   "cell_type": "code",
   "execution_count": 23,
   "metadata": {
    "collapsed": true
   },
   "outputs": [],
   "source": [
    "param_dist = {\n",
    "    \"max_depth\": randint(1,40),\n",
    "    \"max_features\": randint(1,200),\n",
    "    \"min_samples_split\": randint(2,100),\n",
    "    \"min_samples_leaf\": randint(2,100),\n",
    "    \"bootstrap\": [True, False],\n",
    "    \"n_jobs\": [N_JOBS],\n",
    "    \"verbose\": [0], \n",
    "    \"n_estimators\": [100],\n",
    "    \"random_state\": [42],\n",
    "}\n",
    "model = RandomForestRegressor()\n",
    "#optimize_hyperparameters_random(model, param_dist, 1000, X_train, y_train.values.ravel())"
   ]
  },
  {
   "cell_type": "code",
   "execution_count": 24,
   "metadata": {},
   "outputs": [
    {
     "name": "stdout",
     "output_type": "stream",
     "text": [
      "scores= [ 0.12893338  0.14032829  0.14194883  0.12999325  0.12878683]\n",
      "Score: mean=0.133998115168 std=0.0058674200217\n"
     ]
    }
   ],
   "source": [
    "random_forest = RandomForestRegressor(bootstrap=\"False\", max_depth=30, max_features=81, min_samples_leaf=3, min_samples_split=5, n_estimators=100, n_jobs=-1, random_state=42)\n",
    "score(random_forest, X_train, y_train.values.ravel()) #0.134"
   ]
  },
  {
   "cell_type": "code",
   "execution_count": 25,
   "metadata": {},
   "outputs": [
    {
     "name": "stdout",
     "output_type": "stream",
     "text": [
      "[ 123424.44175231  152033.08123303  180562.08021006 ...,  152385.16527412\n",
      "  114881.28340007  217826.56650972]\n"
     ]
    }
   ],
   "source": [
    "random_forest.fit(X_train, y_train)\n",
    "submission(random_forest, X_test, \"random_forest\")"
   ]
  },
  {
   "cell_type": "code",
   "execution_count": 26,
   "metadata": {
    "collapsed": true
   },
   "outputs": [],
   "source": [
    "param_dist = {\n",
    "    \"n_estimators\": [100], \n",
    "    \"max_depth\": randint(1,100), \n",
    "    \"max_features\": randint(1,200), \n",
    "    \"bootstrap\": [True, False], \n",
    "    \"oob_score\": [False], \n",
    "    \"n_jobs\": [N_JOBS], \n",
    "    \"random_state\": [42], \n",
    "    \"verbose\": [0], \n",
    "}\n",
    "model = ExtraTreesRegressor()\n",
    "#optimize_hyperparameters_random(model, param_dist, 100, X_train, y_train.values.ravel(), N_JOBS)"
   ]
  },
  {
   "cell_type": "code",
   "execution_count": 27,
   "metadata": {},
   "outputs": [
    {
     "name": "stdout",
     "output_type": "stream",
     "text": [
      "scores= [ 0.12059775  0.14287246  0.14600972  0.12766953  0.12890339]\n",
      "Score: mean=0.133210570141 std=0.00964892292068\n"
     ]
    }
   ],
   "source": [
    "extra_trees = ExtraTreesRegressor(bootstrap=\"False\", max_depth=47, max_features=163, n_estimators=1000, n_jobs=-1, random_state=42)\n",
    "score(extra_trees, X_train, y_train.values.ravel()) #0.133"
   ]
  },
  {
   "cell_type": "code",
   "execution_count": 28,
   "metadata": {},
   "outputs": [
    {
     "name": "stdout",
     "output_type": "stream",
     "text": [
      "[ 121423.78661994  150852.98294307  175991.71664052 ...,  148480.91585168\n",
      "  110396.20069791  215083.46994073]\n"
     ]
    }
   ],
   "source": [
    "extra_trees.fit(X_train, y_train)\n",
    "submission(extra_trees, X_test, \"extra_trees\")"
   ]
  },
  {
   "cell_type": "markdown",
   "metadata": {},
   "source": [
    "## Adaboost"
   ]
  },
  {
   "cell_type": "code",
   "execution_count": 29,
   "metadata": {
    "collapsed": true
   },
   "outputs": [],
   "source": [
    "param_dist = {\n",
    "    \"base_estimator\": [elastic_net], \n",
    "    \"n_estimators\": [50],\n",
    "    \"learning_rate\": uniform(0,1), \n",
    "    \"loss\": [\"linear\"], \n",
    "    'random_state': [42]\n",
    "}\n",
    "model = AdaBoostRegressor()\n",
    "#optimize_hyperparameters_random(model, param_dist, 100, X_train, y_train.values.ravel(), N_JOBS)"
   ]
  },
  {
   "cell_type": "code",
   "execution_count": 30,
   "metadata": {},
   "outputs": [
    {
     "name": "stdout",
     "output_type": "stream",
     "text": [
      "scores= [ 0.10117776  0.11009225  0.11988806  0.10819525  0.11065833]\n",
      "Score: mean=0.110002333212 std=0.00598839899799\n"
     ]
    }
   ],
   "source": [
    "ada_boost = AdaBoostRegressor(base_estimator=elastic_net, learning_rate=0.0035798453369878525, loss=\"linear\", n_estimators=50, random_state=42)\n",
    "score(ada_boost, X_train, y_train.values.ravel()) #0.110"
   ]
  },
  {
   "cell_type": "code",
   "execution_count": 31,
   "metadata": {},
   "outputs": [
    {
     "name": "stdout",
     "output_type": "stream",
     "text": [
      "[ 122048.22365385  160241.80062217  180209.57390375 ...,  164875.4202714\n",
      "  120693.28337825  227822.09503442]\n"
     ]
    }
   ],
   "source": [
    "ada_boost.fit(X_train, y_train)\n",
    "submission(ada_boost, X_test, \"ada_boost\")"
   ]
  },
  {
   "cell_type": "code",
   "execution_count": 32,
   "metadata": {},
   "outputs": [
    {
     "ename": "NameError",
     "evalue": "name 'GBRT' is not defined",
     "output_type": "error",
     "traceback": [
      "\u001b[0;31m---------------------------------------------------------------------------\u001b[0m",
      "\u001b[0;31mNameError\u001b[0m                                 Traceback (most recent call last)",
      "\u001b[0;32m<ipython-input-32-bde2bf745c2c>\u001b[0m in \u001b[0;36m<module>\u001b[0;34m()\u001b[0m\n\u001b[1;32m      1\u001b[0m param_dist = {\n\u001b[0;32m----> 2\u001b[0;31m     \u001b[0;34m\"base_estimator\"\u001b[0m\u001b[0;34m:\u001b[0m \u001b[0;34m[\u001b[0m\u001b[0mGBRT\u001b[0m\u001b[0;34m]\u001b[0m\u001b[0;34m,\u001b[0m\u001b[0;34m\u001b[0m\u001b[0m\n\u001b[0m\u001b[1;32m      3\u001b[0m     \u001b[0;34m\"n_estimators\"\u001b[0m\u001b[0;34m:\u001b[0m \u001b[0;34m[\u001b[0m\u001b[0;36m10\u001b[0m\u001b[0;34m]\u001b[0m\u001b[0;34m,\u001b[0m\u001b[0;34m\u001b[0m\u001b[0m\n\u001b[1;32m      4\u001b[0m     \u001b[0;34m\"learning_rate\"\u001b[0m\u001b[0;34m:\u001b[0m \u001b[0muniform\u001b[0m\u001b[0;34m(\u001b[0m\u001b[0;36m0\u001b[0m\u001b[0;34m,\u001b[0m\u001b[0;36m1\u001b[0m\u001b[0;34m)\u001b[0m\u001b[0;34m,\u001b[0m\u001b[0;34m\u001b[0m\u001b[0m\n\u001b[1;32m      5\u001b[0m     \u001b[0;34m\"loss\"\u001b[0m\u001b[0;34m:\u001b[0m \u001b[0;34m[\u001b[0m\u001b[0;34m\"exponential\"\u001b[0m\u001b[0;34m]\u001b[0m\u001b[0;34m,\u001b[0m\u001b[0;34m\u001b[0m\u001b[0m\n",
      "\u001b[0;31mNameError\u001b[0m: name 'GBRT' is not defined"
     ]
    }
   ],
   "source": [
    "param_dist = {\n",
    "    \"base_estimator\": [GBRT], \n",
    "    \"n_estimators\": [10],\n",
    "    \"learning_rate\": uniform(0,1), \n",
    "    \"loss\": [\"exponential\"], \n",
    "    'random_state': [42]\n",
    "}\n",
    "model = AdaBoostRegressor()\n",
    "#optimize_hyperparameters_random(model, param_dist, 50, X_train, y_train.values.ravel(), -1)"
   ]
  },
  {
   "cell_type": "code",
   "execution_count": 41,
   "metadata": {},
   "outputs": [
    {
     "name": "stdout",
     "output_type": "stream",
     "text": [
      "scores= [ 0.11314424  0.11679607  0.12114465  0.11249559  0.11264412]\n",
      "Score: mean=0.11524493514 std=0.00334510679766\n"
     ]
    }
   ],
   "source": [
    "ada_boost_GBRT = AdaBoostRegressor(base_estimator=GBRT, learning_rate=0.01074588992181591, loss=\"exponential\", n_estimators=10, random_state=42)\n",
    "score(ada_boost_GBRT, X_train, y_train.values.ravel()) #0.115"
   ]
  },
  {
   "cell_type": "code",
   "execution_count": 42,
   "metadata": {},
   "outputs": [
    {
     "name": "stdout",
     "output_type": "stream",
     "text": [
      "[ 124119.86580644  155503.57598605  186661.2722255  ...,  168881.67789574\n",
      "  118058.93750132  208549.25618491]\n"
     ]
    }
   ],
   "source": [
    "ada_boost_GBRT.fit(X_train, y_train)\n",
    "submission(ada_boost_GBRT, X_test, \"ada_boost_GBRT\")"
   ]
  },
  {
   "cell_type": "markdown",
   "metadata": {},
   "source": [
    "## Gradient Boosting Trees"
   ]
  },
  {
   "cell_type": "code",
   "execution_count": 34,
   "metadata": {
    "collapsed": true
   },
   "outputs": [],
   "source": [
    "param_dist = {\n",
    "    #\"loss\": ['huber'],\n",
    "    #\"alpha\": uniform(0,1),\n",
    "    \"learning_rate\": uniform(0.01, 0.5),\n",
    "    \"max_depth\": randint(1,40),\n",
    "    \"max_features\": randint(1,200),\n",
    "    \"min_samples_split\": randint(2,100),\n",
    "    \"min_samples_leaf\": randint(2,100),\n",
    "    \"verbose\": [0], \n",
    "    \"n_estimators\": [10000],\n",
    "    \"random_state\": [42],\n",
    "}\n",
    "model = GradientBoostingRegressor()\n",
    "#optimize_hyperparameters_random(model, param_dist, 100, X_train, y_train.values.ravel(), N_JOBS)"
   ]
  },
  {
   "cell_type": "code",
   "execution_count": 35,
   "metadata": {
    "collapsed": true
   },
   "outputs": [],
   "source": [
    "GBRT = GradientBoostingRegressor(alpha=0.728, learning_rate=0.085, loss=\"huber\", max_depth=20, max_features=21, min_samples_leaf=19, min_samples_split=78, n_estimators=100, random_state=42)\n",
    "#score(GBRT, X_train, y_train.values.ravel()) #0.121"
   ]
  },
  {
   "cell_type": "code",
   "execution_count": 36,
   "metadata": {
    "collapsed": true
   },
   "outputs": [],
   "source": [
    "GBRT = GradientBoostingRegressor(learning_rate=0.0816, max_depth=12, max_features=19, min_samples_leaf=2, min_samples_split=61, n_estimators=100, random_state=42)\n",
    "#score(GBRT, X_train, y_train.values.ravel()) #0.119"
   ]
  },
  {
   "cell_type": "code",
   "execution_count": 37,
   "metadata": {
    "collapsed": true
   },
   "outputs": [],
   "source": [
    "GBRT = GradientBoostingRegressor(learning_rate=0.012339723882381295, max_depth=39, max_features=4, min_samples_leaf=4, min_samples_split=48, n_estimators=10000, random_state=42)\n",
    "#score(GBRT, X_train, y_train.values.ravel()) #0.119"
   ]
  },
  {
   "cell_type": "code",
   "execution_count": 38,
   "metadata": {},
   "outputs": [
    {
     "name": "stdout",
     "output_type": "stream",
     "text": [
      "scores= [ 0.11464471  0.12231083  0.12255839  0.11372461  0.11418759]\n",
      "Score: mean=0.117485229046 std=0.00405237156595\n"
     ]
    }
   ],
   "source": [
    "GBRT = GradientBoostingRegressor(learning_rate=0.20951691351320212, max_depth=1, max_features=118, min_samples_leaf=15, min_samples_split=26, n_estimators=1000, random_state=42)\n",
    "score(GBRT, X_train, y_train.values.ravel()) #0.117"
   ]
  },
  {
   "cell_type": "code",
   "execution_count": 39,
   "metadata": {},
   "outputs": [
    {
     "name": "stdout",
     "output_type": "stream",
     "text": [
      "[ 118972.22161729  156856.6118166   186315.4638387  ...,  174913.5996919\n",
      "  114875.74043249  216110.41645273]\n"
     ]
    }
   ],
   "source": [
    "GBRT.fit(X_train, y_train)\n",
    "submission(GBRT, X_test, \"GBRT\")"
   ]
  },
  {
   "cell_type": "markdown",
   "metadata": {},
   "source": [
    "## XGBoost"
   ]
  },
  {
   "cell_type": "code",
   "execution_count": 43,
   "metadata": {
    "collapsed": true
   },
   "outputs": [],
   "source": [
    "param_dist = {\n",
    "    \"max_depth\": randint(1,100),\n",
    "    \"min_child_weight\": randint(0,1000),\n",
    "    \"gamma\": randint(0,100),\n",
    "    \"n_estimators\": [10],\n",
    "    \"silent\": [False],\n",
    "    \"n_jobs\": [N_JOBS],\n",
    "    \"random_state\": [42],\n",
    "}\n",
    "XGBoost = xgb.XGBRegressor()\n",
    "#optimize_hyperparameters_random(XGBoost, param_dist, 100, X_train, y_train.values.ravel())"
   ]
  },
  {
   "cell_type": "code",
   "execution_count": 44,
   "metadata": {},
   "outputs": [
    {
     "name": "stdout",
     "output_type": "stream",
     "text": [
      "scores= [ 0.1137977   0.12899517  0.12457906  0.1192399   0.11837587]\n",
      "Score: mean=0.120997539615 std=0.00526478049823\n"
     ]
    }
   ],
   "source": [
    "model_xgb = xgb.XGBRegressor(colsample_bytree=0.4603, gamma=0.0468, \n",
    "                             learning_rate=0.05, max_depth=3, \n",
    "                             min_child_weight=1.7817, n_estimators=2200,\n",
    "                             reg_alpha=0.4640, reg_lambda=0.8571,\n",
    "                             subsample=0.5213, silent=1,\n",
    "                             random_state =7, nthread = -1)\n",
    "score(XGBoost, X_train, y_train.values.ravel()) #0.117"
   ]
  },
  {
   "cell_type": "code",
   "execution_count": 45,
   "metadata": {},
   "outputs": [
    {
     "name": "stdout",
     "output_type": "stream",
     "text": [
      "[ 122667.8515625  162690.703125   180439.421875  ...,  158258.921875\n",
      "  119059.984375   208086.953125 ]\n"
     ]
    }
   ],
   "source": [
    "XGBoost.fit(X_train, y_train)\n",
    "submission(XGBoost, X_test, \"XGBoost\")"
   ]
  },
  {
   "cell_type": "code",
   "execution_count": 46,
   "metadata": {
    "collapsed": true
   },
   "outputs": [],
   "source": [
    "param_grid = {\n",
    "    \"max_depth\": [1, 25, 50],\n",
    "    \"learning_rate\": [0.25, 0.50],\n",
    "    \"min_child_weight\": [1, 20, 50],\n",
    "    \"gamma\": [1, 50, 75],\n",
    "    \"n_estimators\": [10],\n",
    "    \"silent\": [False],\n",
    "    \"n_jobs\": [N_JOBS],\n",
    "    \"random_state\": [42], \n",
    "    }\n",
    "model = xgb.XGBRegressor()\n",
    "#optimize_hyperparameters(model,param_grid, X_train, y_train.values.ravel())"
   ]
  },
  {
   "cell_type": "code",
   "execution_count": 47,
   "metadata": {
    "collapsed": true
   },
   "outputs": [],
   "source": [
    "#XGBoost = xgb.XGBRegressor(gamma=1, learning_rate=0.5, max_depth=25, min_child_weight=1, n_estimators=10, n_jobs=-1, random_state=42)\n",
    "#score(XGBoost, X_train, y_train.values.ravel()) #0.145"
   ]
  },
  {
   "cell_type": "markdown",
   "metadata": {},
   "source": [
    "## LightGBM"
   ]
  },
  {
   "cell_type": "code",
   "execution_count": null,
   "metadata": {},
   "outputs": [
    {
     "name": "stdout",
     "output_type": "stream",
     "text": [
      "Fitting 3 folds for each of 5 candidates, totalling 15 fits\n"
     ]
    }
   ],
   "source": [
    "param_dist = {\n",
    "    \"num_leaves\": randint(2,100),\n",
    "    \"max_depth\": randint(1,100),\n",
    "    \"min_data_in_leaf\": randint(1,50),\n",
    "    \"learning_rate\": [0.01],\n",
    "    \"n_estimators\": [1000],\n",
    "    #\"subsample\": uniform(0.4, 0.9),\n",
    "    #\"colsample_bytree\": uniform(0.4, 1),\n",
    "    \"reg_alpha\": uniform(0, 1),\n",
    "    #\"reg_lambda \": uniform(0, 1),\n",
    "    \"silent\": [0],\n",
    "    \"n_jobs\": [8],\n",
    "    \"random_state\": [42],\n",
    "}\n",
    "model = lgb.LGBMRegressor()\n",
    "optimize_hyperparameters_random(model, param_dist, 5, X_train, y_train.values.ravel(), 1)"
   ]
  },
  {
   "cell_type": "code",
   "execution_count": 71,
   "metadata": {},
   "outputs": [
    {
     "name": "stdout",
     "output_type": "stream",
     "text": [
      "500\n",
      "501\n",
      "502\n",
      "503\n",
      "504\n",
      "505\n",
      "506\n",
      "507\n",
      "508\n",
      "509\n",
      "510\n",
      "511\n",
      "512\n",
      "513\n",
      "514\n",
      "515\n",
      "516\n",
      "517\n",
      "518\n",
      "519\n",
      "520\n",
      "521\n",
      "522\n",
      "523\n",
      "524\n",
      "525\n",
      "526\n",
      "527\n",
      "528\n",
      "529\n",
      "530\n",
      "531\n",
      "532\n",
      "533\n",
      "534\n",
      "535\n",
      "536\n",
      "537\n",
      "538\n",
      "539\n",
      "540\n",
      "541\n",
      "542\n",
      "543\n",
      "544\n",
      "545\n",
      "546\n",
      "547\n",
      "548\n",
      "549\n",
      "550\n",
      "551\n",
      "552\n",
      "553\n",
      "554\n",
      "555\n",
      "556\n",
      "557\n",
      "558\n",
      "559\n",
      "560\n",
      "561\n",
      "562\n",
      "563\n",
      "564\n",
      "565\n",
      "566\n",
      "567\n",
      "568\n",
      "569\n",
      "570\n",
      "571\n",
      "572\n",
      "573\n",
      "574\n",
      "575\n",
      "576\n",
      "577\n",
      "578\n",
      "579\n",
      "580\n",
      "581\n",
      "582\n",
      "583\n",
      "584\n",
      "585\n",
      "586\n",
      "587\n",
      "588\n",
      "589\n",
      "590\n",
      "591\n",
      "592\n",
      "593\n",
      "594\n",
      "595\n",
      "596\n",
      "597\n",
      "598\n",
      "599\n",
      "600\n",
      "601\n",
      "602\n",
      "603\n",
      "604\n",
      "605\n",
      "606\n",
      "607\n",
      "608\n",
      "609\n",
      "610\n",
      "611\n",
      "612\n",
      "613\n",
      "614\n",
      "615\n",
      "616\n",
      "617\n",
      "618\n",
      "619\n",
      "620\n",
      "621\n",
      "622\n",
      "623\n",
      "624\n",
      "625\n",
      "626\n",
      "627\n",
      "628\n",
      "629\n",
      "630\n",
      "631\n",
      "632\n",
      "633\n",
      "634\n",
      "635\n",
      "636\n",
      "637\n",
      "638\n",
      "639\n",
      "640\n",
      "641\n",
      "642\n",
      "643\n",
      "644\n",
      "645\n",
      "646\n",
      "647\n",
      "648\n",
      "649\n",
      "650\n",
      "651\n",
      "652\n",
      "653\n",
      "654\n",
      "655\n",
      "656\n",
      "657\n",
      "658\n",
      "659\n",
      "660\n",
      "661\n",
      "662\n",
      "663\n",
      "664\n",
      "665\n",
      "666\n",
      "667\n",
      "668\n",
      "669\n",
      "670\n",
      "671\n",
      "672\n",
      "673\n",
      "674\n",
      "675\n",
      "676\n",
      "677\n",
      "678\n",
      "679\n",
      "680\n",
      "681\n",
      "682\n",
      "683\n",
      "684\n",
      "685\n",
      "686\n",
      "687\n",
      "688\n",
      "689\n",
      "690\n",
      "691\n",
      "692\n",
      "693\n",
      "694\n",
      "695\n",
      "696\n",
      "697\n",
      "698\n",
      "699\n",
      "700\n",
      "701\n",
      "702\n",
      "703\n",
      "704\n",
      "705\n",
      "706\n",
      "707\n",
      "708\n",
      "709\n",
      "710\n",
      "711\n",
      "712\n",
      "713\n",
      "714\n",
      "715\n",
      "716\n",
      "717\n",
      "718\n",
      "719\n",
      "720\n",
      "721\n",
      "722\n",
      "723\n",
      "724\n",
      "725\n",
      "726\n",
      "727\n",
      "728\n",
      "729\n",
      "730\n",
      "731\n",
      "732\n",
      "733\n",
      "734\n",
      "735\n",
      "736\n",
      "737\n",
      "738\n",
      "739\n",
      "740\n",
      "741\n",
      "742\n",
      "743\n",
      "744\n",
      "745\n",
      "746\n",
      "747\n",
      "748\n",
      "749\n",
      "750\n",
      "751\n",
      "752\n",
      "753\n",
      "754\n",
      "755\n",
      "756\n",
      "757\n",
      "758\n",
      "759\n",
      "760\n",
      "761\n",
      "762\n",
      "763\n",
      "764\n",
      "765\n",
      "766\n",
      "767\n",
      "768\n",
      "769\n",
      "770\n",
      "771\n",
      "772\n",
      "773\n",
      "774\n",
      "775\n",
      "776\n",
      "777\n",
      "778\n",
      "779\n",
      "780\n",
      "781\n",
      "782\n",
      "783\n",
      "784\n",
      "785\n",
      "786\n",
      "787\n",
      "788\n",
      "789\n",
      "790\n",
      "791\n",
      "792\n",
      "793\n",
      "794\n",
      "795\n",
      "796\n",
      "797\n",
      "798\n",
      "799\n",
      "800\n",
      "801\n",
      "802\n",
      "803\n",
      "804\n",
      "805\n",
      "806\n",
      "807\n",
      "808\n",
      "809\n",
      "810\n",
      "811\n",
      "812\n",
      "813\n",
      "814\n",
      "815\n",
      "816\n",
      "817\n",
      "818\n",
      "819\n",
      "820\n",
      "821\n",
      "822\n",
      "823\n",
      "824\n",
      "825\n",
      "826\n",
      "827\n",
      "828\n",
      "829\n",
      "830\n",
      "831\n",
      "832\n",
      "833\n",
      "834\n",
      "835\n",
      "836\n",
      "837\n",
      "838\n",
      "839\n",
      "840\n",
      "841\n",
      "842\n",
      "843\n",
      "844\n",
      "845\n",
      "846\n",
      "847\n",
      "848\n",
      "849\n",
      "850\n",
      "851\n",
      "852\n",
      "853\n",
      "854\n",
      "855\n",
      "856\n",
      "857\n",
      "858\n",
      "859\n",
      "860\n",
      "861\n",
      "862\n",
      "863\n",
      "864\n",
      "865\n",
      "866\n",
      "867\n",
      "868\n",
      "869\n",
      "870\n",
      "871\n",
      "872\n",
      "873\n",
      "874\n",
      "875\n",
      "876\n",
      "877\n",
      "878\n",
      "879\n",
      "880\n",
      "881\n",
      "882\n",
      "883\n",
      "884\n",
      "885\n",
      "886\n",
      "887\n",
      "888\n",
      "889\n",
      "890\n",
      "891\n",
      "892\n",
      "893\n",
      "894\n",
      "895\n",
      "896\n",
      "897\n",
      "898\n",
      "899\n",
      "900\n",
      "901\n",
      "902\n",
      "903\n",
      "904\n",
      "905\n",
      "906\n",
      "907\n",
      "908\n",
      "909\n",
      "910\n",
      "911\n",
      "912\n",
      "913\n",
      "914\n",
      "915\n",
      "916\n",
      "917\n",
      "918\n",
      "919\n",
      "920\n",
      "921\n",
      "922\n",
      "923\n",
      "924\n",
      "925\n",
      "926\n",
      "927\n",
      "928\n",
      "929\n",
      "930\n",
      "931\n",
      "932\n",
      "933\n",
      "934\n",
      "935\n",
      "936\n",
      "937\n",
      "938\n",
      "939\n",
      "940\n",
      "941\n",
      "942\n",
      "943\n",
      "944\n",
      "945\n",
      "946\n",
      "947\n",
      "948\n",
      "949\n",
      "950\n",
      "951\n",
      "952\n",
      "953\n",
      "954\n",
      "955\n",
      "956\n",
      "957\n",
      "958\n",
      "959\n",
      "960\n",
      "961\n",
      "962\n",
      "963\n",
      "964\n",
      "965\n",
      "966\n",
      "967\n",
      "968\n",
      "969\n",
      "970\n",
      "971\n",
      "972\n",
      "973\n",
      "974\n",
      "975\n",
      "976\n",
      "977\n",
      "978\n",
      "979\n",
      "980\n",
      "981\n",
      "982\n",
      "983\n",
      "984\n",
      "985\n",
      "986\n",
      "987\n",
      "988\n",
      "989\n",
      "990\n",
      "991\n",
      "992\n",
      "993\n",
      "994\n",
      "995\n",
      "996\n",
      "997\n",
      "998\n",
      "999\n",
      "1000\n",
      "1001\n",
      "1002\n",
      "1003\n",
      "1004\n",
      "1005\n",
      "1006\n",
      "1007\n",
      "1008\n",
      "1009\n",
      "1010\n",
      "1011\n",
      "1012\n",
      "1013\n",
      "1014\n",
      "1015\n",
      "1016\n",
      "1017\n",
      "1018\n",
      "1019\n",
      "1020\n",
      "1021\n",
      "1022\n",
      "1023\n",
      "1024\n",
      "1025\n",
      "1026\n",
      "1027\n",
      "1028\n",
      "1029\n",
      "1030\n",
      "1031\n",
      "1032\n",
      "1033\n",
      "1034\n",
      "1035\n",
      "1036\n",
      "1037\n",
      "1038\n",
      "1039\n",
      "1040\n",
      "1041\n",
      "1042\n",
      "1043\n",
      "1044\n",
      "1045\n",
      "1046\n",
      "1047\n",
      "1048\n",
      "1049\n",
      "1050\n",
      "1051\n",
      "1052\n",
      "1053\n",
      "1054\n",
      "1055\n",
      "1056\n",
      "1057\n",
      "1058\n",
      "1059\n",
      "1060\n",
      "1061\n",
      "1062\n",
      "1063\n",
      "1064\n",
      "1065\n",
      "1066\n",
      "1067\n",
      "1068\n",
      "1069\n",
      "1070\n",
      "1071\n",
      "1072\n",
      "1073\n",
      "1074\n",
      "1075\n",
      "1076\n",
      "1077\n",
      "1078\n",
      "1079\n",
      "1080\n",
      "1081\n",
      "1082\n",
      "1083\n",
      "1084\n",
      "1085\n",
      "1086\n",
      "1087\n",
      "1088\n",
      "1089\n",
      "1090\n",
      "1091\n",
      "1092\n",
      "1093\n",
      "1094\n",
      "1095\n",
      "1096\n",
      "1097\n",
      "1098\n",
      "1099\n",
      "1100\n",
      "1101\n",
      "1102\n",
      "1103\n",
      "1104\n",
      "1105\n",
      "1106\n",
      "1107\n",
      "1108\n",
      "1109\n",
      "1110\n",
      "1111\n",
      "1112\n",
      "1113\n",
      "1114\n",
      "1115\n",
      "1116\n",
      "1117\n",
      "1118\n",
      "1119\n",
      "1120\n",
      "1121\n",
      "1122\n",
      "1123\n",
      "1124\n",
      "1125\n",
      "1126\n",
      "1127\n",
      "1128\n",
      "1129\n",
      "1130\n",
      "1131\n",
      "1132\n",
      "1133\n",
      "1134\n",
      "1135\n",
      "1136\n",
      "1137\n",
      "1138\n",
      "1139\n",
      "1140\n",
      "1141\n",
      "1142\n",
      "1143\n",
      "1144\n",
      "1145\n",
      "1146\n",
      "1147\n",
      "1148\n",
      "1149\n",
      "1150\n",
      "1151\n",
      "1152\n",
      "1153\n",
      "1154\n",
      "1155\n",
      "1156\n",
      "1157\n",
      "1158\n",
      "1159\n",
      "1160\n",
      "1161\n",
      "1162\n",
      "1163\n",
      "1164\n",
      "1165\n",
      "1166\n",
      "1167\n",
      "1168\n",
      "1169\n",
      "1170\n",
      "1171\n",
      "1172\n",
      "1173\n",
      "1174\n",
      "1175\n",
      "1176\n",
      "1177\n",
      "1178\n",
      "1179\n",
      "1180\n",
      "1181\n",
      "1182\n",
      "1183\n",
      "1184\n",
      "1185\n",
      "1186\n",
      "1187\n",
      "1188\n",
      "1189\n",
      "1190\n",
      "1191\n",
      "1192\n",
      "1193\n",
      "1194\n",
      "1195\n",
      "1196\n",
      "1197\n",
      "1198\n",
      "1199\n",
      "1200\n",
      "1201\n",
      "1202\n",
      "1203\n",
      "1204\n",
      "1205\n",
      "1206\n",
      "1207\n",
      "1208\n",
      "1209\n",
      "1210\n",
      "1211\n",
      "1212\n",
      "1213\n",
      "1214\n",
      "1215\n",
      "1216\n",
      "1217\n",
      "1218\n",
      "1219\n",
      "1220\n",
      "1221\n",
      "1222\n",
      "1223\n",
      "1224\n",
      "1225\n",
      "1226\n",
      "1227\n",
      "1228\n",
      "1229\n",
      "1230\n",
      "1231\n",
      "1232\n",
      "1233\n",
      "1234\n",
      "1235\n",
      "1236\n",
      "1237\n",
      "1238\n",
      "1239\n",
      "1240\n",
      "1241\n",
      "1242\n",
      "1243\n",
      "1244\n",
      "1245\n",
      "1246\n",
      "1247\n",
      "1248\n",
      "1249\n",
      "1250\n",
      "1251\n",
      "1252\n",
      "1253\n",
      "1254\n",
      "1255\n",
      "1256\n",
      "1257\n",
      "1258\n",
      "1259\n",
      "1260\n",
      "1261\n",
      "1262\n",
      "1263\n",
      "1264\n",
      "1265\n",
      "1266\n",
      "1267\n",
      "1268\n",
      "1269\n",
      "1270\n",
      "1271\n",
      "1272\n",
      "1273\n",
      "1274\n",
      "1275\n",
      "1276\n",
      "1277\n",
      "1278\n",
      "1279\n",
      "1280\n",
      "1281\n",
      "1282\n",
      "1283\n",
      "1284\n",
      "1285\n",
      "1286\n",
      "1287\n",
      "1288\n",
      "1289\n",
      "1290\n",
      "1291\n",
      "1292\n",
      "1293\n",
      "1294\n",
      "1295\n",
      "1296\n",
      "1297\n",
      "1298\n",
      "1299\n",
      "1300\n",
      "1301\n",
      "1302\n",
      "1303\n",
      "1304\n",
      "1305\n",
      "1306\n",
      "1307\n",
      "1308\n",
      "1309\n",
      "1310\n",
      "1311\n",
      "1312\n",
      "1313\n",
      "1314\n",
      "1315\n",
      "1316\n",
      "1317\n",
      "1318\n",
      "1319\n",
      "1320\n",
      "1321\n",
      "1322\n",
      "1323\n",
      "1324\n",
      "1325\n",
      "1326\n",
      "1327\n",
      "1328\n",
      "1329\n",
      "1330\n",
      "1331\n",
      "1332\n",
      "1333\n",
      "1334\n",
      "1335\n",
      "1336\n",
      "1337\n",
      "1338\n",
      "1339\n",
      "1340\n",
      "1341\n",
      "1342\n",
      "1343\n",
      "1344\n",
      "1345\n",
      "1346\n",
      "1347\n",
      "1348\n",
      "1349\n",
      "1350\n",
      "1351\n",
      "1352\n",
      "1353\n",
      "1354\n",
      "1355\n",
      "1356\n",
      "1357\n",
      "1358\n",
      "1359\n",
      "1360\n",
      "1361\n",
      "1362\n",
      "1363\n",
      "1364\n",
      "1365\n",
      "1366\n",
      "1367\n",
      "1368\n",
      "1369\n",
      "1370\n",
      "1371\n",
      "1372\n",
      "1373\n",
      "1374\n",
      "1375\n",
      "1376\n",
      "1377\n",
      "1378\n",
      "1379\n",
      "1380\n",
      "1381\n",
      "1382\n",
      "1383\n",
      "1384\n",
      "1385\n",
      "1386\n",
      "1387\n",
      "1388\n",
      "1389\n",
      "1390\n",
      "1391\n",
      "1392\n",
      "1393\n",
      "1394\n",
      "1395\n",
      "1396\n",
      "1397\n",
      "1398\n",
      "1399\n",
      "1400\n",
      "1401\n",
      "1402\n",
      "1403\n",
      "1404\n",
      "1405\n",
      "1406\n",
      "1407\n",
      "1408\n",
      "1409\n",
      "1410\n",
      "1411\n",
      "1412\n",
      "1413\n",
      "1414\n",
      "1415\n",
      "1416\n",
      "1417\n",
      "1418\n",
      "1419\n",
      "1420\n",
      "1421\n",
      "1422\n",
      "1423\n",
      "1424\n",
      "1425\n",
      "1426\n",
      "1427\n",
      "1428\n",
      "1429\n",
      "1430\n",
      "1431\n",
      "1432\n",
      "1433\n",
      "1434\n",
      "1435\n",
      "1436\n",
      "1437\n",
      "1438\n",
      "1439\n",
      "1440\n",
      "1441\n",
      "1442\n",
      "1443\n",
      "1444\n",
      "1445\n",
      "1446\n",
      "1447\n",
      "1448\n",
      "1449\n",
      "1450\n",
      "1451\n",
      "1452\n",
      "1453\n",
      "1454\n",
      "1455\n",
      "1456\n",
      "1457\n",
      "1458\n",
      "1459\n",
      "1460\n",
      "1461\n",
      "1462\n",
      "1463\n",
      "1464\n",
      "1465\n",
      "1466\n",
      "1467\n",
      "1468\n",
      "1469\n",
      "1470\n",
      "1471\n",
      "1472\n",
      "1473\n",
      "1474\n",
      "1475\n",
      "1476\n",
      "1477\n",
      "1478\n",
      "1479\n",
      "1480\n",
      "1481\n",
      "1482\n",
      "1483\n",
      "1484\n",
      "1485\n",
      "1486\n",
      "1487\n",
      "1488\n",
      "1489\n",
      "1490\n",
      "1491\n",
      "1492\n",
      "1493\n",
      "1494\n",
      "1495\n",
      "1496\n",
      "1497\n",
      "1498\n",
      "1499\n",
      "1500\n",
      "1501\n",
      "1502\n",
      "1503\n",
      "1504\n",
      "1505\n",
      "1506\n",
      "1507\n",
      "1508\n",
      "1509\n",
      "1510\n",
      "1511\n",
      "1512\n",
      "1513\n",
      "1514\n",
      "1515\n",
      "1516\n",
      "1517\n",
      "1518\n",
      "1519\n",
      "1520\n",
      "1521\n",
      "1522\n",
      "1523\n",
      "1524\n",
      "1525\n",
      "1526\n",
      "1527\n",
      "1528\n",
      "1529\n",
      "1530\n",
      "1531\n",
      "1532\n",
      "1533\n",
      "1534\n",
      "1535\n",
      "1536\n",
      "1537\n",
      "1538\n",
      "1539\n",
      "1540\n",
      "1541\n",
      "1542\n",
      "1543\n",
      "1544\n",
      "1545\n",
      "1546\n",
      "1547\n",
      "1548\n",
      "1549\n",
      "1550\n",
      "1551\n",
      "1552\n",
      "1553\n",
      "1554\n",
      "1555\n",
      "1556\n",
      "1557\n",
      "1558\n",
      "1559\n",
      "1560\n",
      "1561\n",
      "1562\n",
      "1563\n",
      "1564\n",
      "1565\n",
      "1566\n",
      "1567\n",
      "1568\n",
      "1569\n",
      "1570\n",
      "1571\n",
      "1572\n",
      "1573\n",
      "1574\n",
      "1575\n",
      "1576\n",
      "1577\n",
      "1578\n",
      "1579\n",
      "1580\n",
      "1581\n",
      "1582\n",
      "1583\n",
      "1584\n",
      "1585\n",
      "1586\n",
      "1587\n",
      "1588\n",
      "1589\n",
      "1590\n",
      "1591\n",
      "1592\n",
      "1593\n",
      "1594\n",
      "1595\n",
      "1596\n",
      "1597\n",
      "1598\n",
      "1599\n",
      "1600\n",
      "1601\n",
      "1602\n",
      "1603\n",
      "1604\n",
      "1605\n",
      "1606\n",
      "1607\n",
      "1608\n",
      "1609\n",
      "1610\n",
      "1611\n",
      "1612\n",
      "1613\n",
      "1614\n",
      "1615\n",
      "1616\n",
      "1617\n",
      "1618\n",
      "1619\n",
      "1620\n",
      "1621\n",
      "1622\n",
      "1623\n",
      "1624\n",
      "1625\n",
      "1626\n",
      "1627\n",
      "1628\n",
      "1629\n",
      "1630\n",
      "1631\n",
      "1632\n",
      "1633\n",
      "1634\n",
      "1635\n",
      "1636\n",
      "1637\n",
      "1638\n",
      "1639\n",
      "1640\n",
      "1641\n",
      "1642\n",
      "1643\n",
      "1644\n",
      "1645\n",
      "1646\n",
      "1647\n",
      "1648\n",
      "1649\n",
      "1650\n",
      "1651\n",
      "1652\n",
      "1653\n",
      "1654\n",
      "1655\n",
      "1656\n",
      "1657\n",
      "1658\n",
      "1659\n",
      "1660\n",
      "1661\n",
      "1662\n",
      "1663\n",
      "1664\n",
      "1665\n",
      "1666\n",
      "1667\n",
      "1668\n",
      "1669\n",
      "1670\n",
      "1671\n",
      "1672\n",
      "1673\n",
      "1674\n",
      "1675\n",
      "1676\n",
      "1677\n",
      "1678\n",
      "1679\n",
      "1680\n",
      "1681\n",
      "1682\n",
      "1683\n",
      "1684\n",
      "1685\n",
      "1686\n",
      "1687\n",
      "1688\n",
      "1689\n",
      "1690\n",
      "1691\n",
      "1692\n",
      "1693\n",
      "1694\n",
      "1695\n",
      "1696\n",
      "1697\n",
      "1698\n",
      "1699\n",
      "1700\n",
      "1701\n",
      "1702\n",
      "1703\n",
      "1704\n",
      "1705\n",
      "1706\n",
      "1707\n",
      "1708\n",
      "1709\n",
      "1710\n",
      "1711\n",
      "1712\n",
      "1713\n",
      "1714\n",
      "1715\n",
      "1716\n",
      "1717\n",
      "1718\n",
      "1719\n",
      "1720\n",
      "1721\n",
      "1722\n",
      "1723\n",
      "1724\n",
      "1725\n",
      "1726\n",
      "1727\n",
      "1728\n",
      "1729\n",
      "1730\n",
      "1731\n",
      "1732\n",
      "1733\n",
      "1734\n",
      "1735\n",
      "1736\n",
      "1737\n",
      "1738\n",
      "1739\n",
      "1740\n",
      "1741\n",
      "1742\n",
      "1743\n",
      "1744\n",
      "1745\n",
      "1746\n",
      "1747\n",
      "1748\n",
      "1749\n",
      "1750\n",
      "1751\n",
      "1752\n",
      "1753\n",
      "1754\n",
      "1755\n",
      "1756\n",
      "1757\n",
      "1758\n",
      "1759\n",
      "1760\n",
      "1761\n",
      "1762\n",
      "1763\n",
      "1764\n",
      "1765\n",
      "1766\n",
      "1767\n",
      "1768\n",
      "1769\n",
      "1770\n",
      "1771\n",
      "1772\n",
      "1773\n",
      "1774\n",
      "1775\n",
      "1776\n",
      "1777\n",
      "1778\n",
      "1779\n",
      "1780\n",
      "1781\n",
      "1782\n",
      "1783\n",
      "1784\n",
      "1785\n",
      "1786\n",
      "1787\n",
      "1788\n",
      "1789\n",
      "1790\n",
      "1791\n",
      "1792\n",
      "1793\n",
      "1794\n",
      "1795\n",
      "1796\n",
      "1797\n",
      "1798\n",
      "1799\n",
      "1800\n",
      "1801\n",
      "1802\n",
      "1803\n",
      "1804\n",
      "1805\n",
      "1806\n",
      "1807\n",
      "1808\n",
      "1809\n",
      "1810\n",
      "1811\n",
      "1812\n",
      "1813\n",
      "1814\n",
      "1815\n",
      "1816\n",
      "1817\n",
      "1818\n",
      "1819\n",
      "1820\n",
      "1821\n",
      "1822\n",
      "1823\n",
      "1824\n",
      "1825\n",
      "1826\n",
      "1827\n",
      "1828\n",
      "1829\n",
      "1830\n",
      "1831\n",
      "1832\n",
      "1833\n",
      "1834\n",
      "1835\n",
      "1836\n",
      "1837\n",
      "1838\n",
      "1839\n",
      "1840\n",
      "1841\n",
      "1842\n",
      "1843\n",
      "1844\n",
      "1845\n",
      "1846\n",
      "1847\n",
      "1848\n",
      "1849\n",
      "1850\n",
      "1851\n",
      "1852\n",
      "1853\n",
      "1854\n",
      "1855\n",
      "1856\n",
      "1857\n",
      "1858\n",
      "1859\n",
      "1860\n",
      "1861\n",
      "1862\n",
      "1863\n",
      "1864\n",
      "1865\n",
      "1866\n",
      "1867\n",
      "1868\n",
      "1869\n",
      "1870\n",
      "1871\n",
      "1872\n",
      "1873\n",
      "1874\n",
      "1875\n",
      "1876\n",
      "1877\n",
      "1878\n",
      "1879\n",
      "1880\n",
      "1881\n",
      "1882\n",
      "1883\n",
      "1884\n",
      "1885\n",
      "1886\n",
      "1887\n",
      "1888\n",
      "1889\n",
      "1890\n",
      "1891\n",
      "1892\n",
      "1893\n",
      "1894\n",
      "1895\n",
      "1896\n",
      "1897\n",
      "1898\n",
      "1899\n",
      "1900\n",
      "1901\n",
      "1902\n",
      "1903\n",
      "1904\n",
      "1905\n",
      "1906\n",
      "1907\n",
      "1908\n",
      "1909\n",
      "1910\n",
      "1911\n",
      "1912\n",
      "1913\n",
      "1914\n",
      "1915\n",
      "1916\n",
      "1917\n",
      "1918\n",
      "1919\n",
      "1920\n",
      "1921\n",
      "1922\n",
      "1923\n",
      "1924\n",
      "1925\n",
      "1926\n",
      "1927\n",
      "1928\n",
      "1929\n",
      "1930\n",
      "1931\n",
      "1932\n",
      "1933\n",
      "1934\n",
      "1935\n",
      "1936\n",
      "1937\n",
      "1938\n",
      "1939\n",
      "1940\n",
      "1941\n",
      "1942\n",
      "1943\n",
      "1944\n",
      "1945\n",
      "1946\n",
      "1947\n",
      "1948\n",
      "1949\n",
      "1950\n",
      "1951\n",
      "1952\n",
      "1953\n",
      "1954\n",
      "1955\n",
      "1956\n",
      "1957\n",
      "1958\n",
      "1959\n",
      "1960\n",
      "1961\n",
      "1962\n",
      "1963\n",
      "1964\n",
      "1965\n",
      "1966\n",
      "1967\n",
      "1968\n",
      "1969\n",
      "1970\n",
      "1971\n",
      "1972\n",
      "1973\n",
      "1974\n",
      "1975\n",
      "1976\n",
      "1977\n",
      "1978\n",
      "1979\n",
      "1980\n",
      "1981\n",
      "1982\n",
      "1983\n",
      "1984\n",
      "1985\n",
      "1986\n",
      "1987\n",
      "1988\n",
      "1989\n",
      "1990\n",
      "1991\n",
      "1992\n",
      "1993\n",
      "1994\n",
      "1995\n",
      "1996\n",
      "1997\n",
      "1998\n",
      "1999\n",
      "2000\n",
      "2001\n",
      "2002\n",
      "2003\n",
      "2004\n",
      "2005\n",
      "2006\n",
      "2007\n",
      "2008\n",
      "2009\n",
      "2010\n",
      "2011\n",
      "2012\n",
      "2013\n",
      "2014\n",
      "2015\n",
      "2016\n",
      "2017\n",
      "2018\n",
      "2019\n",
      "2020\n",
      "2021\n",
      "2022\n",
      "2023\n",
      "2024\n",
      "2025\n",
      "2026\n",
      "2027\n",
      "2028\n",
      "2029\n",
      "2030\n",
      "2031\n",
      "2032\n",
      "2033\n",
      "2034\n",
      "2035\n",
      "2036\n",
      "2037\n",
      "2038\n",
      "2039\n",
      "2040\n",
      "2041\n",
      "2042\n",
      "2043\n",
      "2044\n",
      "2045\n",
      "2046\n",
      "2047\n",
      "2048\n",
      "2049\n",
      "2050\n",
      "2051\n",
      "2052\n",
      "2053\n",
      "2054\n",
      "2055\n",
      "2056\n",
      "2057\n",
      "2058\n",
      "2059\n",
      "2060\n",
      "2061\n",
      "2062\n",
      "2063\n",
      "2064\n",
      "2065\n",
      "2066\n",
      "2067\n",
      "2068\n",
      "2069\n",
      "2070\n",
      "2071\n",
      "2072\n",
      "2073\n",
      "2074\n",
      "2075\n",
      "2076\n",
      "2077\n",
      "2078\n",
      "2079\n",
      "2080\n",
      "2081\n",
      "2082\n",
      "2083\n",
      "2084\n",
      "2085\n",
      "2086\n",
      "2087\n",
      "2088\n",
      "2089\n",
      "2090\n",
      "2091\n",
      "2092\n",
      "2093\n",
      "2094\n",
      "2095\n",
      "2096\n",
      "2097\n",
      "2098\n",
      "2099\n",
      "2100\n",
      "2101\n",
      "2102\n",
      "2103\n",
      "2104\n",
      "2105\n",
      "2106\n",
      "2107\n",
      "2108\n",
      "2109\n",
      "2110\n",
      "2111\n",
      "2112\n",
      "2113\n",
      "2114\n",
      "2115\n",
      "2116\n",
      "2117\n",
      "2118\n",
      "2119\n",
      "2120\n",
      "2121\n",
      "2122\n",
      "2123\n",
      "2124\n",
      "2125\n",
      "2126\n",
      "2127\n",
      "2128\n",
      "2129\n",
      "2130\n",
      "2131\n",
      "2132\n",
      "2133\n",
      "2134\n",
      "2135\n",
      "2136\n",
      "2137\n",
      "2138\n",
      "2139\n",
      "2140\n",
      "2141\n",
      "2142\n",
      "2143\n",
      "2144\n",
      "2145\n",
      "2146\n",
      "2147\n",
      "2148\n",
      "2149\n",
      "2150\n",
      "2151\n",
      "2152\n",
      "2153\n",
      "2154\n",
      "2155\n",
      "2156\n",
      "2157\n",
      "2158\n",
      "2159\n",
      "2160\n",
      "2161\n",
      "2162\n",
      "2163\n",
      "2164\n",
      "2165\n",
      "2166\n",
      "2167\n",
      "2168\n",
      "2169\n",
      "2170\n",
      "2171\n",
      "2172\n",
      "2173\n",
      "2174\n",
      "2175\n",
      "2176\n",
      "2177\n",
      "2178\n",
      "2179\n",
      "2180\n",
      "2181\n",
      "2182\n",
      "2183\n",
      "2184\n",
      "2185\n",
      "2186\n",
      "2187\n",
      "2188\n",
      "2189\n",
      "2190\n",
      "2191\n",
      "2192\n",
      "2193\n",
      "2194\n",
      "2195\n",
      "2196\n",
      "2197\n",
      "2198\n",
      "2199\n",
      "2200\n",
      "2201\n",
      "2202\n",
      "2203\n",
      "2204\n",
      "2205\n",
      "2206\n",
      "2207\n",
      "2208\n",
      "2209\n",
      "2210\n",
      "2211\n",
      "2212\n",
      "2213\n",
      "2214\n",
      "2215\n",
      "2216\n",
      "2217\n",
      "2218\n",
      "2219\n",
      "2220\n",
      "2221\n",
      "2222\n",
      "2223\n",
      "2224\n",
      "2225\n",
      "2226\n",
      "2227\n",
      "2228\n",
      "2229\n",
      "2230\n",
      "2231\n",
      "2232\n",
      "2233\n",
      "2234\n",
      "2235\n",
      "2236\n",
      "2237\n",
      "2238\n"
     ]
    },
    {
     "name": "stdout",
     "output_type": "stream",
     "text": [
      "2239\n",
      "2240\n",
      "2241\n",
      "2242\n"
     ]
    },
    {
     "ename": "KeyboardInterrupt",
     "evalue": "",
     "output_type": "error",
     "traceback": [
      "\u001b[0;31m---------------------------------------------------------------------------\u001b[0m",
      "\u001b[0;31mKeyboardInterrupt\u001b[0m                         Traceback (most recent call last)",
      "\u001b[0;32m<ipython-input-71-5b0e9349cd10>\u001b[0m in \u001b[0;36m<module>\u001b[0;34m()\u001b[0m\n\u001b[1;32m      7\u001b[0m     \u001b[0mprint\u001b[0m\u001b[0;34m(\u001b[0m\u001b[0mn_estimators\u001b[0m\u001b[0;34m)\u001b[0m\u001b[0;34m\u001b[0m\u001b[0m\n\u001b[1;32m      8\u001b[0m     \u001b[0mLGBM\u001b[0m\u001b[0;34m.\u001b[0m\u001b[0mn_estimators\u001b[0m \u001b[0;34m=\u001b[0m \u001b[0mn_estimators\u001b[0m\u001b[0;34m\u001b[0m\u001b[0m\n\u001b[0;32m----> 9\u001b[0;31m     \u001b[0mLGBM\u001b[0m\u001b[0;34m.\u001b[0m\u001b[0mfit\u001b[0m\u001b[0;34m(\u001b[0m\u001b[0mX_train\u001b[0m\u001b[0;34m,\u001b[0m \u001b[0my_train\u001b[0m\u001b[0;34m)\u001b[0m\u001b[0;34m\u001b[0m\u001b[0m\n\u001b[0m\u001b[1;32m     10\u001b[0m     \u001b[0my_pred\u001b[0m \u001b[0;34m=\u001b[0m \u001b[0mLGBM\u001b[0m\u001b[0;34m.\u001b[0m\u001b[0mpredict\u001b[0m\u001b[0;34m(\u001b[0m\u001b[0mX_val\u001b[0m\u001b[0;34m)\u001b[0m\u001b[0;34m\u001b[0m\u001b[0m\n\u001b[1;32m     11\u001b[0m     \u001b[0mval_error\u001b[0m \u001b[0;34m=\u001b[0m \u001b[0mmean_squared_error\u001b[0m\u001b[0;34m(\u001b[0m\u001b[0my_val\u001b[0m\u001b[0;34m,\u001b[0m \u001b[0my_pred\u001b[0m\u001b[0;34m)\u001b[0m\u001b[0;34m\u001b[0m\u001b[0m\n",
      "\u001b[0;32m~/anaconda3/lib/python3.6/site-packages/lightgbm/sklearn.py\u001b[0m in \u001b[0;36mfit\u001b[0;34m(self, X, y, sample_weight, init_score, eval_set, eval_names, eval_sample_weight, eval_init_score, eval_metric, early_stopping_rounds, verbose, feature_name, categorical_feature, callbacks)\u001b[0m\n\u001b[1;32m    610\u001b[0m                                        \u001b[0mverbose\u001b[0m\u001b[0;34m=\u001b[0m\u001b[0mverbose\u001b[0m\u001b[0;34m,\u001b[0m \u001b[0mfeature_name\u001b[0m\u001b[0;34m=\u001b[0m\u001b[0mfeature_name\u001b[0m\u001b[0;34m,\u001b[0m\u001b[0;34m\u001b[0m\u001b[0m\n\u001b[1;32m    611\u001b[0m                                        \u001b[0mcategorical_feature\u001b[0m\u001b[0;34m=\u001b[0m\u001b[0mcategorical_feature\u001b[0m\u001b[0;34m,\u001b[0m\u001b[0;34m\u001b[0m\u001b[0m\n\u001b[0;32m--> 612\u001b[0;31m                                        callbacks=callbacks)\n\u001b[0m\u001b[1;32m    613\u001b[0m         \u001b[0;32mreturn\u001b[0m \u001b[0mself\u001b[0m\u001b[0;34m\u001b[0m\u001b[0m\n\u001b[1;32m    614\u001b[0m \u001b[0;34m\u001b[0m\u001b[0m\n",
      "\u001b[0;32m~/anaconda3/lib/python3.6/site-packages/lightgbm/sklearn.py\u001b[0m in \u001b[0;36mfit\u001b[0;34m(self, X, y, sample_weight, init_score, group, eval_set, eval_names, eval_sample_weight, eval_init_score, eval_group, eval_metric, early_stopping_rounds, verbose, feature_name, categorical_feature, callbacks)\u001b[0m\n\u001b[1;32m    457\u001b[0m                               \u001b[0mverbose_eval\u001b[0m\u001b[0;34m=\u001b[0m\u001b[0mverbose\u001b[0m\u001b[0;34m,\u001b[0m \u001b[0mfeature_name\u001b[0m\u001b[0;34m=\u001b[0m\u001b[0mfeature_name\u001b[0m\u001b[0;34m,\u001b[0m\u001b[0;34m\u001b[0m\u001b[0m\n\u001b[1;32m    458\u001b[0m                               \u001b[0mcategorical_feature\u001b[0m\u001b[0;34m=\u001b[0m\u001b[0mcategorical_feature\u001b[0m\u001b[0;34m,\u001b[0m\u001b[0;34m\u001b[0m\u001b[0m\n\u001b[0;32m--> 459\u001b[0;31m                               callbacks=callbacks)\n\u001b[0m\u001b[1;32m    460\u001b[0m \u001b[0;34m\u001b[0m\u001b[0m\n\u001b[1;32m    461\u001b[0m         \u001b[0;32mif\u001b[0m \u001b[0mevals_result\u001b[0m\u001b[0;34m:\u001b[0m\u001b[0;34m\u001b[0m\u001b[0m\n",
      "\u001b[0;32m~/anaconda3/lib/python3.6/site-packages/lightgbm/engine.py\u001b[0m in \u001b[0;36mtrain\u001b[0;34m(params, train_set, num_boost_round, valid_sets, valid_names, fobj, feval, init_model, feature_name, categorical_feature, early_stopping_rounds, evals_result, verbose_eval, learning_rates, keep_training_booster, callbacks)\u001b[0m\n\u001b[1;32m    197\u001b[0m                                     evaluation_result_list=None))\n\u001b[1;32m    198\u001b[0m \u001b[0;34m\u001b[0m\u001b[0m\n\u001b[0;32m--> 199\u001b[0;31m         \u001b[0mbooster\u001b[0m\u001b[0;34m.\u001b[0m\u001b[0mupdate\u001b[0m\u001b[0;34m(\u001b[0m\u001b[0mfobj\u001b[0m\u001b[0;34m=\u001b[0m\u001b[0mfobj\u001b[0m\u001b[0;34m)\u001b[0m\u001b[0;34m\u001b[0m\u001b[0m\n\u001b[0m\u001b[1;32m    200\u001b[0m \u001b[0;34m\u001b[0m\u001b[0m\n\u001b[1;32m    201\u001b[0m         \u001b[0mevaluation_result_list\u001b[0m \u001b[0;34m=\u001b[0m \u001b[0;34m[\u001b[0m\u001b[0;34m]\u001b[0m\u001b[0;34m\u001b[0m\u001b[0m\n",
      "\u001b[0;32m~/anaconda3/lib/python3.6/site-packages/lightgbm/basic.py\u001b[0m in \u001b[0;36mupdate\u001b[0;34m(self, train_set, fobj)\u001b[0m\n\u001b[1;32m   1437\u001b[0m             _safe_call(_LIB.LGBM_BoosterUpdateOneIter(\n\u001b[1;32m   1438\u001b[0m                 \u001b[0mself\u001b[0m\u001b[0;34m.\u001b[0m\u001b[0mhandle\u001b[0m\u001b[0;34m,\u001b[0m\u001b[0;34m\u001b[0m\u001b[0m\n\u001b[0;32m-> 1439\u001b[0;31m                 ctypes.byref(is_finished)))\n\u001b[0m\u001b[1;32m   1440\u001b[0m             \u001b[0mself\u001b[0m\u001b[0;34m.\u001b[0m\u001b[0m__is_predicted_cur_iter\u001b[0m \u001b[0;34m=\u001b[0m \u001b[0;34m[\u001b[0m\u001b[0;32mFalse\u001b[0m \u001b[0;32mfor\u001b[0m \u001b[0m_\u001b[0m \u001b[0;32min\u001b[0m \u001b[0mrange_\u001b[0m\u001b[0;34m(\u001b[0m\u001b[0mself\u001b[0m\u001b[0;34m.\u001b[0m\u001b[0m__num_dataset\u001b[0m\u001b[0;34m)\u001b[0m\u001b[0;34m]\u001b[0m\u001b[0;34m\u001b[0m\u001b[0m\n\u001b[1;32m   1441\u001b[0m             \u001b[0;32mreturn\u001b[0m \u001b[0mis_finished\u001b[0m\u001b[0;34m.\u001b[0m\u001b[0mvalue\u001b[0m \u001b[0;34m==\u001b[0m \u001b[0;36m1\u001b[0m\u001b[0;34m\u001b[0m\u001b[0m\n",
      "\u001b[0;31mKeyboardInterrupt\u001b[0m: "
     ]
    }
   ],
   "source": [
    "LGBM = lgb.LGBMRegressor(learning_rate=0.01, max_depth=28, n_estimators=2000, n_jobs=8, num_leaves=5, random_state=42, reg_alpha=0.096030659906092053, reg_lambda=0.82943289588961044)\n",
    "\n",
    "X, X_val, y, y_val = train_test_split(X_train, y_train, random_state=49)\n",
    "min_val_error = float(\"inf\")\n",
    "error_going_up = 0\n",
    "for n_estimators in range(500, 5000):\n",
    "    print(n_estimators)\n",
    "    LGBM.n_estimators = n_estimators\n",
    "    LGBM.fit(X, y)\n",
    "    y_pred = LGBM.predict(X_val)\n",
    "    val_error = mean_squared_error(y_val, y_pred)\n",
    "    if val_error < min_val_error:\n",
    "        min_val_error = val_error\n",
    "        error_going_up = 0\n",
    "    else:\n",
    "        error_going_up += 1\n",
    "        if error_going_up == 5:\n",
    "            break  # early stopping\n",
    "\n",
    "\n",
    "print(LGBM.n_estimators)"
   ]
  },
  {
   "cell_type": "code",
   "execution_count": null,
   "metadata": {
    "collapsed": true
   },
   "outputs": [],
   "source": [
    "X, X_val, y, y_val = train_test_split(X_train, y_train, random_state=49)\n",
    "LGBM = lgb.LGBMRegressor(learning_rate=0.01, max_depth=28, n_estimators=2000, n_jobs=8, num_leaves=5, random_state=42, reg_alpha=0.096030659906092053, reg_lambda=0.82943289588961044)\n",
    "LGBM.fit(X, y, )"
   ]
  },
  {
   "cell_type": "code",
   "execution_count": null,
   "metadata": {
    "collapsed": true
   },
   "outputs": [],
   "source": []
  },
  {
   "cell_type": "code",
   "execution_count": 55,
   "metadata": {},
   "outputs": [
    {
     "name": "stdout",
     "output_type": "stream",
     "text": [
      "scores= [ 0.11017289  0.1234964   0.12122808  0.1128838   0.11627994]\n",
      "Score: mean=0.116812224333 std=0.00497944980108\n"
     ]
    }
   ],
   "source": [
    "LGBM = lgb.LGBMRegressor(learning_rate=0.01, max_depth=28, n_estimators=2000, n_jobs=-1, num_leaves=5, random_state=42, reg_alpha=0.096030659906092053, reg_lambda=0.82943289588961044)\n",
    "score(LGBM, X_train, y_train.values.ravel()) #0.116812224333"
   ]
  },
  {
   "cell_type": "markdown",
   "metadata": {},
   "source": [
    "## SVM"
   ]
  },
  {
   "cell_type": "markdown",
   "metadata": {},
   "source": [
    "### kernel: [linear, poly, rbf, sigmoid, precomputed]"
   ]
  },
  {
   "cell_type": "code",
   "execution_count": 60,
   "metadata": {
    "collapsed": true
   },
   "outputs": [],
   "source": [
    "param_dist = {\n",
    "    \"C\": uniform(0, 100),\n",
    "    \"epsilon\": uniform(0, 1),\n",
    "    \"max_iter\": [1000],\n",
    "    \"dual\": [False],\n",
    "    \"loss\": [\"squared_epsilon_insensitive\"]\n",
    "    }\n",
    "model = LinearSVR()\n",
    "#optimize_hyperparameters_random(model, param_dist, 300, X_train, y_train.values.ravel(), n_jobs=-1)"
   ]
  },
  {
   "cell_type": "code",
   "execution_count": 61,
   "metadata": {},
   "outputs": [
    {
     "name": "stdout",
     "output_type": "stream",
     "text": [
      "scores= [ 1.6185471   1.20339657  1.4287821   1.57175402  2.73730187]\n",
      "Score: mean=1.71195633255 std=0.532641742683\n"
     ]
    }
   ],
   "source": [
    "svm_linear = LinearSVR(\n",
    "    C=60.61,\n",
    "    dual=False,\n",
    "    epsilon=0.07,\n",
    "    loss=\"squared_epsilon_insensitive\",\n",
    "    max_iter=1000\n",
    ")\n",
    "score(svm_linear, X_train, y_train.values.ravel()) #0.134"
   ]
  },
  {
   "cell_type": "code",
   "execution_count": 62,
   "metadata": {
    "collapsed": true
   },
   "outputs": [],
   "source": [
    "#svm_linear.fit(X_train, y_train)\n",
    "#submission(svm_linear, X_test, \"svm\")"
   ]
  },
  {
   "cell_type": "code",
   "execution_count": 63,
   "metadata": {
    "collapsed": true
   },
   "outputs": [],
   "source": [
    "param_dist = {\n",
    "    \"kernel\": ['linear'],\n",
    "    \"C\": uniform(0.1,200),\n",
    "    \"epsilon\": uniform(loc=0.1, scale=1),\n",
    "    \"cache_size\": [5000],\n",
    "}\n",
    "model = SVR()\n",
    "#optimize_hyperparameters_random(model, param_dist, 100, X_train, y_train.values.ravel(), n_jobs=-1)"
   ]
  },
  {
   "cell_type": "code",
   "execution_count": 64,
   "metadata": {},
   "outputs": [
    {
     "name": "stdout",
     "output_type": "stream",
     "text": [
      "scores= [ 0.1593338   0.17040264  0.16816442  0.15191722  0.16459575]\n",
      "Score: mean=0.162882766614 std=0.00663651965007\n"
     ]
    }
   ],
   "source": [
    "svm = SVR(C=83.144409878382945, cache_size=5000, epsilon=0.39823088915121874, kernel='linear')\n",
    "score(svm, X_train, y_train.values.ravel()) #0.135"
   ]
  },
  {
   "cell_type": "code",
   "execution_count": 65,
   "metadata": {
    "collapsed": true,
    "scrolled": true
   },
   "outputs": [],
   "source": [
    "param_dist = {\n",
    "    \"kernel\": ['poly'],\n",
    "    \"degree\": randint(1,5),\n",
    "    \"C\": randint(0,20000),\n",
    "    \"epsilon\": uniform(loc=0, scale=1),\n",
    "    \"shrinking\": [False, True], \n",
    "    \"cache_size\": [5000],\n",
    "}\n",
    "model = SVR()\n",
    "#optimize_hyperparameters_random(model, param_dist, 100, X_train, y_train.values.ravel())"
   ]
  },
  {
   "cell_type": "code",
   "execution_count": 66,
   "metadata": {},
   "outputs": [
    {
     "name": "stdout",
     "output_type": "stream",
     "text": [
      "scores= [ 0.25031295  0.26946261  0.25582644  0.2383986   0.24072879]\n",
      "Score: mean=0.250945878257 std=0.011215280833\n"
     ]
    }
   ],
   "source": [
    "svm = SVR(C=6322, degree=2, cache_size=5000, epsilon=0.29799211072674692, kernel='poly', shrinking=False)\n",
    "score(svm, X_train, y_train.values.ravel()) #0.248"
   ]
  },
  {
   "cell_type": "code",
   "execution_count": 67,
   "metadata": {
    "collapsed": true,
    "scrolled": true
   },
   "outputs": [],
   "source": [
    "param_dist = {\n",
    "    \"kernel\": ['rbf'],\n",
    "    \"C\": randint(0,7000),\n",
    "    \"gamma\": uniform(loc=0, scale=1),\n",
    "    \"epsilon\": uniform(loc=0, scale=300),\n",
    "    \"shrinking\": [False, True], \n",
    "    \"cache_size\": [5000],\n",
    "}\n",
    "#optimize_random_hyperparameters_SVR(param_dist, 100, X_train, y_train.values.ravel())"
   ]
  },
  {
   "cell_type": "code",
   "execution_count": 68,
   "metadata": {},
   "outputs": [
    {
     "name": "stdout",
     "output_type": "stream",
     "text": [
      "scores= [ 0.40839392  0.44187549  0.42115386  0.39047331  0.40530929]\n",
      "Score: mean=0.413441173072 std=0.017245989769\n"
     ]
    }
   ],
   "source": [
    "svm = SVR(C=1397, degree=1, cache_size=5000, epsilon=139.00647643017697, gamma=0.023103258942649085, kernel='rbf', shrinking=False)\n",
    "score(svm, X_train, y_train.values.ravel()) #0.135"
   ]
  },
  {
   "cell_type": "markdown",
   "metadata": {},
   "source": [
    "## Learning curves"
   ]
  },
  {
   "cell_type": "code",
   "execution_count": 69,
   "metadata": {
    "collapsed": true
   },
   "outputs": [],
   "source": [
    "def plot_learning_curve(estimator, title, X, y, cv=None, n_jobs=-1,ylim=None, train_sizes=np.linspace(.1, 1.0, 5)):\n",
    "    \"\"\"\n",
    "    Generate a simple plot of the test and training learning curve.\n",
    "\n",
    "    Parameters\n",
    "    ----------\n",
    "    estimator : object type that implements the \"fit\" and \"predict\" methods\n",
    "        An object of that type which is cloned for each validation.\n",
    "\n",
    "    title : string\n",
    "        Title for the chart.\n",
    "\n",
    "    X : array-like, shape (n_samples, n_features)\n",
    "        Training vector, where n_samples is the number of samples and\n",
    "        n_features is the number of features.\n",
    "\n",
    "    y : array-like, shape (n_samples) or (n_samples, n_features), optional\n",
    "        Target relative to X for classification or regression;\n",
    "        None for unsupervised learning.\n",
    "\n",
    "    ylim : tuple, shape (ymin, ymax), optional\n",
    "        Defines minimum and maximum yvalues plotted.\n",
    "\n",
    "    cv : int, cross-validation generator or an iterable, optional\n",
    "        Determines the cross-validation splitting strategy.\n",
    "        Possible inputs for cv are:\n",
    "          - None, to use the default 3-fold cross-validation,\n",
    "          - integer, to specify the number of folds.\n",
    "          - An object to be used as a cross-validation generator.\n",
    "          - An iterable yielding train/test splits.\n",
    "\n",
    "        For integer/None inputs, if ``y`` is binary or multiclass,\n",
    "        :class:`StratifiedKFold` used. If the estimator is not a classifier\n",
    "        or if ``y`` is neither binary nor multiclass, :class:`KFold` is used.\n",
    "\n",
    "        Refer :ref:`User Guide <cross_validation>` for the various\n",
    "        cross-validators that can be used here.\n",
    "\n",
    "    n_jobs : integer, optional\n",
    "        Number of jobs to run in parallel (default 1).\n",
    "    \"\"\"\n",
    "    plt.figure()\n",
    "    plt.title(title)\n",
    "    if ylim is not None:\n",
    "        plt.ylim(*ylim)\n",
    "    plt.xlabel(\"Training examples\")\n",
    "    plt.ylabel(\"Score\")\n",
    "    train_sizes, train_scores, test_scores = learning_curve(estimator, X, y, scoring=make_scorer(mean_squared_error, greater_is_better=False), cv=cv, n_jobs=n_jobs, train_sizes=train_sizes, verbose=1)\n",
    "    train_scores_mean = np.sqrt(-np.mean(train_scores, axis=1))\n",
    "    #train_scores_std = np.std(train_scores, axis=1)\n",
    "    test_scores_mean = np.sqrt(-np.mean(test_scores, axis=1))\n",
    "    #test_scores_std = np.std(test_scores, axis=1)\n",
    "    plt.grid()\n",
    "\n",
    "    #plt.fill_between(train_sizes, train_scores_mean - train_scores_std, train_scores_mean + train_scores_std, alpha=0.1, color=\"r\")\n",
    "    #plt.fill_between(train_sizes, test_scores_mean - test_scores_std, test_scores_mean + test_scores_std, alpha=0.1, color=\"g\")\n",
    "    plt.plot(train_sizes, train_scores_mean, 'o-', color=\"r\", label=\"Training score\")\n",
    "    plt.plot(train_sizes, test_scores_mean, 'o-', color=\"g\", label=\"Cross-validation score\")\n",
    "\n",
    "    plt.legend(loc=\"best\")\n",
    "    return plt"
   ]
  },
  {
   "cell_type": "code",
   "execution_count": 85,
   "metadata": {
    "scrolled": false
   },
   "outputs": [
    {
     "name": "stdout",
     "output_type": "stream",
     "text": [
      "[learning_curve] Training set sizes: [ 116  378  640  902 1164]\n",
      "[learning_curve] Training set sizes: [ 116  378  640  902 1164]\n"
     ]
    },
    {
     "name": "stderr",
     "output_type": "stream",
     "text": [
      "[Parallel(n_jobs=-1)]: Done  50 out of  50 | elapsed:    1.3s finished\n"
     ]
    },
    {
     "name": "stdout",
     "output_type": "stream",
     "text": [
      "[learning_curve] Training set sizes: [ 116  378  640  902 1164]\n"
     ]
    },
    {
     "name": "stderr",
     "output_type": "stream",
     "text": [
      "[Parallel(n_jobs=-1)]: Done  50 out of  50 | elapsed:    3.6s finished\n"
     ]
    },
    {
     "name": "stdout",
     "output_type": "stream",
     "text": [
      "[learning_curve] Training set sizes: [ 116  378  640  902 1164]\n"
     ]
    },
    {
     "name": "stderr",
     "output_type": "stream",
     "text": [
      "[Parallel(n_jobs=-1)]: Done  50 out of  50 | elapsed:   24.5s finished\n"
     ]
    },
    {
     "name": "stdout",
     "output_type": "stream",
     "text": [
      "[learning_curve] Training set sizes: [ 116  378  640  902 1164]\n"
     ]
    },
    {
     "name": "stderr",
     "output_type": "stream",
     "text": [
      "[Parallel(n_jobs=-1)]: Done  50 out of  50 | elapsed:    3.8s finished\n",
      "[Parallel(n_jobs=-1)]: Done  50 out of  50 | elapsed:   47.4s finished\n"
     ]
    },
    {
     "name": "stdout",
     "output_type": "stream",
     "text": [
      "[learning_curve] Training set sizes: [ 116  378  640  902 1164]\n"
     ]
    },
    {
     "name": "stderr",
     "output_type": "stream",
     "text": [
      "[Parallel(n_jobs=1)]: Done  50 out of  50 | elapsed:  1.5min finished\n"
     ]
    },
    {
     "data": {
      "image/png": "[encoded data removed]",
      "text/plain": [
       "<matplotlib.figure.Figure at 0x7f5af8974f60>"
      ]
     },
     "metadata": {},
     "output_type": "display_data"
    },
    {
     "data": {
      "image/png": "[encoded data removed]",
      "text/plain": [
       "<matplotlib.figure.Figure at 0x7f5af89743c8>"
      ]
     },
     "metadata": {},
     "output_type": "display_data"
    },
    {
     "data": {
      "image/png": "[encoded data removed]",
      "text/plain": [
       "<matplotlib.figure.Figure at 0x7f5af8974e80>"
      ]
     },
     "metadata": {},
     "output_type": "display_data"
    },
    {
     "data": {
      "image/png": "[encoded data removed]",
      "text/plain": [
       "<matplotlib.figure.Figure at 0x7f5b02fcc9e8>"
      ]
     },
     "metadata": {},
     "output_type": "display_data"
    },
    {
     "data": {
      "image/png": "[encoded data removed]",
      "text/plain": [
       "<matplotlib.figure.Figure at 0x7f5af8834898>"
      ]
     },
     "metadata": {},
     "output_type": "display_data"
    },
    {
     "data": {
      "image/png": "[encoded data removed]",
      "text/plain": [
       "<matplotlib.figure.Figure at 0x7f5af89f14e0>"
      ]
     },
     "metadata": {},
     "output_type": "display_data"
    }
   ],
   "source": [
    "title = \"Learning Curves (Ridge)\"\n",
    "cv = ShuffleSplit(n_splits=10, test_size=0.2, random_state=0)\n",
    "#plot_learning_curve(ridge, title, X_train, y_train, cv=cv, n_jobs=-1)\n",
    "\n",
    "title = \"Learning Curves (elastic_net)\"\n",
    "cv = ShuffleSplit(n_splits=10, test_size=0.2, random_state=0)\n",
    "plot_learning_curve(elastic_net, title, X_train, y_train, cv=cv, n_jobs=-1)\n",
    "\n",
    "title = \"Learning Curves (RF)\"\n",
    "cv = ShuffleSplit(n_splits=10, test_size=0.2, random_state=0)\n",
    "plot_learning_curve(random_forest, title, X_train, y_train, cv=cv, n_jobs=-1)\n",
    "\n",
    "title = \"Learning Curves (ada_boost - elastic_net)\"\n",
    "cv = ShuffleSplit(n_splits=10, test_size=0.2, random_state=0)\n",
    "plot_learning_curve(ada_boost, title, X_train, y_train, cv=cv, n_jobs=-1)\n",
    "\n",
    "title = \"Learning Curves (GBRT)\"\n",
    "cv = ShuffleSplit(n_splits=10, test_size=0.2, random_state=0)\n",
    "plot_learning_curve(GBRT, title, X_train, y_train, cv=cv, n_jobs=-1)\n",
    "\n",
    "title = \"Learning Curves (ada_boost - GBRT)\"\n",
    "cv = ShuffleSplit(n_splits=10, test_size=0.2, random_state=0)\n",
    "plot_learning_curve(ada_boost_GBRT, title, X_train, y_train, cv=cv, n_jobs=-1)\n",
    "\n",
    "title = \"Learning Curves (XGBoost)\"\n",
    "cv = ShuffleSplit(n_splits=10, test_size=0.2, random_state=0)\n",
    "plot_learning_curve(XGBoost, title, X_train, y_train, cv=cv, n_jobs=1)\n",
    "\n",
    "title = \"Learning Curves (SVM, linear kernel)\"\n",
    "cv = ShuffleSplit(n_splits=10, test_size=0.2, random_state=0)\n",
    "#plot_learning_curve(svm_linear, title, X_train, y_train, cv=cv, n_jobs=-1)\n",
    "\n",
    "plt.show()"
   ]
  },
  {
   "cell_type": "markdown",
   "metadata": {},
   "source": [
    "## Accuracy"
   ]
  },
  {
   "cell_type": "code",
   "execution_count": 71,
   "metadata": {
    "collapsed": true
   },
   "outputs": [],
   "source": [
    "def plot_accuracy(model, title, X_train, y_train, n_jobs=-1):\n",
    "    y_pred = cross_val_predict(model, X_train, y_train, n_jobs=n_jobs)\n",
    "    plt.figure()\n",
    "    plt.title(title)\n",
    "    plt.xlabel(\"y_true\")\n",
    "    plt.ylabel(\"y_pred\")\n",
    "    plt.grid()\n",
    "\n",
    "    plt.plot(y_train, y_pred, 'o', color=\"r\")\n",
    "    plt.legend(['r^2='+str(r2_score(y_train, y_pred))])\n",
    "    #plt.plot(train_sizes, test_scores_mean, 'o-', color=\"g\", label=\"Cross-validation score\")\n",
    "    x = np.linspace(y_train.min(), y_train.max(), 400)\n",
    "    plt.plot(x, x, '.', color=\"g\")\n",
    "\n",
    "    plt.legend(loc=\"best\")\n",
    "    \n",
    "    return plt"
   ]
  },
  {
   "cell_type": "code",
   "execution_count": 72,
   "metadata": {},
   "outputs": [
    {
     "data": {
      "image/png": "[encoded data removed]",
      "text/plain": [
       "<matplotlib.figure.Figure at 0x7f5b02ed1748>"
      ]
     },
     "metadata": {},
     "output_type": "display_data"
    },
    {
     "data": {
      "image/png": "[encoded data removed]",
      "text/plain": [
       "<matplotlib.figure.Figure at 0x7f5af88345f8>"
      ]
     },
     "metadata": {},
     "output_type": "display_data"
    },
    {
     "data": {
      "image/png": "[encoded data removed]",
      "text/plain": [
       "<matplotlib.figure.Figure at 0x7f5af8938da0>"
      ]
     },
     "metadata": {},
     "output_type": "display_data"
    },
    {
     "data": {
      "image/png": "[encoded data removed]",
      "text/plain": [
       "<matplotlib.figure.Figure at 0x7f5af896edd8>"
      ]
     },
     "metadata": {},
     "output_type": "display_data"
    },
    {
     "data": {
      "image/png": "[encoded data removed]",
      "text/plain": [
       "<matplotlib.figure.Figure at 0x7f5afa2389b0>"
      ]
     },
     "metadata": {},
     "output_type": "display_data"
    }
   ],
   "source": [
    "title = \"Accuracy (Ridge)\"\n",
    "#plot_accuracy(ridge, title, X_train, y_train, n_jobs=-1)\n",
    "\n",
    "title = \"Accuracy (elastic_net)\"\n",
    "plot_accuracy(elastic_net, title, X_train, y_train, n_jobs=-1)\n",
    "\n",
    "title = \"Accuracy (RF)\"\n",
    "plot_accuracy(random_forest, title, X_train, y_train, n_jobs=-1)\n",
    "\n",
    "title = \"Accuracy (adaboost - elastic_net)\"\n",
    "plot_accuracy(ada_boost, title, X_train, y_train, n_jobs=-1)\n",
    "\n",
    "title = \"Accuracy (GBRT)\"\n",
    "plot_accuracy(GBRT, title, X_train, y_train, n_jobs=1)\n",
    "\n",
    "title = \"Accuracy (XGBoost)\"\n",
    "plot_accuracy(XGBoost, title, X_train, y_train, n_jobs=1)\n",
    "\n",
    "title = \"Accuracy (SVM, linear kernel)\"\n",
    "#plot_accuracy(svm_linear, title, X_train, y_train, n_jobs=-1)\n",
    "\n",
    "plt.show()"
   ]
  },
  {
   "cell_type": "markdown",
   "metadata": {
    "collapsed": true
   },
   "source": [
    "## Stacking"
   ]
  },
  {
   "cell_type": "code",
   "execution_count": 79,
   "metadata": {
    "collapsed": true
   },
   "outputs": [],
   "source": [
    "class Stacking(BaseEstimator, RegressorMixin): \n",
    "    def __init__(self, model_1, model_2, alpha=1 ,l1_ratio=0.5, max_iter=1000, random_state=42):\n",
    "        self.model_1 = model_1\n",
    "        self.model_2 = model_2\n",
    "        \n",
    "        self.alpha=alpha\n",
    "        self.l1_ratio=l1_ratio\n",
    "        self.max_iter=max_iter\n",
    "        self.random_state=random_state\n",
    "        \n",
    "    def fit(self, X, y):\n",
    "        print(\"alpha=\"+str(self.alpha))\n",
    "        print(\"l1_ratio=\"+str(self.l1_ratio))\n",
    "        self.blender = ElasticNet(alpha=self.alpha ,l1_ratio=self.l1_ratio, max_iter=self.max_iter, random_state=self.random_state)\n",
    "\n",
    "        X_1, X_2, y_1, y_2 = train_test_split(X, y, test_size=0.2, shuffle=True, random_state=42)\n",
    "        self.model_1.fit(X_1, y_1)\n",
    "        self.model_2.fit(X_1, y_1)\n",
    "        \n",
    "        y_model_1 = pd.DataFrame(self.model_1.predict(X_2), columns=[\"y_model_1\"])\n",
    "        y_model_2 = pd.DataFrame(self.model_2.predict(X_2), columns=[\"y_model_2\"])\n",
    "\n",
    "        X_3 = pd.concat([y_model_1, y_model_2], axis=1)\n",
    "\n",
    "        self.blender.fit(X_3, y_2)\n",
    "        \n",
    "    def predict(self, X, y=None): \n",
    "        y_model_1 = pd.DataFrame(self.model_1.predict(X), columns=[\"y_model_1\"])\n",
    "        y_model_2 = pd.DataFrame(self.model_2.predict(X), columns=[\"y_model_2\"])\n",
    "\n",
    "        X_blender = pd.concat([y_model_1, y_model_2], axis=1)\n",
    "        \n",
    "        y_pred = self.blender.predict(X_blender)\n",
    "        return y_pred"
   ]
  },
  {
   "cell_type": "code",
   "execution_count": 80,
   "metadata": {
    "collapsed": true
   },
   "outputs": [],
   "source": [
    "param_dist = {\n",
    "    \"alpha\": uniform(loc=0, scale=1),\n",
    "    \"l1_ratio\": uniform(loc=0, scale=1),\n",
    "    \"max_iter\": [100000],\n",
    "    \"random_state\": [42],\n",
    "}\n",
    "model = Stacking(elastic_net, XGBoost)\n",
    "#optimize_hyperparameters_random(model, param_dist, 10, X_train, y_train.values.ravel())"
   ]
  },
  {
   "cell_type": "code",
   "execution_count": 120,
   "metadata": {},
   "outputs": [
    {
     "name": "stdout",
     "output_type": "stream",
     "text": [
      "alpha=0.01\n",
      "l1_ratio=0\n"
     ]
    },
    {
     "name": "stderr",
     "output_type": "stream",
     "text": [
      "/home/ubuntu/anaconda3/lib/python3.6/site-packages/sklearn/linear_model/coordinate_descent.py:491: ConvergenceWarning: Objective did not converge. You might want to increase the number of iterations. Fitting data with very small alpha may cause precision problems.\n",
      "  ConvergenceWarning)\n"
     ]
    }
   ],
   "source": [
    "model = Stacking(elastic_net, XGBoost)\n",
    "model.set_params(alpha=0.01, l1_ratio=0, max_iter=100000, random_state=42)\n",
    "model.fit(X_train, y_train)"
   ]
  },
  {
   "cell_type": "code",
   "execution_count": 121,
   "metadata": {
    "collapsed": true
   },
   "outputs": [],
   "source": [
    "submission(model, X_test, \"stack\")"
   ]
  },
  {
   "cell_type": "code",
   "execution_count": 122,
   "metadata": {},
   "outputs": [
    {
     "name": "stdout",
     "output_type": "stream",
     "text": [
      "alpha=0.01\n",
      "l1_ratio=0\n",
      "alpha=0.01\n",
      "l1_ratio=0\n",
      "alpha=0.01\n",
      "l1_ratio=0\n"
     ]
    },
    {
     "data": {
      "image/png": "[encoded data removed]",
      "text/plain": [
       "<matplotlib.figure.Figure at 0x7f3753792898>"
      ]
     },
     "metadata": {},
     "output_type": "display_data"
    }
   ],
   "source": [
    "title = \"Accuracy (stack)\"\n",
    "plot_accuracy(model, title, X_train, y_train, n_jobs=1)\n",
    "\n",
    "plt.show()"
   ]
  },
  {
   "cell_type": "code",
   "execution_count": 123,
   "metadata": {},
   "outputs": [
    {
     "name": "stdout",
     "output_type": "stream",
     "text": [
      "alpha=0.01\n",
      "l1_ratio=0\n",
      "alpha=0.01\n",
      "l1_ratio=0\n",
      "alpha=0.01\n",
      "l1_ratio=0\n",
      "alpha=0.01\n",
      "l1_ratio=0\n",
      "alpha=0.01\n",
      "l1_ratio=0\n",
      "Score=0.111944918631\n"
     ]
    }
   ],
   "source": [
    "score(model, X_train, y_train.values.ravel()) #0.112"
   ]
  },
  {
   "cell_type": "markdown",
   "metadata": {},
   "source": [
    "0.121 on leaderboard"
   ]
  },
  {
   "cell_type": "markdown",
   "metadata": {
    "collapsed": true
   },
   "source": [
    "## Simple stacking"
   ]
  },
  {
   "cell_type": "code",
   "execution_count": 75,
   "metadata": {
    "collapsed": true
   },
   "outputs": [],
   "source": [
    "class Simple_stacking(BaseEstimator, RegressorMixin): \n",
    "    def __init__(self, models, coeffs):\n",
    "        self.models = models\n",
    "        self.coeffs = coeffs\n",
    "        \n",
    "    def fit(self, X, y):\n",
    "        for model in self.models:\n",
    "            model.fit(X, y)\n",
    "        \n",
    "    def predict(self, X, y=None):\n",
    "        print(\"coeffs=\", self.coeffs)\n",
    "        y_pred = list()\n",
    "        for model in self.models:\n",
    "            y_pred.append(model.predict(X))\n",
    "        \n",
    "        prediction = 0\n",
    "        for i in range(len(self.models)):\n",
    "            prediction = prediction + self.coeffs[i]*y_pred[i]\n",
    "\n",
    "        return np.array(prediction)"
   ]
  },
  {
   "cell_type": "code",
   "execution_count": 76,
   "metadata": {
    "collapsed": true
   },
   "outputs": [],
   "source": [
    "param_dist = {\n",
    "    \"coeff\": uniform(loc=0, scale=1),\n",
    "}\n",
    "#model = Simple_stacking(elastic_net, XGBoost)\n",
    "#optimize_hyperparameters_random(model, param_dist, 10, X_train, y_train.values.ravel(), n_jobs=1)"
   ]
  },
  {
   "cell_type": "code",
   "execution_count": 77,
   "metadata": {},
   "outputs": [
    {
     "name": "stdout",
     "output_type": "stream",
     "text": [
      "coeffs= [0.67, 0.33]\n",
      "[ 121939.17784327  160612.78660378  183910.39370324 ...,  163612.29219199\n",
      "  120281.12436047  219656.33874507]\n"
     ]
    }
   ],
   "source": [
    "model = Simple_stacking([elastic_net, XGBoost], coeffs=[0.67,0.33])\n",
    "model.fit(X_train, y_train)\n",
    "submission(model, X_test, \"simple_stack\")"
   ]
  },
  {
   "cell_type": "markdown",
   "metadata": {},
   "source": [
    "0.120 on leaderboard"
   ]
  },
  {
   "cell_type": "code",
   "execution_count": 78,
   "metadata": {},
   "outputs": [
    {
     "name": "stdout",
     "output_type": "stream",
     "text": [
      "coeffs= [0.7, 0.2, 0.1]\n",
      "coeffs= [0.7, 0.2, 0.1]\n",
      "coeffs= [0.7, 0.2, 0.1]\n",
      "coeffs= [0.7, 0.2, 0.1]\n",
      "coeffs= [0.7, 0.2, 0.1]\n",
      "scores= [ 0.10144216  0.1085963   0.11761674  0.10537712  0.10811235]\n",
      "Score: mean=0.108228935035 std=0.00533802495847\n"
     ]
    }
   ],
   "source": [
    "model = Simple_stacking([elastic_net, XGBoost, GBRT], [0.7, 0.2, 0.1])\n",
    "score(model, X_train, y_train.values.ravel()) #0.108305170529"
   ]
  },
  {
   "cell_type": "code",
   "execution_count": 83,
   "metadata": {},
   "outputs": [
    {
     "name": "stdout",
     "output_type": "stream",
     "text": [
      "coeffs= [0.6, 0.2, 0.2]\n",
      "coeffs= [0.6, 0.2, 0.2]\n",
      "coeffs= [0.6, 0.2, 0.2]\n",
      "coeffs= [0.6, 0.2, 0.2]\n",
      "coeffs= [0.6, 0.2, 0.2]\n",
      "scores= [ 0.10187368  0.10831434  0.11750033  0.10426996  0.10780057]\n",
      "Score: mean=0.107951775036 std=0.00532594011181\n"
     ]
    }
   ],
   "source": [
    "model = Simple_stacking([ada_boost, ada_boost_GBRT, XGBoost], [0.6, 0.2, 0.2])\n",
    "score(model, X_train, y_train.values.ravel()) #0.107951775036 0.6, 0.2, 0.2"
   ]
  },
  {
   "cell_type": "code",
   "execution_count": 84,
   "metadata": {},
   "outputs": [
    {
     "name": "stdout",
     "output_type": "stream",
     "text": [
      "coeffs= [0.6, 0.2, 0.2]\n",
      "[ 122589.30633025  160012.32337635  183666.68826919 ...,  165071.19872437\n",
      "  119369.09628205  218674.04778431]\n"
     ]
    }
   ],
   "source": [
    "submission(model, X_test, \"simple_stack\")"
   ]
  },
  {
   "cell_type": "code",
   "execution_count": 73,
   "metadata": {},
   "outputs": [
    {
     "name": "stdout",
     "output_type": "stream",
     "text": [
      "coeffs= [0.6, 0.2, 0.2]\n",
      "coeffs= [0.6, 0.2, 0.2]\n",
      "coeffs= [0.6, 0.2, 0.2]\n"
     ]
    },
    {
     "data": {
      "image/png": "[encoded data removed]",
      "text/plain": [
       "<matplotlib.figure.Figure at 0x7f10b8896e80>"
      ]
     },
     "metadata": {},
     "output_type": "display_data"
    }
   ],
   "source": [
    "title = \"Accuracy (simple stacking)\"\n",
    "plot_accuracy(model, title, X_train, y_train, n_jobs=1)\n",
    "\n",
    "plt.show()"
   ]
  },
  {
   "cell_type": "code",
   "execution_count": null,
   "metadata": {
    "collapsed": true
   },
   "outputs": [],
   "source": []
  }
 ],
 "metadata": {
  "kernelspec": {
   "display_name": "Python 3",
   "language": "python",
   "name": "python3"
  },
  "language_info": {
   "codemirror_mode": {
    "name": "ipython",
    "version": 3
   },
   "file_extension": ".py",
   "mimetype": "text/x-python",
   "name": "python",
   "nbconvert_exporter": "python",
   "pygments_lexer": "ipython3",
   "version": "3.6.3"
  }
 },
 "nbformat": 4,
 "nbformat_minor": 2
}
