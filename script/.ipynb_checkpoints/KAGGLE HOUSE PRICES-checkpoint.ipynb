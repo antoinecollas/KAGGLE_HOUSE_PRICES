{
 "cells": [
  {
   "cell_type": "markdown",
   "metadata": {},
   "source": [
    "## Data preparation:"
   ]
  },
  {
   "cell_type": "code",
   "execution_count": 2,
   "metadata": {
    "collapsed": true
   },
   "outputs": [],
   "source": [
    "import pandas as pd\n",
    "import numpy as np\n",
    "import matplotlib.pyplot as plt\n",
    "import seaborn as sns\n",
    "from sklearn.base import BaseEstimator, RegressorMixin\n",
    "from sklearn.linear_model import Ridge, Lasso, ElasticNet\n",
    "from sklearn.ensemble import RandomForestRegressor\n",
    "from sklearn.svm import LinearSVR, SVR\n",
    "from sklearn.model_selection import train_test_split, RandomizedSearchCV, GridSearchCV, learning_curve, ShuffleSplit \n",
    "from sklearn.model_selection import KFold, cross_val_score, cross_val_predict\n",
    "from sklearn.metrics import mean_squared_log_error, mean_squared_error, make_scorer, r2_score\n",
    "from scipy.stats import randint, uniform, norm\n",
    "import data_preparation as prep\n",
    "from sklearn.dummy import DummyRegressor\n",
    "import xgboost as xgb\n",
    "\n",
    "N_JOBS = -1"
   ]
  },
  {
   "cell_type": "markdown",
   "metadata": {},
   "source": [
    "## Load data"
   ]
  },
  {
   "cell_type": "code",
   "execution_count": 3,
   "metadata": {
    "collapsed": true
   },
   "outputs": [],
   "source": [
    "X_train, y_train, X_test = prep.main()"
   ]
  },
  {
   "cell_type": "code",
   "execution_count": 4,
   "metadata": {},
   "outputs": [
    {
     "name": "stdout",
     "output_type": "stream",
     "text": [
      "    BldgType_1Fam  BldgType_2fmCon  BldgType_Duplex  BldgType_Twnhs  \\\n",
      "Id                                                                    \n",
      "1           0.452           -0.147           -0.197          -0.185   \n",
      "2           0.452           -0.147           -0.197          -0.185   \n",
      "\n",
      "    BldgType_TwnhsE  CentralAir_N  CentralAir_Y  Condition1_Artery  \\\n",
      "Id                                                                   \n",
      "1            -0.291        -0.268         0.268             -0.181   \n",
      "2            -0.291        -0.268         0.268             -0.181   \n",
      "\n",
      "    Condition1_Feedr  Condition1_Norm   ...    PoolQC  ScreenPorch  Street  \\\n",
      "Id                                      ...                                  \n",
      "1             -0.243            0.402   ...    -0.049       -0.286   0.064   \n",
      "2              4.109           -2.486   ...    -0.049       -0.286   0.064   \n",
      "\n",
      "    TotRmsAbvGrd  TotalBsmtSF  Utilities  WoodDeckSF  YearBuilt  YearRemodAdd  \\\n",
      "Id                                                                              \n",
      "1          0.995       -0.449      0.019      -0.740      1.048         0.898   \n",
      "2         -0.285        0.500      0.019       1.617      0.156        -0.394   \n",
      "\n",
      "    YrSold  \n",
      "Id          \n",
      "1    0.157  \n",
      "2   -0.603  \n",
      "\n",
      "[2 rows x 254 columns]\n"
     ]
    }
   ],
   "source": [
    "print(X_train.head(2))"
   ]
  },
  {
   "cell_type": "code",
   "execution_count": 5,
   "metadata": {},
   "outputs": [
    {
     "name": "stdout",
     "output_type": "stream",
     "text": [
      "Id\n",
      "1   208500.000\n",
      "2   181500.000\n",
      "Name: SalePrice, dtype: float64\n"
     ]
    }
   ],
   "source": [
    "print(y_train.head(2))"
   ]
  },
  {
   "cell_type": "code",
   "execution_count": 6,
   "metadata": {},
   "outputs": [
    {
     "name": "stdout",
     "output_type": "stream",
     "text": [
      "count     1456.000\n",
      "mean    180151.234\n",
      "std      76696.593\n",
      "min      34900.000\n",
      "25%     129900.000\n",
      "50%     163000.000\n",
      "75%     214000.000\n",
      "max     625000.000\n",
      "Name: SalePrice, dtype: float64\n"
     ]
    }
   ],
   "source": [
    "print(y_train.describe())"
   ]
  },
  {
   "cell_type": "code",
   "execution_count": 7,
   "metadata": {},
   "outputs": [
    {
     "data": {
      "image/png": "[encoded data removed]",
      "text/plain": [
       "<matplotlib.figure.Figure at 0x7f377b30d9e8>"
      ]
     },
     "metadata": {},
     "output_type": "display_data"
    }
   ],
   "source": [
    "sns.distplot(y_train, fit=norm)\n",
    "plt.show()"
   ]
  },
  {
   "cell_type": "markdown",
   "metadata": {},
   "source": [
    "https://datascience.stackexchange.com/questions/20237/why-do-we-convert-skewed-data-into-a-normal-distribution"
   ]
  },
  {
   "cell_type": "code",
   "execution_count": 8,
   "metadata": {},
   "outputs": [
    {
     "data": {
      "image/png": "[encoded data removed]",
      "text/plain": [
       "<matplotlib.figure.Figure at 0x7f377b30d978>"
      ]
     },
     "metadata": {},
     "output_type": "display_data"
    }
   ],
   "source": [
    "y_train = np.log(y_train)\n",
    "sns.distplot(y_train, fit=norm)\n",
    "plt.show()"
   ]
  },
  {
   "cell_type": "code",
   "execution_count": 9,
   "metadata": {},
   "outputs": [
    {
     "name": "stdout",
     "output_type": "stream",
     "text": [
      "      BldgType_1Fam  BldgType_2fmCon  BldgType_Duplex  BldgType_Twnhs  \\\n",
      "Id                                                                      \n",
      "1461          0.452           -0.147           -0.197          -0.185   \n",
      "1462          0.452           -0.147           -0.197          -0.185   \n",
      "\n",
      "      BldgType_TwnhsE  CentralAir_N  CentralAir_Y  Condition1_Artery  \\\n",
      "Id                                                                     \n",
      "1461           -0.291        -0.268         0.268             -0.181   \n",
      "1462           -0.291        -0.268         0.268             -0.181   \n",
      "\n",
      "      Condition1_Feedr  Condition1_Norm   ...    PoolQC  ScreenPorch  Street  \\\n",
      "Id                                        ...                                  \n",
      "1461             4.109           -2.486   ...    -0.049        1.849   0.064   \n",
      "1462            -0.243            0.402   ...    -0.049       -0.286   0.064   \n",
      "\n",
      "      TotRmsAbvGrd  TotalBsmtSF  Utilities  WoodDeckSF  YearBuilt  \\\n",
      "Id                                                                  \n",
      "1461        -0.926       -0.388      0.019       0.368     -0.339   \n",
      "1462        -0.285        0.656      0.019       2.369     -0.438   \n",
      "\n",
      "      YearRemodAdd  YrSold  \n",
      "Id                          \n",
      "1461        -1.112   1.677  \n",
      "1462        -1.256   1.677  \n",
      "\n",
      "[2 rows x 254 columns]\n"
     ]
    }
   ],
   "source": [
    "print(X_test.head(2))"
   ]
  },
  {
   "cell_type": "markdown",
   "metadata": {},
   "source": [
    "## Submission function"
   ]
  },
  {
   "cell_type": "code",
   "execution_count": 10,
   "metadata": {
    "collapsed": true
   },
   "outputs": [],
   "source": [
    "def submission(model, X_test, file):\n",
    "    Id = pd.DataFrame(X_test.index, columns=['Id'])\n",
    "    y_pred = np.exp(model.predict(X_test))\n",
    "    prediction = pd.DataFrame(y_pred, columns=['SalePrice'])\n",
    "    res = pd.concat([Id, prediction], axis=1)\n",
    "    res.to_csv(path_or_buf=\"submission_\"+file,index=False)"
   ]
  },
  {
   "cell_type": "markdown",
   "metadata": {},
   "source": [
    "## Score function"
   ]
  },
  {
   "cell_type": "code",
   "execution_count": 11,
   "metadata": {
    "collapsed": true
   },
   "outputs": [],
   "source": [
    "def score(model, X, y):\n",
    "    n_folds = 5\n",
    "    kf = KFold(n_folds, shuffle=True, random_state=42).get_n_splits(X)\n",
    "    score= np.sqrt(-cross_val_score(model, X, y, scoring=\"neg_mean_squared_error\", cv = kf).mean())\n",
    "    print(\"Score=\"+str(score))"
   ]
  },
  {
   "cell_type": "markdown",
   "metadata": {},
   "source": [
    "## Grid search"
   ]
  },
  {
   "cell_type": "code",
   "execution_count": 12,
   "metadata": {
    "collapsed": true
   },
   "outputs": [],
   "source": [
    "def optimize_hyperparameters(model, param_grid, X, y):\n",
    "    grid_search = GridSearchCV(model, param_grid, scoring=\"neg_mean_squared_error\", n_jobs=N_JOBS, cv=3, verbose=1)\n",
    "    grid_search.fit(X, y)\n",
    "    print(\"Best params:\")\n",
    "    print(grid_search.best_params_)"
   ]
  },
  {
   "cell_type": "markdown",
   "metadata": {},
   "source": [
    "## Randomized search"
   ]
  },
  {
   "cell_type": "code",
   "execution_count": null,
   "metadata": {
    "collapsed": true
   },
   "outputs": [],
   "source": [
    "def optimize_hyperparameters_random(model, param_dist, n_iterations, X, y, n_jobs):\n",
    "    randomized_search = RandomizedSearchCV(model, param_distributions=param_dist, n_iter=n_iterations, scoring=\"neg_mean_squared_error\", n_jobs=n_jobs, cv=3, verbose=1)\n",
    "    randomized_search.fit(X, y)\n",
    "    print(\"Best params:\")\n",
    "    print(randomized_search.best_params_)"
   ]
  },
  {
   "cell_type": "markdown",
   "metadata": {},
   "source": [
    "## Linear model"
   ]
  },
  {
   "cell_type": "markdown",
   "metadata": {},
   "source": [
    "### Ridge"
   ]
  },
  {
   "cell_type": "code",
   "execution_count": 14,
   "metadata": {
    "collapsed": true
   },
   "outputs": [],
   "source": [
    "class PositiveRidge(Ridge): \n",
    "    def __init__(self, alpha=1.0, fit_intercept=True, normalize=False, random_state=42, negative_values=0):\n",
    "        Ridge.__init__(self, alpha, fit_intercept, normalize, random_state)\n",
    "        if negative_values < 0:\n",
    "            self.negative_values = 0\n",
    "        else:\n",
    "            self.negative_values = negative_values\n",
    "\n",
    "    def predict(self, X, y=None): \n",
    "        y_pred = Ridge.predict(self, X)\n",
    "        #if(y_pred[y_pred < 0].sum() < 0):\n",
    "        #    print(\"====Replace negative values====\")\n",
    "        y_pred[y_pred < 0] = self.negative_values\n",
    "        return y_pred"
   ]
  },
  {
   "cell_type": "code",
   "execution_count": 15,
   "metadata": {
    "collapsed": true
   },
   "outputs": [],
   "source": [
    "param_dist = {\n",
    "    \"alpha\": uniform(loc=0, scale=1000),\n",
    "    \"fit_intercept\": [True],\n",
    "    \"normalize\": [False],\n",
    "    \"random_state\": [42],\n",
    "    \"negative_values\": uniform(loc=1, scale=300000),\n",
    "}\n",
    "model = PositiveRidge()\n",
    "#optimize_hyperparameters_random(model, param_dist, 1000, X_train, y_train.values.ravel())"
   ]
  },
  {
   "cell_type": "code",
   "execution_count": 16,
   "metadata": {},
   "outputs": [
    {
     "name": "stdout",
     "output_type": "stream",
     "text": [
      "Score=0.117234971857\n"
     ]
    }
   ],
   "source": [
    "ridge = PositiveRidge(alpha=259.74725945984159, fit_intercept=True, negative_values=238901.31271523517, normalize=False, random_state=42)\n",
    "score(ridge, X_train, y_train.values.ravel()) #0.117"
   ]
  },
  {
   "cell_type": "code",
   "execution_count": 17,
   "metadata": {
    "collapsed": true
   },
   "outputs": [],
   "source": [
    "ridge.fit(X_train, y_train)\n",
    "submission(ridge, X_test, \"ridge\")"
   ]
  },
  {
   "cell_type": "markdown",
   "metadata": {},
   "source": [
    "### Lasso"
   ]
  },
  {
   "cell_type": "code",
   "execution_count": 18,
   "metadata": {
    "collapsed": true
   },
   "outputs": [],
   "source": [
    "class PositiveLasso(Lasso): \n",
    "    def __init__(self, alpha=1.0, fit_intercept=True, normalize=False, max_iter=10000, random_state=42, negative_values=0):\n",
    "        Lasso.__init__(self, alpha=alpha, fit_intercept=fit_intercept, normalize=normalize, max_iter=max_iter, random_state=random_state)\n",
    "        if negative_values < 0:\n",
    "            self.negative_values = 0\n",
    "        else:\n",
    "            self.negative_values = negative_values\n",
    "\n",
    "    def predict(self, X, y=None): \n",
    "        y_pred = Lasso.predict(self, X)\n",
    "        #if(y_pred[y_pred < 0].sum() < 0):\n",
    "        #    print(\"====Replace negative values====\")\n",
    "        y_pred[y_pred < 0] = self.negative_values\n",
    "        return y_pred"
   ]
  },
  {
   "cell_type": "code",
   "execution_count": 19,
   "metadata": {
    "collapsed": true,
    "scrolled": true
   },
   "outputs": [],
   "source": [
    "param_dist = {\n",
    "    \"alpha\": uniform(loc=0, scale=50000),\n",
    "    \"fit_intercept\": [True],\n",
    "    \"normalize\": [False],\n",
    "    \"max_iter\": [100000],\n",
    "    \"random_state\": [42],\n",
    "    \"negative_values\": uniform(loc=1, scale=300000),\n",
    "}\n",
    "model = PositiveLasso()\n",
    "#optimize_hyperparameters_random(model, param_dist, 1000, X_train, y_train.values.ravel())"
   ]
  },
  {
   "cell_type": "code",
   "execution_count": 20,
   "metadata": {},
   "outputs": [
    {
     "name": "stdout",
     "output_type": "stream",
     "text": [
      "Score=0.396157706772\n"
     ]
    }
   ],
   "source": [
    "lasso = PositiveLasso(alpha=27369.651509220639, fit_intercept=True, max_iter=10000, negative_values=203686.53493739877, normalize=False, random_state=42)\n",
    "score(lasso, X_train, y_train.values.ravel()) #0.40"
   ]
  },
  {
   "cell_type": "markdown",
   "metadata": {},
   "source": [
    "### Elastic net"
   ]
  },
  {
   "cell_type": "code",
   "execution_count": 21,
   "metadata": {
    "collapsed": true
   },
   "outputs": [],
   "source": [
    "class PositiveElasticNet(ElasticNet): \n",
    "    def __init__(self, alpha=1.0, l1_ratio=0.5, fit_intercept=True, normalize=False, max_iter=10000, random_state=42, negative_values=0):\n",
    "        ElasticNet.__init__(self, alpha=alpha, l1_ratio=l1_ratio, fit_intercept=fit_intercept, normalize=normalize, max_iter=max_iter, random_state=random_state)\n",
    "        if negative_values < 0:\n",
    "            self.negative_values = 0\n",
    "        else:\n",
    "            self.negative_values = negative_values\n",
    "\n",
    "    def predict(self, X, y=None): \n",
    "        y_pred = ElasticNet.predict(self, X)\n",
    "        #if(y_pred[y_pred < 0].sum() < 0):\n",
    "        #    print(\"====Replace negative values====\")\n",
    "        y_pred[y_pred < 0] = self.negative_values\n",
    "        return y_pred"
   ]
  },
  {
   "cell_type": "code",
   "execution_count": 22,
   "metadata": {
    "collapsed": true
   },
   "outputs": [],
   "source": [
    "param_dist = {\n",
    "    \"alpha\": uniform(loc=0, scale=1),\n",
    "    \"l1_ratio\": uniform(loc=0, scale=1),\n",
    "    \"fit_intercept\": [True],\n",
    "    \"normalize\": [False],\n",
    "    \"max_iter\": [100000],\n",
    "    \"random_state\": [42],\n",
    "    \"negative_values\": uniform(loc=1, scale=300000),\n",
    "}\n",
    "model = PositiveElasticNet()\n",
    "#optimize_hyperparameters_random(model, param_dist, 1000, X_train, y_train.values.ravel())"
   ]
  },
  {
   "cell_type": "code",
   "execution_count": 116,
   "metadata": {},
   "outputs": [
    {
     "name": "stdout",
     "output_type": "stream",
     "text": [
      "Score=0.110984373298\n"
     ]
    }
   ],
   "source": [
    "elastic_net = PositiveElasticNet(alpha=0.009, fit_intercept=True, l1_ratio=0.45, max_iter=100000, negative_values=115655.664457579, normalize=False, random_state=42)\n",
    "score(elastic_net, X_train, y_train.values.ravel()) #0.111"
   ]
  },
  {
   "cell_type": "code",
   "execution_count": 24,
   "metadata": {
    "collapsed": true
   },
   "outputs": [],
   "source": [
    "elastic_net.fit(X_train, y_train)\n",
    "submission(elastic_net, X_test, \"elastice_net\")"
   ]
  },
  {
   "cell_type": "markdown",
   "metadata": {},
   "source": [
    "## Random forest"
   ]
  },
  {
   "cell_type": "code",
   "execution_count": 25,
   "metadata": {
    "collapsed": true
   },
   "outputs": [],
   "source": [
    "param_dist = {\n",
    "    \"max_depth\": randint(1,40),\n",
    "    \"max_features\": randint(1,200),\n",
    "    \"min_samples_split\": randint(2,100),\n",
    "    \"min_samples_leaf\": randint(2,100),\n",
    "    \"bootstrap\": [True, False],\n",
    "    \"n_jobs\": [N_JOBS],\n",
    "    \"verbose\": [0], \n",
    "    \"n_estimators\": [100],\n",
    "    \"random_state\": [42],\n",
    "}\n",
    "model = RandomForestRegressor()\n",
    "#optimize_hyperparameters_random(model, param_dist, 1000, X_train, y_train.values.ravel())"
   ]
  },
  {
   "cell_type": "code",
   "execution_count": 26,
   "metadata": {},
   "outputs": [
    {
     "name": "stdout",
     "output_type": "stream",
     "text": [
      "Score=0.134101259992\n"
     ]
    }
   ],
   "source": [
    "random_forest = RandomForestRegressor(bootstrap=\"False\", max_depth=30, max_features=81, min_samples_leaf=3, min_samples_split=5, n_estimators=100, n_jobs=-1, random_state=42)\n",
    "score(random_forest, X_train, y_train.values.ravel()) #0.134"
   ]
  },
  {
   "cell_type": "code",
   "execution_count": 27,
   "metadata": {
    "collapsed": true
   },
   "outputs": [],
   "source": [
    "random_forest.fit(X_train, y_train)\n",
    "submission(random_forest, X_test, \"random_forest\")"
   ]
  },
  {
   "cell_type": "markdown",
   "metadata": {},
   "source": [
    "## XGBoost"
   ]
  },
  {
   "cell_type": "code",
   "execution_count": 28,
   "metadata": {
    "collapsed": true
   },
   "outputs": [],
   "source": [
    "param_dist = {\n",
    "    \"max_depth\": randint(1,100),\n",
    "    \"min_child_weight\": randint(0,1000),\n",
    "    \"gamma\": randint(0,100),\n",
    "    \"n_estimators\": [10],\n",
    "    \"silent\": [False],\n",
    "    \"n_jobs\": [N_JOBS],\n",
    "    \"random_state\": [42],\n",
    "}\n",
    "XGBoost = xgb.XGBRegressor()\n",
    "#optimize_hyperparameters_random(XGBoost, param_dist, 100, X_train, y_train.values.ravel())"
   ]
  },
  {
   "cell_type": "code",
   "execution_count": 85,
   "metadata": {},
   "outputs": [
    {
     "name": "stdout",
     "output_type": "stream",
     "text": [
      "Score=0.118012143443\n"
     ]
    }
   ],
   "source": [
    "XGBoost = xgb.XGBRegressor(\n",
    "    colsample_bytree=0.2,\n",
    "    gamma=0.0, \n",
    "    learning_rate=0.05,\n",
    "    max_depth=6,\n",
    "    min_child_weight=1.5,\n",
    "    n_estimators=7200,\n",
    "    reg_alpha=0.9,\n",
    "    reg_lambda=0.6,\n",
    "    subsample=0.2,\n",
    "    seed=42,\n",
    "    silent=1,\n",
    "    nthread=8)\n",
    "score(XGBoost, X_train, y_train.values.ravel()) #0.118"
   ]
  },
  {
   "cell_type": "code",
   "execution_count": 30,
   "metadata": {
    "collapsed": true
   },
   "outputs": [],
   "source": [
    "XGBoost.fit(X_train, y_train)\n",
    "submission(XGBoost, X_test, \"XGBoost\")"
   ]
  },
  {
   "cell_type": "code",
   "execution_count": 31,
   "metadata": {
    "collapsed": true
   },
   "outputs": [],
   "source": [
    "param_grid = {\n",
    "    \"max_depth\": [1, 25, 50],\n",
    "    \"learning_rate\": [0.25, 0.50],\n",
    "    \"min_child_weight\": [1, 20, 50],\n",
    "    \"gamma\": [1, 50, 75],\n",
    "    \"n_estimators\": [10],\n",
    "    \"silent\": [False],\n",
    "    \"n_jobs\": [N_JOBS],\n",
    "    \"random_state\": [42], \n",
    "    }\n",
    "model = xgb.XGBRegressor()\n",
    "#optimize_hyperparameters(model,param_grid, X_train, y_train.values.ravel())"
   ]
  },
  {
   "cell_type": "code",
   "execution_count": 31,
   "metadata": {
    "collapsed": true
   },
   "outputs": [],
   "source": [
    "#XGBoost = xgb.XGBRegressor(gamma=1, learning_rate=0.5, max_depth=25, min_child_weight=1, n_estimators=10, n_jobs=-1, random_state=42)\n",
    "#score(XGBoost, X_train, y_train.values.ravel()) #0.145"
   ]
  },
  {
   "cell_type": "markdown",
   "metadata": {},
   "source": [
    "## SVM"
   ]
  },
  {
   "cell_type": "markdown",
   "metadata": {},
   "source": [
    "### kernel: [linear, poly, rbf, sigmoid, precomputed]"
   ]
  },
  {
   "cell_type": "code",
   "execution_count": 42,
   "metadata": {},
   "outputs": [
    {
     "name": "stdout",
     "output_type": "stream",
     "text": [
      "Fitting 3 folds for each of 300 candidates, totalling 900 fits\n"
     ]
    },
    {
     "name": "stderr",
     "output_type": "stream",
     "text": [
      "[Parallel(n_jobs=-1)]: Done  52 tasks      | elapsed:    1.5s\n",
      "[Parallel(n_jobs=-1)]: Done 352 tasks      | elapsed:   10.3s\n",
      "[Parallel(n_jobs=-1)]: Done 852 tasks      | elapsed:   24.9s\n"
     ]
    },
    {
     "name": "stdout",
     "output_type": "stream",
     "text": [
      "Best params:\n",
      "{'C': 22297.166523399315, 'dual': False, 'epsilon': 0, 'loss': 'squared_epsilon_insensitive', 'max_iter': 1000}\n"
     ]
    },
    {
     "name": "stderr",
     "output_type": "stream",
     "text": [
      "[Parallel(n_jobs=-1)]: Done 900 out of 900 | elapsed:   26.1s finished\n"
     ]
    }
   ],
   "source": [
    "param_dist = {\n",
    "    \"C\": uniform(0, 100000),\n",
    "    \"epsilon\": [0],\n",
    "    \"max_iter\": [1000],\n",
    "    \"dual\": [False],\n",
    "    \"loss\": [\"squared_epsilon_insensitive\"]\n",
    "    }\n",
    "model = LinearSVR()\n",
    "optimize_hyperparameters_random(model, param_dist, 300, X_train, y_train.values.ravel())"
   ]
  },
  {
   "cell_type": "code",
   "execution_count": 43,
   "metadata": {},
   "outputs": [
    {
     "name": "stdout",
     "output_type": "stream",
     "text": [
      "Score=1.79416378644\n"
     ]
    }
   ],
   "source": [
    "svm_linear = LinearSVR(C=22297.166523399315, dual=False, epsilon=0, loss=\"squared_epsilon_insensitive\", max_iter=1000)\n",
    "score(svm_linear, X_train, y_train.values.ravel()) #0.134"
   ]
  },
  {
   "cell_type": "code",
   "execution_count": 26,
   "metadata": {
    "collapsed": true
   },
   "outputs": [],
   "source": [
    "svm_linear.fit(X_train, y_train)\n",
    "submission(svm_linear, X_test, \"svm\")"
   ]
  },
  {
   "cell_type": "code",
   "execution_count": null,
   "metadata": {},
   "outputs": [
    {
     "name": "stdout",
     "output_type": "stream",
     "text": [
      "Fitting 3 folds for each of 100 candidates, totalling 300 fits\n"
     ]
    }
   ],
   "source": [
    "param_dist = {\n",
    "    \"kernel\": ['linear'],\n",
    "    \"C\": uniform(0.1,200),\n",
    "    \"epsilon\": uniform(loc=0, scale=1),\n",
    "    \"cache_size\": [5000],\n",
    "}\n",
    "model = SVR()\n",
    "optimize_hyperparameters_random(model, param_dist, 100, X_train, y_train.values.ravel())"
   ]
  },
  {
   "cell_type": "code",
   "execution_count": 126,
   "metadata": {},
   "outputs": [
    {
     "name": "stdout",
     "output_type": "stream",
     "text": [
      "Score=0.16958264341\n"
     ]
    }
   ],
   "source": [
    "svm = SVR(C=83.144409878382945, cache_size=5000, epsilon=0.39823088915121874, kernel='linear')\n",
    "score(svm, X_train, y_train.values.ravel()) #0.135"
   ]
  },
  {
   "cell_type": "code",
   "execution_count": null,
   "metadata": {
    "collapsed": true,
    "scrolled": true
   },
   "outputs": [],
   "source": [
    "param_dist = {\n",
    "    \"kernel\": ['poly'],\n",
    "    \"degree\": randint(1,5),\n",
    "    \"C\": randint(0,20000),\n",
    "    \"epsilon\": uniform(loc=0, scale=1),\n",
    "    \"shrinking\": [False, True], \n",
    "    \"cache_size\": [5000],\n",
    "}\n",
    "model = SVR()\n",
    "optimize_hyperparameters_random(model, param_dist, 100, X_train, y_train.values.ravel())"
   ]
  },
  {
   "cell_type": "code",
   "execution_count": 48,
   "metadata": {},
   "outputs": [
    {
     "name": "stdout",
     "output_type": "stream",
     "text": [
      "Score=0.248083448588\n"
     ]
    }
   ],
   "source": [
    "svm = SVR(C=6322, degree=2, cache_size=5000, epsilon=0.29799211072674692, kernel='poly', shrinking=False)\n",
    "score(svm, X_train, y_train.values.ravel()) #0.248"
   ]
  },
  {
   "cell_type": "code",
   "execution_count": 77,
   "metadata": {},
   "outputs": [
    {
     "name": "stdout",
     "output_type": "stream",
     "text": [
      "Fitting 5 folds for each of 100 candidates, totalling 500 fits\n"
     ]
    },
    {
     "name": "stderr",
     "output_type": "stream",
     "text": [
      "[Parallel(n_jobs=-1)]: Done  34 tasks      | elapsed:    5.8s\n",
      "[Parallel(n_jobs=-1)]: Done 184 tasks      | elapsed:   26.8s\n",
      "[Parallel(n_jobs=-1)]: Done 434 tasks      | elapsed:  1.0min\n",
      "[Parallel(n_jobs=-1)]: Done 500 out of 500 | elapsed:  1.2min finished\n"
     ]
    },
    {
     "name": "stdout",
     "output_type": "stream",
     "text": [
      "Best params:\n",
      "{'C': 1397, 'cache_size': 5000, 'epsilon': 139.00647643017697, 'gamma': 0.023103258942649085, 'kernel': 'rbf', 'shrinking': False}\n"
     ]
    }
   ],
   "source": [
    "param_dist = {\n",
    "    \"kernel\": ['rbf'],\n",
    "    \"C\": randint(0,7000),\n",
    "    \"gamma\": uniform(loc=0, scale=1),\n",
    "    \"epsilon\": uniform(loc=0, scale=300),\n",
    "    \"shrinking\": [False, True], \n",
    "    \"cache_size\": [5000],\n",
    "}\n",
    "optimize_random_hyperparameters_SVR(param_dist, 100, X_train, y_train.values.ravel())"
   ]
  },
  {
   "cell_type": "code",
   "execution_count": 29,
   "metadata": {},
   "outputs": [
    {
     "name": "stdout",
     "output_type": "stream",
     "text": [
      "Score=0.384041496872\n"
     ]
    },
    {
     "data": {
      "text/plain": [
       "0.38404149687170142"
      ]
     },
     "execution_count": 29,
     "metadata": {},
     "output_type": "execute_result"
    }
   ],
   "source": [
    "svm = SVR(C=1397, degree=1, cache_size=5000, epsilon=139.00647643017697, gamma=0.023103258942649085, kernel='rbf', shrinking=False)\n",
    "score(svm, X_train, y_train.values.ravel()) #0.135"
   ]
  },
  {
   "cell_type": "markdown",
   "metadata": {},
   "source": [
    "## Learning curves"
   ]
  },
  {
   "cell_type": "code",
   "execution_count": 32,
   "metadata": {
    "collapsed": true
   },
   "outputs": [],
   "source": [
    "def plot_learning_curve(estimator, title, X, y, cv=None, n_jobs=-1,ylim=None, train_sizes=np.linspace(.1, 1.0, 5)):\n",
    "    \"\"\"\n",
    "    Generate a simple plot of the test and training learning curve.\n",
    "\n",
    "    Parameters\n",
    "    ----------\n",
    "    estimator : object type that implements the \"fit\" and \"predict\" methods\n",
    "        An object of that type which is cloned for each validation.\n",
    "\n",
    "    title : string\n",
    "        Title for the chart.\n",
    "\n",
    "    X : array-like, shape (n_samples, n_features)\n",
    "        Training vector, where n_samples is the number of samples and\n",
    "        n_features is the number of features.\n",
    "\n",
    "    y : array-like, shape (n_samples) or (n_samples, n_features), optional\n",
    "        Target relative to X for classification or regression;\n",
    "        None for unsupervised learning.\n",
    "\n",
    "    ylim : tuple, shape (ymin, ymax), optional\n",
    "        Defines minimum and maximum yvalues plotted.\n",
    "\n",
    "    cv : int, cross-validation generator or an iterable, optional\n",
    "        Determines the cross-validation splitting strategy.\n",
    "        Possible inputs for cv are:\n",
    "          - None, to use the default 3-fold cross-validation,\n",
    "          - integer, to specify the number of folds.\n",
    "          - An object to be used as a cross-validation generator.\n",
    "          - An iterable yielding train/test splits.\n",
    "\n",
    "        For integer/None inputs, if ``y`` is binary or multiclass,\n",
    "        :class:`StratifiedKFold` used. If the estimator is not a classifier\n",
    "        or if ``y`` is neither binary nor multiclass, :class:`KFold` is used.\n",
    "\n",
    "        Refer :ref:`User Guide <cross_validation>` for the various\n",
    "        cross-validators that can be used here.\n",
    "\n",
    "    n_jobs : integer, optional\n",
    "        Number of jobs to run in parallel (default 1).\n",
    "    \"\"\"\n",
    "    plt.figure()\n",
    "    plt.title(title)\n",
    "    if ylim is not None:\n",
    "        plt.ylim(*ylim)\n",
    "    plt.xlabel(\"Training examples\")\n",
    "    plt.ylabel(\"Score\")\n",
    "    train_sizes, train_scores, test_scores = learning_curve(estimator, X, y, scoring=make_scorer(mean_squared_error, greater_is_better=False), cv=cv, n_jobs=n_jobs, train_sizes=train_sizes, verbose=1)\n",
    "    train_scores_mean = np.sqrt(-np.mean(train_scores, axis=1))\n",
    "    #train_scores_std = np.std(train_scores, axis=1)\n",
    "    test_scores_mean = np.sqrt(-np.mean(test_scores, axis=1))\n",
    "    #test_scores_std = np.std(test_scores, axis=1)\n",
    "    plt.grid()\n",
    "\n",
    "    #plt.fill_between(train_sizes, train_scores_mean - train_scores_std, train_scores_mean + train_scores_std, alpha=0.1, color=\"r\")\n",
    "    #plt.fill_between(train_sizes, test_scores_mean - test_scores_std, test_scores_mean + test_scores_std, alpha=0.1, color=\"g\")\n",
    "    plt.plot(train_sizes, train_scores_mean, 'o-', color=\"r\", label=\"Training score\")\n",
    "    plt.plot(train_sizes, test_scores_mean, 'o-', color=\"g\", label=\"Cross-validation score\")\n",
    "\n",
    "    plt.legend(loc=\"best\")\n",
    "    return plt"
   ]
  },
  {
   "cell_type": "code",
   "execution_count": 33,
   "metadata": {
    "scrolled": false
   },
   "outputs": [
    {
     "name": "stdout",
     "output_type": "stream",
     "text": [
      "[learning_curve] Training set sizes: [ 116  378  640  902 1164]\n",
      "[learning_curve] Training set sizes: [ 116  378  640  902 1164]\n"
     ]
    },
    {
     "name": "stderr",
     "output_type": "stream",
     "text": [
      "[Parallel(n_jobs=-1)]: Done  50 out of  50 | elapsed:    1.1s finished\n",
      "[Parallel(n_jobs=-1)]: Done  50 out of  50 | elapsed:    3.8s finished\n"
     ]
    },
    {
     "name": "stdout",
     "output_type": "stream",
     "text": [
      "[learning_curve] Training set sizes: [ 116  378  640  902 1164]\n"
     ]
    },
    {
     "name": "stderr",
     "output_type": "stream",
     "text": [
      "[Parallel(n_jobs=1)]: Done  50 out of  50 | elapsed:  1.5min finished\n"
     ]
    },
    {
     "data": {
      "image/png": "[encoded data removed]",
      "text/plain": [
       "<matplotlib.figure.Figure at 0x7f3773051550>"
      ]
     },
     "metadata": {},
     "output_type": "display_data"
    },
    {
     "data": {
      "image/png": "[encoded data removed]",
      "text/plain": [
       "<matplotlib.figure.Figure at 0x7f3773051748>"
      ]
     },
     "metadata": {},
     "output_type": "display_data"
    },
    {
     "data": {
      "image/png": "[encoded data removed]",
      "text/plain": [
       "<matplotlib.figure.Figure at 0x7f37730514e0>"
      ]
     },
     "metadata": {},
     "output_type": "display_data"
    }
   ],
   "source": [
    "title = \"Learning Curves (Ridge)\"\n",
    "cv = ShuffleSplit(n_splits=10, test_size=0.2, random_state=0)\n",
    "#plot_learning_curve(ridge, title, X_train, y_train, cv=cv, n_jobs=-1)\n",
    "\n",
    "title = \"Learning Curves (elastic_net)\"\n",
    "cv = ShuffleSplit(n_splits=10, test_size=0.2, random_state=0)\n",
    "plot_learning_curve(elastic_net, title, X_train, y_train, cv=cv, n_jobs=-1)\n",
    "\n",
    "title = \"Learning Curves (RF)\"\n",
    "cv = ShuffleSplit(n_splits=10, test_size=0.2, random_state=0)\n",
    "plot_learning_curve(random_forest, title, X_train, y_train, cv=cv, n_jobs=-1)\n",
    "\n",
    "title = \"Learning Curves (XGBoost)\"\n",
    "cv = ShuffleSplit(n_splits=10, test_size=0.2, random_state=0)\n",
    "plot_learning_curve(XGBoost, title, X_train, y_train, cv=cv, n_jobs=1)\n",
    "\n",
    "title = \"Learning Curves (SVM, linear kernel)\"\n",
    "cv = ShuffleSplit(n_splits=10, test_size=0.2, random_state=0)\n",
    "#plot_learning_curve(svm_linear, title, X_train, y_train, cv=cv, n_jobs=-1)\n",
    "\n",
    "plt.show()"
   ]
  },
  {
   "cell_type": "markdown",
   "metadata": {},
   "source": [
    "## Accuracy"
   ]
  },
  {
   "cell_type": "code",
   "execution_count": 35,
   "metadata": {
    "collapsed": true
   },
   "outputs": [],
   "source": [
    "def plot_accuracy(model, title, X_train, y_train, n_jobs=-1):\n",
    "    y_pred = cross_val_predict(model, X_train, y_train, n_jobs=n_jobs)\n",
    "    plt.figure()\n",
    "    plt.title(title)\n",
    "    plt.xlabel(\"y_true\")\n",
    "    plt.ylabel(\"y_pred\")\n",
    "    plt.grid()\n",
    "\n",
    "    plt.plot(y_train, y_pred, 'o', color=\"r\")\n",
    "    plt.legend(['r^2='+str(r2_score(y_train, y_pred))])\n",
    "    #plt.plot(train_sizes, test_scores_mean, 'o-', color=\"g\", label=\"Cross-validation score\")\n",
    "    x = np.linspace(y_train.min(), y_train.max(), 400)\n",
    "    plt.plot(x, x, '.', color=\"g\")\n",
    "\n",
    "    plt.legend(loc=\"best\")\n",
    "    \n",
    "    return plt"
   ]
  },
  {
   "cell_type": "code",
   "execution_count": 51,
   "metadata": {},
   "outputs": [
    {
     "data": {
      "image/png": "[encoded data removed]",
      "text/plain": [
       "<matplotlib.figure.Figure at 0x7f37702cab00>"
      ]
     },
     "metadata": {},
     "output_type": "display_data"
    },
    {
     "data": {
      "image/png": "[encoded data removed]",
      "text/plain": [
       "<matplotlib.figure.Figure at 0x7f3770277b00>"
      ]
     },
     "metadata": {},
     "output_type": "display_data"
    },
    {
     "data": {
      "image/png": "[encoded data removed]",
      "text/plain": [
       "<matplotlib.figure.Figure at 0x7f3770369cf8>"
      ]
     },
     "metadata": {},
     "output_type": "display_data"
    }
   ],
   "source": [
    "title = \"Accuracy (Ridge)\"\n",
    "#plot_accuracy(ridge, title, X_train, y_train, n_jobs=-1)\n",
    "\n",
    "title = \"Accuracy (elastic_net)\"\n",
    "plot_accuracy(elastic_net, title, X_train, y_train, n_jobs=-1)\n",
    "\n",
    "title = \"Accuracy (RF)\"\n",
    "plot_accuracy(random_forest, title, X_train, y_train, n_jobs=-1)\n",
    "\n",
    "title = \"Accuracy (XGBoost)\"\n",
    "plot_accuracy(XGBoost, title, X_train, y_train, n_jobs=1)\n",
    "\n",
    "title = \"Accuracy (SVM, linear kernel)\"\n",
    "#plot_accuracy(svm_linear, title, X_train, y_train, n_jobs=-1)\n",
    "\n",
    "plt.show()"
   ]
  },
  {
   "cell_type": "markdown",
   "metadata": {
    "collapsed": true
   },
   "source": [
    "## Stacking"
   ]
  },
  {
   "cell_type": "code",
   "execution_count": 79,
   "metadata": {
    "collapsed": true
   },
   "outputs": [],
   "source": [
    "class Stacking(BaseEstimator, RegressorMixin): \n",
    "    def __init__(self, model_1, model_2, alpha=1 ,l1_ratio=0.5, max_iter=1000, random_state=42):\n",
    "        self.model_1 = model_1\n",
    "        self.model_2 = model_2\n",
    "        \n",
    "        self.alpha=alpha\n",
    "        self.l1_ratio=l1_ratio\n",
    "        self.max_iter=max_iter\n",
    "        self.random_state=random_state\n",
    "        \n",
    "    def fit(self, X, y):\n",
    "        print(\"alpha=\"+str(self.alpha))\n",
    "        print(\"l1_ratio=\"+str(self.l1_ratio))\n",
    "        self.blender = ElasticNet(alpha=self.alpha ,l1_ratio=self.l1_ratio, max_iter=self.max_iter, random_state=self.random_state)\n",
    "\n",
    "        X_1, X_2, y_1, y_2 = train_test_split(X, y, test_size=0.2, shuffle=True, random_state=42)\n",
    "        self.model_1.fit(X_1, y_1)\n",
    "        self.model_2.fit(X_1, y_1)\n",
    "        \n",
    "        y_model_1 = pd.DataFrame(self.model_1.predict(X_2), columns=[\"y_model_1\"])\n",
    "        y_model_2 = pd.DataFrame(self.model_2.predict(X_2), columns=[\"y_model_2\"])\n",
    "\n",
    "        X_3 = pd.concat([y_model_1, y_model_2], axis=1)\n",
    "\n",
    "        self.blender.fit(X_3, y_2)\n",
    "        \n",
    "    def predict(self, X, y=None): \n",
    "        y_model_1 = pd.DataFrame(self.model_1.predict(X), columns=[\"y_model_1\"])\n",
    "        y_model_2 = pd.DataFrame(self.model_2.predict(X), columns=[\"y_model_2\"])\n",
    "\n",
    "        X_blender = pd.concat([y_model_1, y_model_2], axis=1)\n",
    "        \n",
    "        y_pred = self.blender.predict(X_blender)\n",
    "        return y_pred"
   ]
  },
  {
   "cell_type": "code",
   "execution_count": 80,
   "metadata": {},
   "outputs": [],
   "source": [
    "param_dist = {\n",
    "    \"alpha\": uniform(loc=0, scale=1),\n",
    "    \"l1_ratio\": uniform(loc=0, scale=1),\n",
    "    \"max_iter\": [100000],\n",
    "    \"random_state\": [42],\n",
    "}\n",
    "model = Stacking(elastic_net, XGBoost)\n",
    "#optimize_hyperparameters_random(model, param_dist, 10, X_train, y_train.values.ravel())"
   ]
  },
  {
   "cell_type": "code",
   "execution_count": 120,
   "metadata": {},
   "outputs": [
    {
     "name": "stdout",
     "output_type": "stream",
     "text": [
      "alpha=0.01\n",
      "l1_ratio=0\n"
     ]
    },
    {
     "name": "stderr",
     "output_type": "stream",
     "text": [
      "/home/ubuntu/anaconda3/lib/python3.6/site-packages/sklearn/linear_model/coordinate_descent.py:491: ConvergenceWarning: Objective did not converge. You might want to increase the number of iterations. Fitting data with very small alpha may cause precision problems.\n",
      "  ConvergenceWarning)\n"
     ]
    }
   ],
   "source": [
    "model = Stacking(elastic_net, XGBoost)\n",
    "model.set_params(alpha=0.01, l1_ratio=0, max_iter=100000, random_state=42)\n",
    "model.fit(X_train, y_train)"
   ]
  },
  {
   "cell_type": "code",
   "execution_count": 121,
   "metadata": {
    "collapsed": true
   },
   "outputs": [],
   "source": [
    "submission(model, X_test, \"stack\")"
   ]
  },
  {
   "cell_type": "code",
   "execution_count": 122,
   "metadata": {},
   "outputs": [
    {
     "name": "stdout",
     "output_type": "stream",
     "text": [
      "alpha=0.01\n",
      "l1_ratio=0\n",
      "alpha=0.01\n",
      "l1_ratio=0\n",
      "alpha=0.01\n",
      "l1_ratio=0\n"
     ]
    },
    {
     "data": {
      "image/png": "[encoded data removed]",
      "text/plain": [
       "<matplotlib.figure.Figure at 0x7f3753792898>"
      ]
     },
     "metadata": {},
     "output_type": "display_data"
    }
   ],
   "source": [
    "title = \"Accuracy (stack)\"\n",
    "plot_accuracy(model, title, X_train, y_train, n_jobs=1)\n",
    "\n",
    "plt.show()"
   ]
  },
  {
   "cell_type": "code",
   "execution_count": 123,
   "metadata": {},
   "outputs": [
    {
     "name": "stdout",
     "output_type": "stream",
     "text": [
      "alpha=0.01\n",
      "l1_ratio=0\n",
      "alpha=0.01\n",
      "l1_ratio=0\n",
      "alpha=0.01\n",
      "l1_ratio=0\n",
      "alpha=0.01\n",
      "l1_ratio=0\n",
      "alpha=0.01\n",
      "l1_ratio=0\n",
      "Score=0.111944918631\n"
     ]
    }
   ],
   "source": [
    "score(model, X_train, y_train.values.ravel()) #0.112"
   ]
  },
  {
   "cell_type": "markdown",
   "metadata": {},
   "source": [
    "0.121 on leaderboard"
   ]
  },
  {
   "cell_type": "code",
   "execution_count": null,
   "metadata": {
    "collapsed": true
   },
   "outputs": [],
   "source": []
  }
 ],
 "metadata": {
  "kernelspec": {
   "display_name": "Python 3",
   "language": "python",
   "name": "python3"
  },
  "language_info": {
   "codemirror_mode": {
    "name": "ipython",
    "version": 3
   },
   "file_extension": ".py",
   "mimetype": "text/x-python",
   "name": "python",
   "nbconvert_exporter": "python",
   "pygments_lexer": "ipython3",
   "version": "3.6.3"
  }
 },
 "nbformat": 4,
 "nbformat_minor": 2
}
